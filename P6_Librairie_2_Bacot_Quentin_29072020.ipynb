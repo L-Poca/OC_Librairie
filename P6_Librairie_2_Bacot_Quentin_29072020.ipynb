{
 "cells": [
  {
   "cell_type": "markdown",
   "id": "ab3fa66b",
   "metadata": {},
   "source": [
    "### Sommaire\n",
    "\n",
    "* [Préparation](#chapter1)\n",
    "\n",
    "    * [Initialisation](#section_1_1)\n",
    "    * [Analyse et Adaptation des données](#section_1_2)    \n",
    "        *[Exploration des produits](#section_1_2_1)        \n",
    "        *[Exploration du fichier Clients](#section_1_2_2)   \n",
    "        *[Exploration du fichier transactions](#section_1_2_3)\n",
    "    * [Mise en place de la base de données globale](#section_1_3)  \n",
    "        \n",
    "* [Analyse Des données](#chapter2)\n",
    "    * [Etude Des Chiffres d'affaires](#Section_2_1)\n",
    "    * [Analyse Univariée de l'âge](#Section_2_2)\n",
    "    * [étude des paniers](#Section_2_3)\n",
    "    * [Repartition des ventes par catégorie de livres](#Section_2_4)\n",
    "    * [Analyse des tops et des flops par livre](#Section_2_5)\n",
    "    * [Analyse du Chiffres d'affaires par catégories](#Section_2_6)\n",
    "    * [Analyse du CA par Client + Courbes](#Section_2_7)\n",
    "    * [Recherche de corrélations Statistiques](#Section_2_8)\n",
    "    * [Recherche de corrélation entre l'age et le chiffre d'affaire](#Section_2_9)\n",
    "    *[Fréquence D'achats](#Section_2_FA)\n",
    "    * [Correlation entre l'age et la taille du panier moyen](#Section_2_10)\n",
    "    * [Categorie de livre achetés par age](#Section_2_11)"
   ]
  },
  {
   "cell_type": "markdown",
   "id": "b9ae8c12",
   "metadata": {},
   "source": [
    "### Préparation <a class=\"anchor\" id=\"chapter1\"></a>"
   ]
  },
  {
   "cell_type": "markdown",
   "id": "867e0a42",
   "metadata": {},
   "source": [
    "### Initialisation <a class=\"anchor\" id=\"section_1_1\"></a>\n"
   ]
  },
  {
   "cell_type": "code",
   "execution_count": 1,
   "id": "0140b459",
   "metadata": {},
   "outputs": [],
   "source": [
    "import pandas as pd\n",
    "import matplotlib.pyplot as plt\n",
    "import numpy as np\n",
    "import warnings\n",
    "from datetime import date \n",
    "warnings.filterwarnings('ignore')\n",
    "\n",
    "from scipy.stats import ttest_1samp\n",
    "from scipy.stats import f_oneway\n",
    "from scipy.stats import chi2_contingency\n",
    "from scipy.stats import chi2\n",
    "from scipy.stats import pearsonr\n",
    "from scipy.stats import shapiro"
   ]
  },
  {
   "cell_type": "code",
   "execution_count": 2,
   "id": "ac3df50e",
   "metadata": {},
   "outputs": [
    {
     "data": {
      "text/html": [
       "<div>\n",
       "<style scoped>\n",
       "    .dataframe tbody tr th:only-of-type {\n",
       "        vertical-align: middle;\n",
       "    }\n",
       "\n",
       "    .dataframe tbody tr th {\n",
       "        vertical-align: top;\n",
       "    }\n",
       "\n",
       "    .dataframe thead th {\n",
       "        text-align: right;\n",
       "    }\n",
       "</style>\n",
       "<table border=\"1\" class=\"dataframe\">\n",
       "  <thead>\n",
       "    <tr style=\"text-align: right;\">\n",
       "      <th></th>\n",
       "      <th>client_id</th>\n",
       "      <th>sex</th>\n",
       "      <th>birth</th>\n",
       "    </tr>\n",
       "  </thead>\n",
       "  <tbody>\n",
       "    <tr>\n",
       "      <th>0</th>\n",
       "      <td>c_4410</td>\n",
       "      <td>f</td>\n",
       "      <td>1967</td>\n",
       "    </tr>\n",
       "    <tr>\n",
       "      <th>1</th>\n",
       "      <td>c_7839</td>\n",
       "      <td>f</td>\n",
       "      <td>1975</td>\n",
       "    </tr>\n",
       "    <tr>\n",
       "      <th>2</th>\n",
       "      <td>c_1699</td>\n",
       "      <td>f</td>\n",
       "      <td>1984</td>\n",
       "    </tr>\n",
       "    <tr>\n",
       "      <th>3</th>\n",
       "      <td>c_5961</td>\n",
       "      <td>f</td>\n",
       "      <td>1962</td>\n",
       "    </tr>\n",
       "    <tr>\n",
       "      <th>4</th>\n",
       "      <td>c_5320</td>\n",
       "      <td>m</td>\n",
       "      <td>1943</td>\n",
       "    </tr>\n",
       "    <tr>\n",
       "      <th>...</th>\n",
       "      <td>...</td>\n",
       "      <td>...</td>\n",
       "      <td>...</td>\n",
       "    </tr>\n",
       "    <tr>\n",
       "      <th>8618</th>\n",
       "      <td>c_7920</td>\n",
       "      <td>m</td>\n",
       "      <td>1956</td>\n",
       "    </tr>\n",
       "    <tr>\n",
       "      <th>8619</th>\n",
       "      <td>c_7403</td>\n",
       "      <td>f</td>\n",
       "      <td>1970</td>\n",
       "    </tr>\n",
       "    <tr>\n",
       "      <th>8620</th>\n",
       "      <td>c_5119</td>\n",
       "      <td>m</td>\n",
       "      <td>1974</td>\n",
       "    </tr>\n",
       "    <tr>\n",
       "      <th>8621</th>\n",
       "      <td>c_5643</td>\n",
       "      <td>f</td>\n",
       "      <td>1968</td>\n",
       "    </tr>\n",
       "    <tr>\n",
       "      <th>8622</th>\n",
       "      <td>c_84</td>\n",
       "      <td>f</td>\n",
       "      <td>1982</td>\n",
       "    </tr>\n",
       "  </tbody>\n",
       "</table>\n",
       "<p>8623 rows × 3 columns</p>\n",
       "</div>"
      ],
      "text/plain": [
       "     client_id sex  birth\n",
       "0       c_4410   f   1967\n",
       "1       c_7839   f   1975\n",
       "2       c_1699   f   1984\n",
       "3       c_5961   f   1962\n",
       "4       c_5320   m   1943\n",
       "...        ...  ..    ...\n",
       "8618    c_7920   m   1956\n",
       "8619    c_7403   f   1970\n",
       "8620    c_5119   m   1974\n",
       "8621    c_5643   f   1968\n",
       "8622      c_84   f   1982\n",
       "\n",
       "[8623 rows x 3 columns]"
      ]
     },
     "execution_count": 2,
     "metadata": {},
     "output_type": "execute_result"
    }
   ],
   "source": [
    "customers = pd.read_csv (\"customers.csv\")\n",
    "customers"
   ]
  },
  {
   "cell_type": "code",
   "execution_count": 3,
   "id": "c00a7225",
   "metadata": {},
   "outputs": [
    {
     "data": {
      "text/html": [
       "<div>\n",
       "<style scoped>\n",
       "    .dataframe tbody tr th:only-of-type {\n",
       "        vertical-align: middle;\n",
       "    }\n",
       "\n",
       "    .dataframe tbody tr th {\n",
       "        vertical-align: top;\n",
       "    }\n",
       "\n",
       "    .dataframe thead th {\n",
       "        text-align: right;\n",
       "    }\n",
       "</style>\n",
       "<table border=\"1\" class=\"dataframe\">\n",
       "  <thead>\n",
       "    <tr style=\"text-align: right;\">\n",
       "      <th></th>\n",
       "      <th>id_prod</th>\n",
       "      <th>price</th>\n",
       "      <th>categ</th>\n",
       "    </tr>\n",
       "  </thead>\n",
       "  <tbody>\n",
       "    <tr>\n",
       "      <th>0</th>\n",
       "      <td>0_1421</td>\n",
       "      <td>19.99</td>\n",
       "      <td>0</td>\n",
       "    </tr>\n",
       "    <tr>\n",
       "      <th>1</th>\n",
       "      <td>0_1368</td>\n",
       "      <td>5.13</td>\n",
       "      <td>0</td>\n",
       "    </tr>\n",
       "    <tr>\n",
       "      <th>2</th>\n",
       "      <td>0_731</td>\n",
       "      <td>17.99</td>\n",
       "      <td>0</td>\n",
       "    </tr>\n",
       "    <tr>\n",
       "      <th>3</th>\n",
       "      <td>1_587</td>\n",
       "      <td>4.99</td>\n",
       "      <td>1</td>\n",
       "    </tr>\n",
       "    <tr>\n",
       "      <th>4</th>\n",
       "      <td>0_1507</td>\n",
       "      <td>3.99</td>\n",
       "      <td>0</td>\n",
       "    </tr>\n",
       "    <tr>\n",
       "      <th>...</th>\n",
       "      <td>...</td>\n",
       "      <td>...</td>\n",
       "      <td>...</td>\n",
       "    </tr>\n",
       "    <tr>\n",
       "      <th>3282</th>\n",
       "      <td>2_23</td>\n",
       "      <td>115.99</td>\n",
       "      <td>2</td>\n",
       "    </tr>\n",
       "    <tr>\n",
       "      <th>3283</th>\n",
       "      <td>0_146</td>\n",
       "      <td>17.14</td>\n",
       "      <td>0</td>\n",
       "    </tr>\n",
       "    <tr>\n",
       "      <th>3284</th>\n",
       "      <td>0_802</td>\n",
       "      <td>11.22</td>\n",
       "      <td>0</td>\n",
       "    </tr>\n",
       "    <tr>\n",
       "      <th>3285</th>\n",
       "      <td>1_140</td>\n",
       "      <td>38.56</td>\n",
       "      <td>1</td>\n",
       "    </tr>\n",
       "    <tr>\n",
       "      <th>3286</th>\n",
       "      <td>0_1920</td>\n",
       "      <td>25.16</td>\n",
       "      <td>0</td>\n",
       "    </tr>\n",
       "  </tbody>\n",
       "</table>\n",
       "<p>3287 rows × 3 columns</p>\n",
       "</div>"
      ],
      "text/plain": [
       "     id_prod   price  categ\n",
       "0     0_1421   19.99      0\n",
       "1     0_1368    5.13      0\n",
       "2      0_731   17.99      0\n",
       "3      1_587    4.99      1\n",
       "4     0_1507    3.99      0\n",
       "...      ...     ...    ...\n",
       "3282    2_23  115.99      2\n",
       "3283   0_146   17.14      0\n",
       "3284   0_802   11.22      0\n",
       "3285   1_140   38.56      1\n",
       "3286  0_1920   25.16      0\n",
       "\n",
       "[3287 rows x 3 columns]"
      ]
     },
     "execution_count": 3,
     "metadata": {},
     "output_type": "execute_result"
    }
   ],
   "source": [
    "products = pd.read_csv (\"products.csv\")\n",
    "products"
   ]
  },
  {
   "cell_type": "code",
   "execution_count": 4,
   "id": "b6a79f7c",
   "metadata": {},
   "outputs": [
    {
     "data": {
      "text/html": [
       "<div>\n",
       "<style scoped>\n",
       "    .dataframe tbody tr th:only-of-type {\n",
       "        vertical-align: middle;\n",
       "    }\n",
       "\n",
       "    .dataframe tbody tr th {\n",
       "        vertical-align: top;\n",
       "    }\n",
       "\n",
       "    .dataframe thead th {\n",
       "        text-align: right;\n",
       "    }\n",
       "</style>\n",
       "<table border=\"1\" class=\"dataframe\">\n",
       "  <thead>\n",
       "    <tr style=\"text-align: right;\">\n",
       "      <th></th>\n",
       "      <th>id_prod</th>\n",
       "      <th>date</th>\n",
       "      <th>session_id</th>\n",
       "      <th>client_id</th>\n",
       "    </tr>\n",
       "  </thead>\n",
       "  <tbody>\n",
       "    <tr>\n",
       "      <th>0</th>\n",
       "      <td>0_1518</td>\n",
       "      <td>2022-05-20 13:21:29.043970</td>\n",
       "      <td>s_211425</td>\n",
       "      <td>c_103</td>\n",
       "    </tr>\n",
       "    <tr>\n",
       "      <th>1</th>\n",
       "      <td>1_251</td>\n",
       "      <td>2022-02-02 07:55:19.149409</td>\n",
       "      <td>s_158752</td>\n",
       "      <td>c_8534</td>\n",
       "    </tr>\n",
       "    <tr>\n",
       "      <th>2</th>\n",
       "      <td>0_1277</td>\n",
       "      <td>2022-06-18 15:44:33.155329</td>\n",
       "      <td>s_225667</td>\n",
       "      <td>c_6714</td>\n",
       "    </tr>\n",
       "    <tr>\n",
       "      <th>3</th>\n",
       "      <td>2_209</td>\n",
       "      <td>2021-06-24 04:19:29.835891</td>\n",
       "      <td>s_52962</td>\n",
       "      <td>c_6941</td>\n",
       "    </tr>\n",
       "    <tr>\n",
       "      <th>4</th>\n",
       "      <td>0_1509</td>\n",
       "      <td>2023-01-11 08:22:08.194479</td>\n",
       "      <td>s_325227</td>\n",
       "      <td>c_4232</td>\n",
       "    </tr>\n",
       "    <tr>\n",
       "      <th>...</th>\n",
       "      <td>...</td>\n",
       "      <td>...</td>\n",
       "      <td>...</td>\n",
       "      <td>...</td>\n",
       "    </tr>\n",
       "    <tr>\n",
       "      <th>679527</th>\n",
       "      <td>0_1551</td>\n",
       "      <td>2022-01-15 13:05:06.246925</td>\n",
       "      <td>s_150195</td>\n",
       "      <td>c_8489</td>\n",
       "    </tr>\n",
       "    <tr>\n",
       "      <th>679528</th>\n",
       "      <td>1_639</td>\n",
       "      <td>2022-03-19 16:03:23.429229</td>\n",
       "      <td>s_181434</td>\n",
       "      <td>c_4370</td>\n",
       "    </tr>\n",
       "    <tr>\n",
       "      <th>679529</th>\n",
       "      <td>0_1425</td>\n",
       "      <td>2022-12-20 04:33:37.584749</td>\n",
       "      <td>s_314704</td>\n",
       "      <td>c_304</td>\n",
       "    </tr>\n",
       "    <tr>\n",
       "      <th>679530</th>\n",
       "      <td>0_1994</td>\n",
       "      <td>2021-07-16 20:36:35.350579</td>\n",
       "      <td>s_63204</td>\n",
       "      <td>c_2227</td>\n",
       "    </tr>\n",
       "    <tr>\n",
       "      <th>679531</th>\n",
       "      <td>1_523</td>\n",
       "      <td>2022-09-28 01:12:01.973763</td>\n",
       "      <td>s_274568</td>\n",
       "      <td>c_3873</td>\n",
       "    </tr>\n",
       "  </tbody>\n",
       "</table>\n",
       "<p>679532 rows × 4 columns</p>\n",
       "</div>"
      ],
      "text/plain": [
       "       id_prod                        date session_id client_id\n",
       "0       0_1518  2022-05-20 13:21:29.043970   s_211425     c_103\n",
       "1        1_251  2022-02-02 07:55:19.149409   s_158752    c_8534\n",
       "2       0_1277  2022-06-18 15:44:33.155329   s_225667    c_6714\n",
       "3        2_209  2021-06-24 04:19:29.835891    s_52962    c_6941\n",
       "4       0_1509  2023-01-11 08:22:08.194479   s_325227    c_4232\n",
       "...        ...                         ...        ...       ...\n",
       "679527  0_1551  2022-01-15 13:05:06.246925   s_150195    c_8489\n",
       "679528   1_639  2022-03-19 16:03:23.429229   s_181434    c_4370\n",
       "679529  0_1425  2022-12-20 04:33:37.584749   s_314704     c_304\n",
       "679530  0_1994  2021-07-16 20:36:35.350579    s_63204    c_2227\n",
       "679531   1_523  2022-09-28 01:12:01.973763   s_274568    c_3873\n",
       "\n",
       "[679532 rows x 4 columns]"
      ]
     },
     "execution_count": 4,
     "metadata": {},
     "output_type": "execute_result"
    }
   ],
   "source": [
    "transactions = pd.read_csv(\"transactions.csv\")\n",
    "transactions"
   ]
  },
  {
   "cell_type": "markdown",
   "id": "d0203ebd",
   "metadata": {},
   "source": [
    "## Analyse et Adaptation des données <a class=\"anchor\" id=\"section_1_2\"></a>"
   ]
  },
  {
   "cell_type": "markdown",
   "id": "3210dba3",
   "metadata": {},
   "source": [
    "### Exploration des produits <a class=\"anchor\" id=\"section_1_2_1\"></a>"
   ]
  },
  {
   "cell_type": "code",
   "execution_count": 5,
   "id": "62102831",
   "metadata": {},
   "outputs": [
    {
     "name": "stdout",
     "output_type": "stream",
     "text": [
      "<class 'pandas.core.frame.DataFrame'>\n",
      "RangeIndex: 3287 entries, 0 to 3286\n",
      "Data columns (total 3 columns):\n",
      " #   Column   Non-Null Count  Dtype  \n",
      "---  ------   --------------  -----  \n",
      " 0   id_prod  3287 non-null   object \n",
      " 1   price    3287 non-null   float64\n",
      " 2   categ    3287 non-null   int64  \n",
      "dtypes: float64(1), int64(1), object(1)\n",
      "memory usage: 77.2+ KB\n"
     ]
    }
   ],
   "source": [
    "products.info()"
   ]
  },
  {
   "cell_type": "raw",
   "id": "2b7fabff",
   "metadata": {},
   "source": [
    "Il n'y a pas de valeurs manquantes "
   ]
  },
  {
   "cell_type": "code",
   "execution_count": 6,
   "id": "f7693517",
   "metadata": {},
   "outputs": [
    {
     "data": {
      "text/html": [
       "<div>\n",
       "<style scoped>\n",
       "    .dataframe tbody tr th:only-of-type {\n",
       "        vertical-align: middle;\n",
       "    }\n",
       "\n",
       "    .dataframe tbody tr th {\n",
       "        vertical-align: top;\n",
       "    }\n",
       "\n",
       "    .dataframe thead th {\n",
       "        text-align: right;\n",
       "    }\n",
       "</style>\n",
       "<table border=\"1\" class=\"dataframe\">\n",
       "  <thead>\n",
       "    <tr style=\"text-align: right;\">\n",
       "      <th></th>\n",
       "      <th>price</th>\n",
       "      <th>categ</th>\n",
       "    </tr>\n",
       "  </thead>\n",
       "  <tbody>\n",
       "    <tr>\n",
       "      <th>count</th>\n",
       "      <td>3287.000000</td>\n",
       "      <td>3287.000000</td>\n",
       "    </tr>\n",
       "    <tr>\n",
       "      <th>mean</th>\n",
       "      <td>21.856641</td>\n",
       "      <td>0.370246</td>\n",
       "    </tr>\n",
       "    <tr>\n",
       "      <th>std</th>\n",
       "      <td>29.847908</td>\n",
       "      <td>0.615387</td>\n",
       "    </tr>\n",
       "    <tr>\n",
       "      <th>min</th>\n",
       "      <td>-1.000000</td>\n",
       "      <td>0.000000</td>\n",
       "    </tr>\n",
       "    <tr>\n",
       "      <th>25%</th>\n",
       "      <td>6.990000</td>\n",
       "      <td>0.000000</td>\n",
       "    </tr>\n",
       "    <tr>\n",
       "      <th>50%</th>\n",
       "      <td>13.060000</td>\n",
       "      <td>0.000000</td>\n",
       "    </tr>\n",
       "    <tr>\n",
       "      <th>75%</th>\n",
       "      <td>22.990000</td>\n",
       "      <td>1.000000</td>\n",
       "    </tr>\n",
       "    <tr>\n",
       "      <th>max</th>\n",
       "      <td>300.000000</td>\n",
       "      <td>2.000000</td>\n",
       "    </tr>\n",
       "  </tbody>\n",
       "</table>\n",
       "</div>"
      ],
      "text/plain": [
       "             price        categ\n",
       "count  3287.000000  3287.000000\n",
       "mean     21.856641     0.370246\n",
       "std      29.847908     0.615387\n",
       "min      -1.000000     0.000000\n",
       "25%       6.990000     0.000000\n",
       "50%      13.060000     0.000000\n",
       "75%      22.990000     1.000000\n",
       "max     300.000000     2.000000"
      ]
     },
     "execution_count": 6,
     "metadata": {},
     "output_type": "execute_result"
    }
   ],
   "source": [
    "products.describe()"
   ]
  },
  {
   "cell_type": "raw",
   "id": "e38f033f",
   "metadata": {},
   "source": [
    "On remarque des prix négatifs on va explorer les données "
   ]
  },
  {
   "cell_type": "code",
   "execution_count": 7,
   "id": "dbf76b81",
   "metadata": {},
   "outputs": [
    {
     "data": {
      "text/html": [
       "<div>\n",
       "<style scoped>\n",
       "    .dataframe tbody tr th:only-of-type {\n",
       "        vertical-align: middle;\n",
       "    }\n",
       "\n",
       "    .dataframe tbody tr th {\n",
       "        vertical-align: top;\n",
       "    }\n",
       "\n",
       "    .dataframe thead th {\n",
       "        text-align: right;\n",
       "    }\n",
       "</style>\n",
       "<table border=\"1\" class=\"dataframe\">\n",
       "  <thead>\n",
       "    <tr style=\"text-align: right;\">\n",
       "      <th></th>\n",
       "      <th>id_prod</th>\n",
       "      <th>price</th>\n",
       "      <th>categ</th>\n",
       "    </tr>\n",
       "  </thead>\n",
       "  <tbody>\n",
       "    <tr>\n",
       "      <th>731</th>\n",
       "      <td>T_0</td>\n",
       "      <td>-1.0</td>\n",
       "      <td>0</td>\n",
       "    </tr>\n",
       "  </tbody>\n",
       "</table>\n",
       "</div>"
      ],
      "text/plain": [
       "    id_prod  price  categ\n",
       "731     T_0   -1.0      0"
      ]
     },
     "execution_count": 7,
     "metadata": {},
     "output_type": "execute_result"
    }
   ],
   "source": [
    "products[products[\"price\"]<=0]"
   ]
  },
  {
   "cell_type": "markdown",
   "id": "11f8f33a",
   "metadata": {},
   "source": [
    "On constate une valeur étrange, on manque de contexte afin d'en savoir plus, on va donc la garder de coté jusqu'à ce que l'on ait analysé les autres fichiers"
   ]
  },
  {
   "cell_type": "markdown",
   "id": "ce3ad0a8",
   "metadata": {},
   "source": [
    "### Exploration du fichier Clients <a class=\"anchor\" id=\"section_1_2_2\"></a>\n"
   ]
  },
  {
   "cell_type": "code",
   "execution_count": 8,
   "id": "926e1c55",
   "metadata": {},
   "outputs": [
    {
     "name": "stdout",
     "output_type": "stream",
     "text": [
      "<class 'pandas.core.frame.DataFrame'>\n",
      "RangeIndex: 8623 entries, 0 to 8622\n",
      "Data columns (total 3 columns):\n",
      " #   Column     Non-Null Count  Dtype \n",
      "---  ------     --------------  ----- \n",
      " 0   client_id  8623 non-null   object\n",
      " 1   sex        8623 non-null   object\n",
      " 2   birth      8623 non-null   int64 \n",
      "dtypes: int64(1), object(2)\n",
      "memory usage: 202.2+ KB\n"
     ]
    }
   ],
   "source": [
    "customers.info()"
   ]
  },
  {
   "cell_type": "raw",
   "id": "ee6faf28",
   "metadata": {},
   "source": [
    "Il n'y a pas de valeurs manquantes "
   ]
  },
  {
   "cell_type": "code",
   "execution_count": 9,
   "id": "d8d93d7c",
   "metadata": {},
   "outputs": [
    {
     "data": {
      "text/html": [
       "<div>\n",
       "<style scoped>\n",
       "    .dataframe tbody tr th:only-of-type {\n",
       "        vertical-align: middle;\n",
       "    }\n",
       "\n",
       "    .dataframe tbody tr th {\n",
       "        vertical-align: top;\n",
       "    }\n",
       "\n",
       "    .dataframe thead th {\n",
       "        text-align: right;\n",
       "    }\n",
       "</style>\n",
       "<table border=\"1\" class=\"dataframe\">\n",
       "  <thead>\n",
       "    <tr style=\"text-align: right;\">\n",
       "      <th></th>\n",
       "      <th>client_id</th>\n",
       "      <th>sex</th>\n",
       "      <th>birth</th>\n",
       "    </tr>\n",
       "  </thead>\n",
       "  <tbody>\n",
       "    <tr>\n",
       "      <th>count</th>\n",
       "      <td>8623</td>\n",
       "      <td>8623</td>\n",
       "      <td>8623.000000</td>\n",
       "    </tr>\n",
       "    <tr>\n",
       "      <th>unique</th>\n",
       "      <td>8623</td>\n",
       "      <td>2</td>\n",
       "      <td>NaN</td>\n",
       "    </tr>\n",
       "    <tr>\n",
       "      <th>top</th>\n",
       "      <td>c_4410</td>\n",
       "      <td>f</td>\n",
       "      <td>NaN</td>\n",
       "    </tr>\n",
       "    <tr>\n",
       "      <th>freq</th>\n",
       "      <td>1</td>\n",
       "      <td>4491</td>\n",
       "      <td>NaN</td>\n",
       "    </tr>\n",
       "    <tr>\n",
       "      <th>mean</th>\n",
       "      <td>NaN</td>\n",
       "      <td>NaN</td>\n",
       "      <td>1978.280877</td>\n",
       "    </tr>\n",
       "    <tr>\n",
       "      <th>std</th>\n",
       "      <td>NaN</td>\n",
       "      <td>NaN</td>\n",
       "      <td>16.919535</td>\n",
       "    </tr>\n",
       "    <tr>\n",
       "      <th>min</th>\n",
       "      <td>NaN</td>\n",
       "      <td>NaN</td>\n",
       "      <td>1929.000000</td>\n",
       "    </tr>\n",
       "    <tr>\n",
       "      <th>25%</th>\n",
       "      <td>NaN</td>\n",
       "      <td>NaN</td>\n",
       "      <td>1966.000000</td>\n",
       "    </tr>\n",
       "    <tr>\n",
       "      <th>50%</th>\n",
       "      <td>NaN</td>\n",
       "      <td>NaN</td>\n",
       "      <td>1979.000000</td>\n",
       "    </tr>\n",
       "    <tr>\n",
       "      <th>75%</th>\n",
       "      <td>NaN</td>\n",
       "      <td>NaN</td>\n",
       "      <td>1992.000000</td>\n",
       "    </tr>\n",
       "    <tr>\n",
       "      <th>max</th>\n",
       "      <td>NaN</td>\n",
       "      <td>NaN</td>\n",
       "      <td>2004.000000</td>\n",
       "    </tr>\n",
       "  </tbody>\n",
       "</table>\n",
       "</div>"
      ],
      "text/plain": [
       "       client_id   sex        birth\n",
       "count       8623  8623  8623.000000\n",
       "unique      8623     2          NaN\n",
       "top       c_4410     f          NaN\n",
       "freq           1  4491          NaN\n",
       "mean         NaN   NaN  1978.280877\n",
       "std          NaN   NaN    16.919535\n",
       "min          NaN   NaN  1929.000000\n",
       "25%          NaN   NaN  1966.000000\n",
       "50%          NaN   NaN  1979.000000\n",
       "75%          NaN   NaN  1992.000000\n",
       "max          NaN   NaN  2004.000000"
      ]
     },
     "execution_count": 9,
     "metadata": {},
     "output_type": "execute_result"
    }
   ],
   "source": [
    "customers.describe(include=\"all\")"
   ]
  },
  {
   "cell_type": "raw",
   "id": "67384697",
   "metadata": {},
   "source": [
    "include=\"all\" sert à afficher les valeurs catégoriques ( qualitatives)"
   ]
  },
  {
   "cell_type": "raw",
   "id": "dcc43b60",
   "metadata": {},
   "source": [
    "On observe ici 2 valeurs uniques pour le genre"
   ]
  },
  {
   "cell_type": "raw",
   "id": "01d2ea13",
   "metadata": {},
   "source": [
    "on va rajouter ici une colonne Age afin de rendre la lecture plus facile "
   ]
  },
  {
   "cell_type": "code",
   "execution_count": 10,
   "id": "47de005b",
   "metadata": {},
   "outputs": [
    {
     "data": {
      "text/plain": [
       "datetime.date(2023, 2, 19)"
      ]
     },
     "execution_count": 10,
     "metadata": {},
     "output_type": "execute_result"
    }
   ],
   "source": [
    "todays_date = date.today()\n",
    "todays_date"
   ]
  },
  {
   "cell_type": "code",
   "execution_count": 11,
   "id": "ec1200eb",
   "metadata": {},
   "outputs": [
    {
     "data": {
      "text/plain": [
       "2023"
      ]
     },
     "execution_count": 11,
     "metadata": {},
     "output_type": "execute_result"
    }
   ],
   "source": [
    "todays_year = todays_date.year\n",
    "todays_year"
   ]
  },
  {
   "cell_type": "code",
   "execution_count": 12,
   "id": "18fa7258",
   "metadata": {},
   "outputs": [
    {
     "data": {
      "text/html": [
       "<div>\n",
       "<style scoped>\n",
       "    .dataframe tbody tr th:only-of-type {\n",
       "        vertical-align: middle;\n",
       "    }\n",
       "\n",
       "    .dataframe tbody tr th {\n",
       "        vertical-align: top;\n",
       "    }\n",
       "\n",
       "    .dataframe thead th {\n",
       "        text-align: right;\n",
       "    }\n",
       "</style>\n",
       "<table border=\"1\" class=\"dataframe\">\n",
       "  <thead>\n",
       "    <tr style=\"text-align: right;\">\n",
       "      <th></th>\n",
       "      <th>client_id</th>\n",
       "      <th>sex</th>\n",
       "      <th>birth</th>\n",
       "      <th>age</th>\n",
       "    </tr>\n",
       "  </thead>\n",
       "  <tbody>\n",
       "    <tr>\n",
       "      <th>0</th>\n",
       "      <td>c_4410</td>\n",
       "      <td>f</td>\n",
       "      <td>1967</td>\n",
       "      <td>56</td>\n",
       "    </tr>\n",
       "    <tr>\n",
       "      <th>1</th>\n",
       "      <td>c_7839</td>\n",
       "      <td>f</td>\n",
       "      <td>1975</td>\n",
       "      <td>48</td>\n",
       "    </tr>\n",
       "    <tr>\n",
       "      <th>2</th>\n",
       "      <td>c_1699</td>\n",
       "      <td>f</td>\n",
       "      <td>1984</td>\n",
       "      <td>39</td>\n",
       "    </tr>\n",
       "    <tr>\n",
       "      <th>3</th>\n",
       "      <td>c_5961</td>\n",
       "      <td>f</td>\n",
       "      <td>1962</td>\n",
       "      <td>61</td>\n",
       "    </tr>\n",
       "    <tr>\n",
       "      <th>4</th>\n",
       "      <td>c_5320</td>\n",
       "      <td>m</td>\n",
       "      <td>1943</td>\n",
       "      <td>80</td>\n",
       "    </tr>\n",
       "    <tr>\n",
       "      <th>...</th>\n",
       "      <td>...</td>\n",
       "      <td>...</td>\n",
       "      <td>...</td>\n",
       "      <td>...</td>\n",
       "    </tr>\n",
       "    <tr>\n",
       "      <th>8618</th>\n",
       "      <td>c_7920</td>\n",
       "      <td>m</td>\n",
       "      <td>1956</td>\n",
       "      <td>67</td>\n",
       "    </tr>\n",
       "    <tr>\n",
       "      <th>8619</th>\n",
       "      <td>c_7403</td>\n",
       "      <td>f</td>\n",
       "      <td>1970</td>\n",
       "      <td>53</td>\n",
       "    </tr>\n",
       "    <tr>\n",
       "      <th>8620</th>\n",
       "      <td>c_5119</td>\n",
       "      <td>m</td>\n",
       "      <td>1974</td>\n",
       "      <td>49</td>\n",
       "    </tr>\n",
       "    <tr>\n",
       "      <th>8621</th>\n",
       "      <td>c_5643</td>\n",
       "      <td>f</td>\n",
       "      <td>1968</td>\n",
       "      <td>55</td>\n",
       "    </tr>\n",
       "    <tr>\n",
       "      <th>8622</th>\n",
       "      <td>c_84</td>\n",
       "      <td>f</td>\n",
       "      <td>1982</td>\n",
       "      <td>41</td>\n",
       "    </tr>\n",
       "  </tbody>\n",
       "</table>\n",
       "<p>8623 rows × 4 columns</p>\n",
       "</div>"
      ],
      "text/plain": [
       "     client_id sex  birth  age\n",
       "0       c_4410   f   1967   56\n",
       "1       c_7839   f   1975   48\n",
       "2       c_1699   f   1984   39\n",
       "3       c_5961   f   1962   61\n",
       "4       c_5320   m   1943   80\n",
       "...        ...  ..    ...  ...\n",
       "8618    c_7920   m   1956   67\n",
       "8619    c_7403   f   1970   53\n",
       "8620    c_5119   m   1974   49\n",
       "8621    c_5643   f   1968   55\n",
       "8622      c_84   f   1982   41\n",
       "\n",
       "[8623 rows x 4 columns]"
      ]
     },
     "execution_count": 12,
     "metadata": {},
     "output_type": "execute_result"
    }
   ],
   "source": [
    "customers[\"age\"] = todays_year - customers[\"birth\"]\n",
    "customers"
   ]
  },
  {
   "cell_type": "markdown",
   "id": "f95e758b",
   "metadata": {},
   "source": [
    "### Exploration du fichier transactions <a class=\"anchor\" id=\"section_1_2_3\"></a>"
   ]
  },
  {
   "cell_type": "code",
   "execution_count": 13,
   "id": "5011d200",
   "metadata": {},
   "outputs": [
    {
     "name": "stdout",
     "output_type": "stream",
     "text": [
      "<class 'pandas.core.frame.DataFrame'>\n",
      "RangeIndex: 679532 entries, 0 to 679531\n",
      "Data columns (total 4 columns):\n",
      " #   Column      Non-Null Count   Dtype \n",
      "---  ------      --------------   ----- \n",
      " 0   id_prod     679532 non-null  object\n",
      " 1   date        679532 non-null  object\n",
      " 2   session_id  679532 non-null  object\n",
      " 3   client_id   679532 non-null  object\n",
      "dtypes: object(4)\n",
      "memory usage: 20.7+ MB\n"
     ]
    }
   ],
   "source": [
    "transactions.info()"
   ]
  },
  {
   "cell_type": "code",
   "execution_count": 14,
   "id": "a288fb6a",
   "metadata": {},
   "outputs": [
    {
     "data": {
      "text/html": [
       "<div>\n",
       "<style scoped>\n",
       "    .dataframe tbody tr th:only-of-type {\n",
       "        vertical-align: middle;\n",
       "    }\n",
       "\n",
       "    .dataframe tbody tr th {\n",
       "        vertical-align: top;\n",
       "    }\n",
       "\n",
       "    .dataframe thead th {\n",
       "        text-align: right;\n",
       "    }\n",
       "</style>\n",
       "<table border=\"1\" class=\"dataframe\">\n",
       "  <thead>\n",
       "    <tr style=\"text-align: right;\">\n",
       "      <th></th>\n",
       "      <th>id_prod</th>\n",
       "      <th>date</th>\n",
       "      <th>session_id</th>\n",
       "      <th>client_id</th>\n",
       "    </tr>\n",
       "  </thead>\n",
       "  <tbody>\n",
       "    <tr>\n",
       "      <th>0</th>\n",
       "      <td>0_1518</td>\n",
       "      <td>2022-05-20 13:21:29.043970</td>\n",
       "      <td>s_211425</td>\n",
       "      <td>c_103</td>\n",
       "    </tr>\n",
       "    <tr>\n",
       "      <th>1</th>\n",
       "      <td>1_251</td>\n",
       "      <td>2022-02-02 07:55:19.149409</td>\n",
       "      <td>s_158752</td>\n",
       "      <td>c_8534</td>\n",
       "    </tr>\n",
       "    <tr>\n",
       "      <th>2</th>\n",
       "      <td>0_1277</td>\n",
       "      <td>2022-06-18 15:44:33.155329</td>\n",
       "      <td>s_225667</td>\n",
       "      <td>c_6714</td>\n",
       "    </tr>\n",
       "    <tr>\n",
       "      <th>3</th>\n",
       "      <td>2_209</td>\n",
       "      <td>2021-06-24 04:19:29.835891</td>\n",
       "      <td>s_52962</td>\n",
       "      <td>c_6941</td>\n",
       "    </tr>\n",
       "    <tr>\n",
       "      <th>4</th>\n",
       "      <td>0_1509</td>\n",
       "      <td>2023-01-11 08:22:08.194479</td>\n",
       "      <td>s_325227</td>\n",
       "      <td>c_4232</td>\n",
       "    </tr>\n",
       "    <tr>\n",
       "      <th>...</th>\n",
       "      <td>...</td>\n",
       "      <td>...</td>\n",
       "      <td>...</td>\n",
       "      <td>...</td>\n",
       "    </tr>\n",
       "    <tr>\n",
       "      <th>679527</th>\n",
       "      <td>0_1551</td>\n",
       "      <td>2022-01-15 13:05:06.246925</td>\n",
       "      <td>s_150195</td>\n",
       "      <td>c_8489</td>\n",
       "    </tr>\n",
       "    <tr>\n",
       "      <th>679528</th>\n",
       "      <td>1_639</td>\n",
       "      <td>2022-03-19 16:03:23.429229</td>\n",
       "      <td>s_181434</td>\n",
       "      <td>c_4370</td>\n",
       "    </tr>\n",
       "    <tr>\n",
       "      <th>679529</th>\n",
       "      <td>0_1425</td>\n",
       "      <td>2022-12-20 04:33:37.584749</td>\n",
       "      <td>s_314704</td>\n",
       "      <td>c_304</td>\n",
       "    </tr>\n",
       "    <tr>\n",
       "      <th>679530</th>\n",
       "      <td>0_1994</td>\n",
       "      <td>2021-07-16 20:36:35.350579</td>\n",
       "      <td>s_63204</td>\n",
       "      <td>c_2227</td>\n",
       "    </tr>\n",
       "    <tr>\n",
       "      <th>679531</th>\n",
       "      <td>1_523</td>\n",
       "      <td>2022-09-28 01:12:01.973763</td>\n",
       "      <td>s_274568</td>\n",
       "      <td>c_3873</td>\n",
       "    </tr>\n",
       "  </tbody>\n",
       "</table>\n",
       "<p>679532 rows × 4 columns</p>\n",
       "</div>"
      ],
      "text/plain": [
       "       id_prod                        date session_id client_id\n",
       "0       0_1518  2022-05-20 13:21:29.043970   s_211425     c_103\n",
       "1        1_251  2022-02-02 07:55:19.149409   s_158752    c_8534\n",
       "2       0_1277  2022-06-18 15:44:33.155329   s_225667    c_6714\n",
       "3        2_209  2021-06-24 04:19:29.835891    s_52962    c_6941\n",
       "4       0_1509  2023-01-11 08:22:08.194479   s_325227    c_4232\n",
       "...        ...                         ...        ...       ...\n",
       "679527  0_1551  2022-01-15 13:05:06.246925   s_150195    c_8489\n",
       "679528   1_639  2022-03-19 16:03:23.429229   s_181434    c_4370\n",
       "679529  0_1425  2022-12-20 04:33:37.584749   s_314704     c_304\n",
       "679530  0_1994  2021-07-16 20:36:35.350579    s_63204    c_2227\n",
       "679531   1_523  2022-09-28 01:12:01.973763   s_274568    c_3873\n",
       "\n",
       "[679532 rows x 4 columns]"
      ]
     },
     "execution_count": 14,
     "metadata": {},
     "output_type": "execute_result"
    }
   ],
   "source": [
    "transactions"
   ]
  },
  {
   "cell_type": "raw",
   "id": "5f412738",
   "metadata": {},
   "source": [
    "on va convertir la colonne Date en format date pour plus de facilité plus tard"
   ]
  },
  {
   "cell_type": "markdown",
   "id": "b40c68e7",
   "metadata": {},
   "source": [
    "pd.to_datetime(transactions[\"date\"])\n",
    "\n",
    "execute une Erreur : ParserError: Unknown string format: test_2021-03-01 02:30:02.237419"
   ]
  },
  {
   "cell_type": "raw",
   "id": "fc207cf5",
   "metadata": {},
   "source": [
    "Il y a dans le fichier des dates \"test\" \n",
    "on va les traiter "
   ]
  },
  {
   "cell_type": "code",
   "execution_count": 15,
   "id": "2d7815c0",
   "metadata": {},
   "outputs": [
    {
     "data": {
      "text/html": [
       "<div>\n",
       "<style scoped>\n",
       "    .dataframe tbody tr th:only-of-type {\n",
       "        vertical-align: middle;\n",
       "    }\n",
       "\n",
       "    .dataframe tbody tr th {\n",
       "        vertical-align: top;\n",
       "    }\n",
       "\n",
       "    .dataframe thead th {\n",
       "        text-align: right;\n",
       "    }\n",
       "</style>\n",
       "<table border=\"1\" class=\"dataframe\">\n",
       "  <thead>\n",
       "    <tr style=\"text-align: right;\">\n",
       "      <th></th>\n",
       "      <th>id_prod</th>\n",
       "      <th>date</th>\n",
       "      <th>session_id</th>\n",
       "      <th>client_id</th>\n",
       "    </tr>\n",
       "  </thead>\n",
       "  <tbody>\n",
       "    <tr>\n",
       "      <th>3019</th>\n",
       "      <td>T_0</td>\n",
       "      <td>test_2021-03-01 02:30:02.237419</td>\n",
       "      <td>s_0</td>\n",
       "      <td>ct_0</td>\n",
       "    </tr>\n",
       "    <tr>\n",
       "      <th>5138</th>\n",
       "      <td>T_0</td>\n",
       "      <td>test_2021-03-01 02:30:02.237425</td>\n",
       "      <td>s_0</td>\n",
       "      <td>ct_0</td>\n",
       "    </tr>\n",
       "    <tr>\n",
       "      <th>9668</th>\n",
       "      <td>T_0</td>\n",
       "      <td>test_2021-03-01 02:30:02.237437</td>\n",
       "      <td>s_0</td>\n",
       "      <td>ct_1</td>\n",
       "    </tr>\n",
       "    <tr>\n",
       "      <th>10728</th>\n",
       "      <td>T_0</td>\n",
       "      <td>test_2021-03-01 02:30:02.237436</td>\n",
       "      <td>s_0</td>\n",
       "      <td>ct_0</td>\n",
       "    </tr>\n",
       "    <tr>\n",
       "      <th>15292</th>\n",
       "      <td>T_0</td>\n",
       "      <td>test_2021-03-01 02:30:02.237430</td>\n",
       "      <td>s_0</td>\n",
       "      <td>ct_0</td>\n",
       "    </tr>\n",
       "    <tr>\n",
       "      <th>...</th>\n",
       "      <td>...</td>\n",
       "      <td>...</td>\n",
       "      <td>...</td>\n",
       "      <td>...</td>\n",
       "    </tr>\n",
       "    <tr>\n",
       "      <th>657830</th>\n",
       "      <td>T_0</td>\n",
       "      <td>test_2021-03-01 02:30:02.237417</td>\n",
       "      <td>s_0</td>\n",
       "      <td>ct_0</td>\n",
       "    </tr>\n",
       "    <tr>\n",
       "      <th>662081</th>\n",
       "      <td>T_0</td>\n",
       "      <td>test_2021-03-01 02:30:02.237427</td>\n",
       "      <td>s_0</td>\n",
       "      <td>ct_1</td>\n",
       "    </tr>\n",
       "    <tr>\n",
       "      <th>670680</th>\n",
       "      <td>T_0</td>\n",
       "      <td>test_2021-03-01 02:30:02.237449</td>\n",
       "      <td>s_0</td>\n",
       "      <td>ct_1</td>\n",
       "    </tr>\n",
       "    <tr>\n",
       "      <th>671647</th>\n",
       "      <td>T_0</td>\n",
       "      <td>test_2021-03-01 02:30:02.237424</td>\n",
       "      <td>s_0</td>\n",
       "      <td>ct_1</td>\n",
       "    </tr>\n",
       "    <tr>\n",
       "      <th>679180</th>\n",
       "      <td>T_0</td>\n",
       "      <td>test_2021-03-01 02:30:02.237425</td>\n",
       "      <td>s_0</td>\n",
       "      <td>ct_1</td>\n",
       "    </tr>\n",
       "  </tbody>\n",
       "</table>\n",
       "<p>200 rows × 4 columns</p>\n",
       "</div>"
      ],
      "text/plain": [
       "       id_prod                             date session_id client_id\n",
       "3019       T_0  test_2021-03-01 02:30:02.237419        s_0      ct_0\n",
       "5138       T_0  test_2021-03-01 02:30:02.237425        s_0      ct_0\n",
       "9668       T_0  test_2021-03-01 02:30:02.237437        s_0      ct_1\n",
       "10728      T_0  test_2021-03-01 02:30:02.237436        s_0      ct_0\n",
       "15292      T_0  test_2021-03-01 02:30:02.237430        s_0      ct_0\n",
       "...        ...                              ...        ...       ...\n",
       "657830     T_0  test_2021-03-01 02:30:02.237417        s_0      ct_0\n",
       "662081     T_0  test_2021-03-01 02:30:02.237427        s_0      ct_1\n",
       "670680     T_0  test_2021-03-01 02:30:02.237449        s_0      ct_1\n",
       "671647     T_0  test_2021-03-01 02:30:02.237424        s_0      ct_1\n",
       "679180     T_0  test_2021-03-01 02:30:02.237425        s_0      ct_1\n",
       "\n",
       "[200 rows x 4 columns]"
      ]
     },
     "execution_count": 15,
     "metadata": {},
     "output_type": "execute_result"
    }
   ],
   "source": [
    "transactions[transactions[\"date\"].str.contains('test_', regex=False)]"
   ]
  },
  {
   "cell_type": "raw",
   "id": "115f61ad",
   "metadata": {},
   "source": [
    "Le regex sert pour les expressions régulières voir yt plus tard  "
   ]
  },
  {
   "cell_type": "raw",
   "id": "69415cf2",
   "metadata": {},
   "source": [
    "On remarque 200 valeurs de test, qui utilisent le produit inconnu T_0 de tout à l'heure, on peut donc conclure qu'il s'agit de valeurs fictives et on va les supprimer"
   ]
  },
  {
   "cell_type": "code",
   "execution_count": 16,
   "id": "76e2fa89",
   "metadata": {
    "scrolled": true
   },
   "outputs": [
    {
     "data": {
      "text/html": [
       "<div>\n",
       "<style scoped>\n",
       "    .dataframe tbody tr th:only-of-type {\n",
       "        vertical-align: middle;\n",
       "    }\n",
       "\n",
       "    .dataframe tbody tr th {\n",
       "        vertical-align: top;\n",
       "    }\n",
       "\n",
       "    .dataframe thead th {\n",
       "        text-align: right;\n",
       "    }\n",
       "</style>\n",
       "<table border=\"1\" class=\"dataframe\">\n",
       "  <thead>\n",
       "    <tr style=\"text-align: right;\">\n",
       "      <th></th>\n",
       "      <th>id_prod</th>\n",
       "      <th>date</th>\n",
       "      <th>session_id</th>\n",
       "      <th>client_id</th>\n",
       "    </tr>\n",
       "  </thead>\n",
       "  <tbody>\n",
       "    <tr>\n",
       "      <th>0</th>\n",
       "      <td>0_1518</td>\n",
       "      <td>2022-05-20 13:21:29.043970</td>\n",
       "      <td>s_211425</td>\n",
       "      <td>c_103</td>\n",
       "    </tr>\n",
       "    <tr>\n",
       "      <th>1</th>\n",
       "      <td>1_251</td>\n",
       "      <td>2022-02-02 07:55:19.149409</td>\n",
       "      <td>s_158752</td>\n",
       "      <td>c_8534</td>\n",
       "    </tr>\n",
       "    <tr>\n",
       "      <th>2</th>\n",
       "      <td>0_1277</td>\n",
       "      <td>2022-06-18 15:44:33.155329</td>\n",
       "      <td>s_225667</td>\n",
       "      <td>c_6714</td>\n",
       "    </tr>\n",
       "    <tr>\n",
       "      <th>3</th>\n",
       "      <td>2_209</td>\n",
       "      <td>2021-06-24 04:19:29.835891</td>\n",
       "      <td>s_52962</td>\n",
       "      <td>c_6941</td>\n",
       "    </tr>\n",
       "    <tr>\n",
       "      <th>4</th>\n",
       "      <td>0_1509</td>\n",
       "      <td>2023-01-11 08:22:08.194479</td>\n",
       "      <td>s_325227</td>\n",
       "      <td>c_4232</td>\n",
       "    </tr>\n",
       "    <tr>\n",
       "      <th>...</th>\n",
       "      <td>...</td>\n",
       "      <td>...</td>\n",
       "      <td>...</td>\n",
       "      <td>...</td>\n",
       "    </tr>\n",
       "    <tr>\n",
       "      <th>679527</th>\n",
       "      <td>0_1551</td>\n",
       "      <td>2022-01-15 13:05:06.246925</td>\n",
       "      <td>s_150195</td>\n",
       "      <td>c_8489</td>\n",
       "    </tr>\n",
       "    <tr>\n",
       "      <th>679528</th>\n",
       "      <td>1_639</td>\n",
       "      <td>2022-03-19 16:03:23.429229</td>\n",
       "      <td>s_181434</td>\n",
       "      <td>c_4370</td>\n",
       "    </tr>\n",
       "    <tr>\n",
       "      <th>679529</th>\n",
       "      <td>0_1425</td>\n",
       "      <td>2022-12-20 04:33:37.584749</td>\n",
       "      <td>s_314704</td>\n",
       "      <td>c_304</td>\n",
       "    </tr>\n",
       "    <tr>\n",
       "      <th>679530</th>\n",
       "      <td>0_1994</td>\n",
       "      <td>2021-07-16 20:36:35.350579</td>\n",
       "      <td>s_63204</td>\n",
       "      <td>c_2227</td>\n",
       "    </tr>\n",
       "    <tr>\n",
       "      <th>679531</th>\n",
       "      <td>1_523</td>\n",
       "      <td>2022-09-28 01:12:01.973763</td>\n",
       "      <td>s_274568</td>\n",
       "      <td>c_3873</td>\n",
       "    </tr>\n",
       "  </tbody>\n",
       "</table>\n",
       "<p>679332 rows × 4 columns</p>\n",
       "</div>"
      ],
      "text/plain": [
       "       id_prod                        date session_id client_id\n",
       "0       0_1518  2022-05-20 13:21:29.043970   s_211425     c_103\n",
       "1        1_251  2022-02-02 07:55:19.149409   s_158752    c_8534\n",
       "2       0_1277  2022-06-18 15:44:33.155329   s_225667    c_6714\n",
       "3        2_209  2021-06-24 04:19:29.835891    s_52962    c_6941\n",
       "4       0_1509  2023-01-11 08:22:08.194479   s_325227    c_4232\n",
       "...        ...                         ...        ...       ...\n",
       "679527  0_1551  2022-01-15 13:05:06.246925   s_150195    c_8489\n",
       "679528   1_639  2022-03-19 16:03:23.429229   s_181434    c_4370\n",
       "679529  0_1425  2022-12-20 04:33:37.584749   s_314704     c_304\n",
       "679530  0_1994  2021-07-16 20:36:35.350579    s_63204    c_2227\n",
       "679531   1_523  2022-09-28 01:12:01.973763   s_274568    c_3873\n",
       "\n",
       "[679332 rows x 4 columns]"
      ]
     },
     "execution_count": 16,
     "metadata": {},
     "output_type": "execute_result"
    }
   ],
   "source": [
    "transactions = transactions[~transactions[\"date\"].str.contains('test_', regex=False)]\n",
    "transactions"
   ]
  },
  {
   "cell_type": "raw",
   "id": "9b1d60aa",
   "metadata": {},
   "source": [
    "On peut maintenant normalement transformer le type Date"
   ]
  },
  {
   "cell_type": "code",
   "execution_count": 17,
   "id": "6fb0e57a",
   "metadata": {},
   "outputs": [],
   "source": [
    "transactions[\"date\"] = pd.to_datetime(transactions[\"date\"])"
   ]
  },
  {
   "cell_type": "code",
   "execution_count": 18,
   "id": "db064216",
   "metadata": {},
   "outputs": [
    {
     "name": "stdout",
     "output_type": "stream",
     "text": [
      "<class 'pandas.core.frame.DataFrame'>\n",
      "Int64Index: 679332 entries, 0 to 679531\n",
      "Data columns (total 4 columns):\n",
      " #   Column      Non-Null Count   Dtype         \n",
      "---  ------      --------------   -----         \n",
      " 0   id_prod     679332 non-null  object        \n",
      " 1   date        679332 non-null  datetime64[ns]\n",
      " 2   session_id  679332 non-null  object        \n",
      " 3   client_id   679332 non-null  object        \n",
      "dtypes: datetime64[ns](1), object(3)\n",
      "memory usage: 25.9+ MB\n"
     ]
    }
   ],
   "source": [
    "transactions.info()"
   ]
  },
  {
   "cell_type": "markdown",
   "id": "d3347f67",
   "metadata": {},
   "source": [
    "## Mise en place de la base de données globale <a class=\"anchor\" id=\"section_1_3\"></a>"
   ]
  },
  {
   "cell_type": "raw",
   "id": "eb018426",
   "metadata": {},
   "source": [
    "on va commencer par chercher les clés primaires"
   ]
  },
  {
   "cell_type": "code",
   "execution_count": 19,
   "id": "e773a02f",
   "metadata": {},
   "outputs": [
    {
     "data": {
      "text/plain": [
       "id_prod         3266\n",
       "date          679332\n",
       "session_id    342315\n",
       "client_id       8600\n",
       "dtype: int64"
      ]
     },
     "execution_count": 19,
     "metadata": {},
     "output_type": "execute_result"
    }
   ],
   "source": [
    "transactions.nunique()"
   ]
  },
  {
   "cell_type": "code",
   "execution_count": 20,
   "id": "3c124e83",
   "metadata": {},
   "outputs": [
    {
     "data": {
      "text/plain": [
       "client_id    8623\n",
       "sex             2\n",
       "birth          76\n",
       "age            76\n",
       "dtype: int64"
      ]
     },
     "execution_count": 20,
     "metadata": {},
     "output_type": "execute_result"
    }
   ],
   "source": [
    "customers.nunique()"
   ]
  },
  {
   "cell_type": "code",
   "execution_count": 21,
   "id": "d6959cde",
   "metadata": {},
   "outputs": [
    {
     "data": {
      "text/plain": [
       "id_prod    3287\n",
       "price      1455\n",
       "categ         3\n",
       "dtype: int64"
      ]
     },
     "execution_count": 21,
     "metadata": {},
     "output_type": "execute_result"
    }
   ],
   "source": [
    "products.nunique()"
   ]
  },
  {
   "cell_type": "markdown",
   "id": "8ca6f6d7",
   "metadata": {},
   "source": [
    "On peut remarquer qu'il y a des produits qui n'ont jamais été vendus et des clients qui n'ont jamais rien achetés"
   ]
  },
  {
   "cell_type": "raw",
   "id": "485edde9",
   "metadata": {},
   "source": [
    "On va se baser sur le fichier transactions"
   ]
  },
  {
   "cell_type": "code",
   "execution_count": 22,
   "id": "65f8d249",
   "metadata": {
    "scrolled": true
   },
   "outputs": [
    {
     "data": {
      "text/html": [
       "<div>\n",
       "<style scoped>\n",
       "    .dataframe tbody tr th:only-of-type {\n",
       "        vertical-align: middle;\n",
       "    }\n",
       "\n",
       "    .dataframe tbody tr th {\n",
       "        vertical-align: top;\n",
       "    }\n",
       "\n",
       "    .dataframe thead th {\n",
       "        text-align: right;\n",
       "    }\n",
       "</style>\n",
       "<table border=\"1\" class=\"dataframe\">\n",
       "  <thead>\n",
       "    <tr style=\"text-align: right;\">\n",
       "      <th></th>\n",
       "      <th>id_prod</th>\n",
       "      <th>date</th>\n",
       "      <th>session_id</th>\n",
       "      <th>client_id</th>\n",
       "    </tr>\n",
       "  </thead>\n",
       "  <tbody>\n",
       "    <tr>\n",
       "      <th>0</th>\n",
       "      <td>0_1518</td>\n",
       "      <td>2022-05-20 13:21:29.043970</td>\n",
       "      <td>s_211425</td>\n",
       "      <td>c_103</td>\n",
       "    </tr>\n",
       "    <tr>\n",
       "      <th>1</th>\n",
       "      <td>1_251</td>\n",
       "      <td>2022-02-02 07:55:19.149409</td>\n",
       "      <td>s_158752</td>\n",
       "      <td>c_8534</td>\n",
       "    </tr>\n",
       "    <tr>\n",
       "      <th>2</th>\n",
       "      <td>0_1277</td>\n",
       "      <td>2022-06-18 15:44:33.155329</td>\n",
       "      <td>s_225667</td>\n",
       "      <td>c_6714</td>\n",
       "    </tr>\n",
       "    <tr>\n",
       "      <th>3</th>\n",
       "      <td>2_209</td>\n",
       "      <td>2021-06-24 04:19:29.835891</td>\n",
       "      <td>s_52962</td>\n",
       "      <td>c_6941</td>\n",
       "    </tr>\n",
       "    <tr>\n",
       "      <th>4</th>\n",
       "      <td>0_1509</td>\n",
       "      <td>2023-01-11 08:22:08.194479</td>\n",
       "      <td>s_325227</td>\n",
       "      <td>c_4232</td>\n",
       "    </tr>\n",
       "    <tr>\n",
       "      <th>...</th>\n",
       "      <td>...</td>\n",
       "      <td>...</td>\n",
       "      <td>...</td>\n",
       "      <td>...</td>\n",
       "    </tr>\n",
       "    <tr>\n",
       "      <th>679527</th>\n",
       "      <td>0_1551</td>\n",
       "      <td>2022-01-15 13:05:06.246925</td>\n",
       "      <td>s_150195</td>\n",
       "      <td>c_8489</td>\n",
       "    </tr>\n",
       "    <tr>\n",
       "      <th>679528</th>\n",
       "      <td>1_639</td>\n",
       "      <td>2022-03-19 16:03:23.429229</td>\n",
       "      <td>s_181434</td>\n",
       "      <td>c_4370</td>\n",
       "    </tr>\n",
       "    <tr>\n",
       "      <th>679529</th>\n",
       "      <td>0_1425</td>\n",
       "      <td>2022-12-20 04:33:37.584749</td>\n",
       "      <td>s_314704</td>\n",
       "      <td>c_304</td>\n",
       "    </tr>\n",
       "    <tr>\n",
       "      <th>679530</th>\n",
       "      <td>0_1994</td>\n",
       "      <td>2021-07-16 20:36:35.350579</td>\n",
       "      <td>s_63204</td>\n",
       "      <td>c_2227</td>\n",
       "    </tr>\n",
       "    <tr>\n",
       "      <th>679531</th>\n",
       "      <td>1_523</td>\n",
       "      <td>2022-09-28 01:12:01.973763</td>\n",
       "      <td>s_274568</td>\n",
       "      <td>c_3873</td>\n",
       "    </tr>\n",
       "  </tbody>\n",
       "</table>\n",
       "<p>679332 rows × 4 columns</p>\n",
       "</div>"
      ],
      "text/plain": [
       "       id_prod                       date session_id client_id\n",
       "0       0_1518 2022-05-20 13:21:29.043970   s_211425     c_103\n",
       "1        1_251 2022-02-02 07:55:19.149409   s_158752    c_8534\n",
       "2       0_1277 2022-06-18 15:44:33.155329   s_225667    c_6714\n",
       "3        2_209 2021-06-24 04:19:29.835891    s_52962    c_6941\n",
       "4       0_1509 2023-01-11 08:22:08.194479   s_325227    c_4232\n",
       "...        ...                        ...        ...       ...\n",
       "679527  0_1551 2022-01-15 13:05:06.246925   s_150195    c_8489\n",
       "679528   1_639 2022-03-19 16:03:23.429229   s_181434    c_4370\n",
       "679529  0_1425 2022-12-20 04:33:37.584749   s_314704     c_304\n",
       "679530  0_1994 2021-07-16 20:36:35.350579    s_63204    c_2227\n",
       "679531   1_523 2022-09-28 01:12:01.973763   s_274568    c_3873\n",
       "\n",
       "[679332 rows x 4 columns]"
      ]
     },
     "execution_count": 22,
     "metadata": {},
     "output_type": "execute_result"
    }
   ],
   "source": [
    "transactions"
   ]
  },
  {
   "cell_type": "code",
   "execution_count": 23,
   "id": "0f555975",
   "metadata": {
    "scrolled": true
   },
   "outputs": [
    {
     "data": {
      "text/html": [
       "<div>\n",
       "<style scoped>\n",
       "    .dataframe tbody tr th:only-of-type {\n",
       "        vertical-align: middle;\n",
       "    }\n",
       "\n",
       "    .dataframe tbody tr th {\n",
       "        vertical-align: top;\n",
       "    }\n",
       "\n",
       "    .dataframe thead th {\n",
       "        text-align: right;\n",
       "    }\n",
       "</style>\n",
       "<table border=\"1\" class=\"dataframe\">\n",
       "  <thead>\n",
       "    <tr style=\"text-align: right;\">\n",
       "      <th></th>\n",
       "      <th>id_prod</th>\n",
       "      <th>price</th>\n",
       "      <th>categ</th>\n",
       "    </tr>\n",
       "  </thead>\n",
       "  <tbody>\n",
       "    <tr>\n",
       "      <th>0</th>\n",
       "      <td>0_1421</td>\n",
       "      <td>19.99</td>\n",
       "      <td>0</td>\n",
       "    </tr>\n",
       "    <tr>\n",
       "      <th>1</th>\n",
       "      <td>0_1368</td>\n",
       "      <td>5.13</td>\n",
       "      <td>0</td>\n",
       "    </tr>\n",
       "    <tr>\n",
       "      <th>2</th>\n",
       "      <td>0_731</td>\n",
       "      <td>17.99</td>\n",
       "      <td>0</td>\n",
       "    </tr>\n",
       "    <tr>\n",
       "      <th>3</th>\n",
       "      <td>1_587</td>\n",
       "      <td>4.99</td>\n",
       "      <td>1</td>\n",
       "    </tr>\n",
       "    <tr>\n",
       "      <th>4</th>\n",
       "      <td>0_1507</td>\n",
       "      <td>3.99</td>\n",
       "      <td>0</td>\n",
       "    </tr>\n",
       "    <tr>\n",
       "      <th>...</th>\n",
       "      <td>...</td>\n",
       "      <td>...</td>\n",
       "      <td>...</td>\n",
       "    </tr>\n",
       "    <tr>\n",
       "      <th>3282</th>\n",
       "      <td>2_23</td>\n",
       "      <td>115.99</td>\n",
       "      <td>2</td>\n",
       "    </tr>\n",
       "    <tr>\n",
       "      <th>3283</th>\n",
       "      <td>0_146</td>\n",
       "      <td>17.14</td>\n",
       "      <td>0</td>\n",
       "    </tr>\n",
       "    <tr>\n",
       "      <th>3284</th>\n",
       "      <td>0_802</td>\n",
       "      <td>11.22</td>\n",
       "      <td>0</td>\n",
       "    </tr>\n",
       "    <tr>\n",
       "      <th>3285</th>\n",
       "      <td>1_140</td>\n",
       "      <td>38.56</td>\n",
       "      <td>1</td>\n",
       "    </tr>\n",
       "    <tr>\n",
       "      <th>3286</th>\n",
       "      <td>0_1920</td>\n",
       "      <td>25.16</td>\n",
       "      <td>0</td>\n",
       "    </tr>\n",
       "  </tbody>\n",
       "</table>\n",
       "<p>3287 rows × 3 columns</p>\n",
       "</div>"
      ],
      "text/plain": [
       "     id_prod   price  categ\n",
       "0     0_1421   19.99      0\n",
       "1     0_1368    5.13      0\n",
       "2      0_731   17.99      0\n",
       "3      1_587    4.99      1\n",
       "4     0_1507    3.99      0\n",
       "...      ...     ...    ...\n",
       "3282    2_23  115.99      2\n",
       "3283   0_146   17.14      0\n",
       "3284   0_802   11.22      0\n",
       "3285   1_140   38.56      1\n",
       "3286  0_1920   25.16      0\n",
       "\n",
       "[3287 rows x 3 columns]"
      ]
     },
     "execution_count": 23,
     "metadata": {},
     "output_type": "execute_result"
    }
   ],
   "source": [
    "products\n"
   ]
  },
  {
   "cell_type": "raw",
   "id": "4461b821",
   "metadata": {},
   "source": [
    "les 2 tables possedent le meme nom de clé\n"
   ]
  },
  {
   "cell_type": "code",
   "execution_count": 24,
   "id": "3174c880",
   "metadata": {},
   "outputs": [
    {
     "data": {
      "text/html": [
       "<div>\n",
       "<style scoped>\n",
       "    .dataframe tbody tr th:only-of-type {\n",
       "        vertical-align: middle;\n",
       "    }\n",
       "\n",
       "    .dataframe tbody tr th {\n",
       "        vertical-align: top;\n",
       "    }\n",
       "\n",
       "    .dataframe thead th {\n",
       "        text-align: right;\n",
       "    }\n",
       "</style>\n",
       "<table border=\"1\" class=\"dataframe\">\n",
       "  <thead>\n",
       "    <tr style=\"text-align: right;\">\n",
       "      <th></th>\n",
       "      <th>id_prod</th>\n",
       "      <th>date</th>\n",
       "      <th>session_id</th>\n",
       "      <th>client_id</th>\n",
       "      <th>price</th>\n",
       "      <th>categ</th>\n",
       "      <th>_merge</th>\n",
       "    </tr>\n",
       "  </thead>\n",
       "  <tbody>\n",
       "    <tr>\n",
       "      <th>0</th>\n",
       "      <td>0_1518</td>\n",
       "      <td>2022-05-20 13:21:29.043970</td>\n",
       "      <td>s_211425</td>\n",
       "      <td>c_103</td>\n",
       "      <td>4.18</td>\n",
       "      <td>0.0</td>\n",
       "      <td>both</td>\n",
       "    </tr>\n",
       "    <tr>\n",
       "      <th>1</th>\n",
       "      <td>0_1518</td>\n",
       "      <td>2021-09-26 12:37:29.780414</td>\n",
       "      <td>s_95811</td>\n",
       "      <td>c_6197</td>\n",
       "      <td>4.18</td>\n",
       "      <td>0.0</td>\n",
       "      <td>both</td>\n",
       "    </tr>\n",
       "    <tr>\n",
       "      <th>2</th>\n",
       "      <td>0_1518</td>\n",
       "      <td>2021-05-06 17:14:43.117440</td>\n",
       "      <td>s_30782</td>\n",
       "      <td>c_682</td>\n",
       "      <td>4.18</td>\n",
       "      <td>0.0</td>\n",
       "      <td>both</td>\n",
       "    </tr>\n",
       "    <tr>\n",
       "      <th>3</th>\n",
       "      <td>0_1518</td>\n",
       "      <td>2022-03-16 18:57:10.420103</td>\n",
       "      <td>s_180057</td>\n",
       "      <td>c_5932</td>\n",
       "      <td>4.18</td>\n",
       "      <td>0.0</td>\n",
       "      <td>both</td>\n",
       "    </tr>\n",
       "    <tr>\n",
       "      <th>4</th>\n",
       "      <td>0_1518</td>\n",
       "      <td>2022-11-12 18:58:10.574853</td>\n",
       "      <td>s_296584</td>\n",
       "      <td>c_7217</td>\n",
       "      <td>4.18</td>\n",
       "      <td>0.0</td>\n",
       "      <td>both</td>\n",
       "    </tr>\n",
       "    <tr>\n",
       "      <th>...</th>\n",
       "      <td>...</td>\n",
       "      <td>...</td>\n",
       "      <td>...</td>\n",
       "      <td>...</td>\n",
       "      <td>...</td>\n",
       "      <td>...</td>\n",
       "      <td>...</td>\n",
       "    </tr>\n",
       "    <tr>\n",
       "      <th>679349</th>\n",
       "      <td>0_1624</td>\n",
       "      <td>NaT</td>\n",
       "      <td>NaN</td>\n",
       "      <td>NaN</td>\n",
       "      <td>24.50</td>\n",
       "      <td>0.0</td>\n",
       "      <td>right_only</td>\n",
       "    </tr>\n",
       "    <tr>\n",
       "      <th>679350</th>\n",
       "      <td>2_86</td>\n",
       "      <td>NaT</td>\n",
       "      <td>NaN</td>\n",
       "      <td>NaN</td>\n",
       "      <td>132.36</td>\n",
       "      <td>2.0</td>\n",
       "      <td>right_only</td>\n",
       "    </tr>\n",
       "    <tr>\n",
       "      <th>679351</th>\n",
       "      <td>0_299</td>\n",
       "      <td>NaT</td>\n",
       "      <td>NaN</td>\n",
       "      <td>NaN</td>\n",
       "      <td>22.99</td>\n",
       "      <td>0.0</td>\n",
       "      <td>right_only</td>\n",
       "    </tr>\n",
       "    <tr>\n",
       "      <th>679352</th>\n",
       "      <td>0_510</td>\n",
       "      <td>NaT</td>\n",
       "      <td>NaN</td>\n",
       "      <td>NaN</td>\n",
       "      <td>23.66</td>\n",
       "      <td>0.0</td>\n",
       "      <td>right_only</td>\n",
       "    </tr>\n",
       "    <tr>\n",
       "      <th>679353</th>\n",
       "      <td>0_2308</td>\n",
       "      <td>NaT</td>\n",
       "      <td>NaN</td>\n",
       "      <td>NaN</td>\n",
       "      <td>20.28</td>\n",
       "      <td>0.0</td>\n",
       "      <td>right_only</td>\n",
       "    </tr>\n",
       "  </tbody>\n",
       "</table>\n",
       "<p>679354 rows × 7 columns</p>\n",
       "</div>"
      ],
      "text/plain": [
       "       id_prod                       date session_id client_id   price  categ  \\\n",
       "0       0_1518 2022-05-20 13:21:29.043970   s_211425     c_103    4.18    0.0   \n",
       "1       0_1518 2021-09-26 12:37:29.780414    s_95811    c_6197    4.18    0.0   \n",
       "2       0_1518 2021-05-06 17:14:43.117440    s_30782     c_682    4.18    0.0   \n",
       "3       0_1518 2022-03-16 18:57:10.420103   s_180057    c_5932    4.18    0.0   \n",
       "4       0_1518 2022-11-12 18:58:10.574853   s_296584    c_7217    4.18    0.0   \n",
       "...        ...                        ...        ...       ...     ...    ...   \n",
       "679349  0_1624                        NaT        NaN       NaN   24.50    0.0   \n",
       "679350    2_86                        NaT        NaN       NaN  132.36    2.0   \n",
       "679351   0_299                        NaT        NaN       NaN   22.99    0.0   \n",
       "679352   0_510                        NaT        NaN       NaN   23.66    0.0   \n",
       "679353  0_2308                        NaT        NaN       NaN   20.28    0.0   \n",
       "\n",
       "            _merge  \n",
       "0             both  \n",
       "1             both  \n",
       "2             both  \n",
       "3             both  \n",
       "4             both  \n",
       "...            ...  \n",
       "679349  right_only  \n",
       "679350  right_only  \n",
       "679351  right_only  \n",
       "679352  right_only  \n",
       "679353  right_only  \n",
       "\n",
       "[679354 rows x 7 columns]"
      ]
     },
     "execution_count": 24,
     "metadata": {},
     "output_type": "execute_result"
    }
   ],
   "source": [
    "df_global =  transactions.merge(products,on='id_prod',indicator = True,how = 'outer')\n",
    "df_global"
   ]
  },
  {
   "cell_type": "code",
   "execution_count": 25,
   "id": "1b0f8f0f",
   "metadata": {},
   "outputs": [
    {
     "data": {
      "text/html": [
       "<div>\n",
       "<style scoped>\n",
       "    .dataframe tbody tr th:only-of-type {\n",
       "        vertical-align: middle;\n",
       "    }\n",
       "\n",
       "    .dataframe tbody tr th {\n",
       "        vertical-align: top;\n",
       "    }\n",
       "\n",
       "    .dataframe thead th {\n",
       "        text-align: right;\n",
       "    }\n",
       "</style>\n",
       "<table border=\"1\" class=\"dataframe\">\n",
       "  <thead>\n",
       "    <tr style=\"text-align: right;\">\n",
       "      <th></th>\n",
       "      <th>id_prod</th>\n",
       "      <th>date</th>\n",
       "      <th>session_id</th>\n",
       "      <th>client_id</th>\n",
       "      <th>price</th>\n",
       "      <th>categ</th>\n",
       "      <th>_merge</th>\n",
       "    </tr>\n",
       "  </thead>\n",
       "  <tbody>\n",
       "    <tr>\n",
       "      <th>542560</th>\n",
       "      <td>0_2245</td>\n",
       "      <td>2022-09-23 07:22:38.636773</td>\n",
       "      <td>s_272266</td>\n",
       "      <td>c_4746</td>\n",
       "      <td>NaN</td>\n",
       "      <td>NaN</td>\n",
       "      <td>left_only</td>\n",
       "    </tr>\n",
       "    <tr>\n",
       "      <th>542561</th>\n",
       "      <td>0_2245</td>\n",
       "      <td>2022-07-23 09:24:14.133889</td>\n",
       "      <td>s_242482</td>\n",
       "      <td>c_6713</td>\n",
       "      <td>NaN</td>\n",
       "      <td>NaN</td>\n",
       "      <td>left_only</td>\n",
       "    </tr>\n",
       "    <tr>\n",
       "      <th>542562</th>\n",
       "      <td>0_2245</td>\n",
       "      <td>2022-12-03 03:26:35.696673</td>\n",
       "      <td>s_306338</td>\n",
       "      <td>c_5108</td>\n",
       "      <td>NaN</td>\n",
       "      <td>NaN</td>\n",
       "      <td>left_only</td>\n",
       "    </tr>\n",
       "    <tr>\n",
       "      <th>542563</th>\n",
       "      <td>0_2245</td>\n",
       "      <td>2021-08-16 11:33:25.481411</td>\n",
       "      <td>s_76493</td>\n",
       "      <td>c_1391</td>\n",
       "      <td>NaN</td>\n",
       "      <td>NaN</td>\n",
       "      <td>left_only</td>\n",
       "    </tr>\n",
       "    <tr>\n",
       "      <th>542564</th>\n",
       "      <td>0_2245</td>\n",
       "      <td>2022-07-16 05:53:01.627491</td>\n",
       "      <td>s_239078</td>\n",
       "      <td>c_7954</td>\n",
       "      <td>NaN</td>\n",
       "      <td>NaN</td>\n",
       "      <td>left_only</td>\n",
       "    </tr>\n",
       "    <tr>\n",
       "      <th>...</th>\n",
       "      <td>...</td>\n",
       "      <td>...</td>\n",
       "      <td>...</td>\n",
       "      <td>...</td>\n",
       "      <td>...</td>\n",
       "      <td>...</td>\n",
       "      <td>...</td>\n",
       "    </tr>\n",
       "    <tr>\n",
       "      <th>679349</th>\n",
       "      <td>0_1624</td>\n",
       "      <td>NaT</td>\n",
       "      <td>NaN</td>\n",
       "      <td>NaN</td>\n",
       "      <td>24.50</td>\n",
       "      <td>0.0</td>\n",
       "      <td>right_only</td>\n",
       "    </tr>\n",
       "    <tr>\n",
       "      <th>679350</th>\n",
       "      <td>2_86</td>\n",
       "      <td>NaT</td>\n",
       "      <td>NaN</td>\n",
       "      <td>NaN</td>\n",
       "      <td>132.36</td>\n",
       "      <td>2.0</td>\n",
       "      <td>right_only</td>\n",
       "    </tr>\n",
       "    <tr>\n",
       "      <th>679351</th>\n",
       "      <td>0_299</td>\n",
       "      <td>NaT</td>\n",
       "      <td>NaN</td>\n",
       "      <td>NaN</td>\n",
       "      <td>22.99</td>\n",
       "      <td>0.0</td>\n",
       "      <td>right_only</td>\n",
       "    </tr>\n",
       "    <tr>\n",
       "      <th>679352</th>\n",
       "      <td>0_510</td>\n",
       "      <td>NaT</td>\n",
       "      <td>NaN</td>\n",
       "      <td>NaN</td>\n",
       "      <td>23.66</td>\n",
       "      <td>0.0</td>\n",
       "      <td>right_only</td>\n",
       "    </tr>\n",
       "    <tr>\n",
       "      <th>679353</th>\n",
       "      <td>0_2308</td>\n",
       "      <td>NaT</td>\n",
       "      <td>NaN</td>\n",
       "      <td>NaN</td>\n",
       "      <td>20.28</td>\n",
       "      <td>0.0</td>\n",
       "      <td>right_only</td>\n",
       "    </tr>\n",
       "  </tbody>\n",
       "</table>\n",
       "<p>243 rows × 7 columns</p>\n",
       "</div>"
      ],
      "text/plain": [
       "       id_prod                       date session_id client_id   price  categ  \\\n",
       "542560  0_2245 2022-09-23 07:22:38.636773   s_272266    c_4746     NaN    NaN   \n",
       "542561  0_2245 2022-07-23 09:24:14.133889   s_242482    c_6713     NaN    NaN   \n",
       "542562  0_2245 2022-12-03 03:26:35.696673   s_306338    c_5108     NaN    NaN   \n",
       "542563  0_2245 2021-08-16 11:33:25.481411    s_76493    c_1391     NaN    NaN   \n",
       "542564  0_2245 2022-07-16 05:53:01.627491   s_239078    c_7954     NaN    NaN   \n",
       "...        ...                        ...        ...       ...     ...    ...   \n",
       "679349  0_1624                        NaT        NaN       NaN   24.50    0.0   \n",
       "679350    2_86                        NaT        NaN       NaN  132.36    2.0   \n",
       "679351   0_299                        NaT        NaN       NaN   22.99    0.0   \n",
       "679352   0_510                        NaT        NaN       NaN   23.66    0.0   \n",
       "679353  0_2308                        NaT        NaN       NaN   20.28    0.0   \n",
       "\n",
       "            _merge  \n",
       "542560   left_only  \n",
       "542561   left_only  \n",
       "542562   left_only  \n",
       "542563   left_only  \n",
       "542564   left_only  \n",
       "...            ...  \n",
       "679349  right_only  \n",
       "679350  right_only  \n",
       "679351  right_only  \n",
       "679352  right_only  \n",
       "679353  right_only  \n",
       "\n",
       "[243 rows x 7 columns]"
      ]
     },
     "execution_count": 25,
     "metadata": {},
     "output_type": "execute_result"
    }
   ],
   "source": [
    "df_global[df_global[\"_merge\"]!=\"both\"]"
   ]
  },
  {
   "cell_type": "raw",
   "id": "4c6c55c1",
   "metadata": {},
   "source": [
    "Les produits \"right only\" sont des produits qui n'ont pas encore été vendus \n",
    "les produits \"left only\" correspondent à des valeurs manquantes ( ex: produit mal renseigné )"
   ]
  },
  {
   "cell_type": "code",
   "execution_count": 26,
   "id": "5666f1e1",
   "metadata": {
    "scrolled": true
   },
   "outputs": [
    {
     "data": {
      "text/plain": [
       "id_prod         1\n",
       "date          221\n",
       "session_id    221\n",
       "client_id     100\n",
       "price           0\n",
       "categ           0\n",
       "_merge          1\n",
       "dtype: int64"
      ]
     },
     "execution_count": 26,
     "metadata": {},
     "output_type": "execute_result"
    }
   ],
   "source": [
    "df_global[df_global[\"_merge\"]==\"left_only\"].nunique()"
   ]
  },
  {
   "cell_type": "markdown",
   "id": "55ddc597",
   "metadata": {},
   "source": [
    "On constate qu'il n'y a qu'un seul produit qui n'est pas renseigné: \n",
    "On dispose de 2 options :\n",
    "soit on le supprime \n",
    "soit on essaye de retrouver ou estimer son prix "
   ]
  },
  {
   "cell_type": "code",
   "execution_count": 27,
   "id": "7d3372be",
   "metadata": {},
   "outputs": [
    {
     "data": {
      "text/html": [
       "<div>\n",
       "<style scoped>\n",
       "    .dataframe tbody tr th:only-of-type {\n",
       "        vertical-align: middle;\n",
       "    }\n",
       "\n",
       "    .dataframe tbody tr th {\n",
       "        vertical-align: top;\n",
       "    }\n",
       "\n",
       "    .dataframe thead th {\n",
       "        text-align: right;\n",
       "    }\n",
       "</style>\n",
       "<table border=\"1\" class=\"dataframe\">\n",
       "  <thead>\n",
       "    <tr style=\"text-align: right;\">\n",
       "      <th></th>\n",
       "      <th>id_prod</th>\n",
       "      <th>date</th>\n",
       "      <th>session_id</th>\n",
       "      <th>client_id</th>\n",
       "      <th>price</th>\n",
       "      <th>categ</th>\n",
       "      <th>_merge</th>\n",
       "    </tr>\n",
       "  </thead>\n",
       "  <tbody>\n",
       "    <tr>\n",
       "      <th>0</th>\n",
       "      <td>0_1518</td>\n",
       "      <td>2022-05-20 13:21:29.043970</td>\n",
       "      <td>s_211425</td>\n",
       "      <td>c_103</td>\n",
       "      <td>4.18</td>\n",
       "      <td>0.0</td>\n",
       "      <td>both</td>\n",
       "    </tr>\n",
       "    <tr>\n",
       "      <th>1</th>\n",
       "      <td>0_1518</td>\n",
       "      <td>2021-09-26 12:37:29.780414</td>\n",
       "      <td>s_95811</td>\n",
       "      <td>c_6197</td>\n",
       "      <td>4.18</td>\n",
       "      <td>0.0</td>\n",
       "      <td>both</td>\n",
       "    </tr>\n",
       "    <tr>\n",
       "      <th>2</th>\n",
       "      <td>0_1518</td>\n",
       "      <td>2021-05-06 17:14:43.117440</td>\n",
       "      <td>s_30782</td>\n",
       "      <td>c_682</td>\n",
       "      <td>4.18</td>\n",
       "      <td>0.0</td>\n",
       "      <td>both</td>\n",
       "    </tr>\n",
       "    <tr>\n",
       "      <th>3</th>\n",
       "      <td>0_1518</td>\n",
       "      <td>2022-03-16 18:57:10.420103</td>\n",
       "      <td>s_180057</td>\n",
       "      <td>c_5932</td>\n",
       "      <td>4.18</td>\n",
       "      <td>0.0</td>\n",
       "      <td>both</td>\n",
       "    </tr>\n",
       "    <tr>\n",
       "      <th>4</th>\n",
       "      <td>0_1518</td>\n",
       "      <td>2022-11-12 18:58:10.574853</td>\n",
       "      <td>s_296584</td>\n",
       "      <td>c_7217</td>\n",
       "      <td>4.18</td>\n",
       "      <td>0.0</td>\n",
       "      <td>both</td>\n",
       "    </tr>\n",
       "    <tr>\n",
       "      <th>...</th>\n",
       "      <td>...</td>\n",
       "      <td>...</td>\n",
       "      <td>...</td>\n",
       "      <td>...</td>\n",
       "      <td>...</td>\n",
       "      <td>...</td>\n",
       "      <td>...</td>\n",
       "    </tr>\n",
       "    <tr>\n",
       "      <th>679327</th>\n",
       "      <td>0_1279</td>\n",
       "      <td>2021-06-23 06:50:48.888907</td>\n",
       "      <td>s_52563</td>\n",
       "      <td>c_1025</td>\n",
       "      <td>20.99</td>\n",
       "      <td>0.0</td>\n",
       "      <td>both</td>\n",
       "    </tr>\n",
       "    <tr>\n",
       "      <th>679328</th>\n",
       "      <td>0_1683</td>\n",
       "      <td>2021-12-24 04:37:46.407713</td>\n",
       "      <td>s_139091</td>\n",
       "      <td>c_5508</td>\n",
       "      <td>2.99</td>\n",
       "      <td>0.0</td>\n",
       "      <td>both</td>\n",
       "    </tr>\n",
       "    <tr>\n",
       "      <th>679329</th>\n",
       "      <td>0_1379</td>\n",
       "      <td>2021-10-16 09:19:09.546713</td>\n",
       "      <td>s_105547</td>\n",
       "      <td>c_5425</td>\n",
       "      <td>2.99</td>\n",
       "      <td>0.0</td>\n",
       "      <td>both</td>\n",
       "    </tr>\n",
       "    <tr>\n",
       "      <th>679330</th>\n",
       "      <td>0_886</td>\n",
       "      <td>2021-03-17 03:34:14.461358</td>\n",
       "      <td>s_7410</td>\n",
       "      <td>c_7219</td>\n",
       "      <td>21.82</td>\n",
       "      <td>0.0</td>\n",
       "      <td>both</td>\n",
       "    </tr>\n",
       "    <tr>\n",
       "      <th>679331</th>\n",
       "      <td>0_833</td>\n",
       "      <td>2021-09-27 23:22:40.394509</td>\n",
       "      <td>s_96558</td>\n",
       "      <td>c_8260</td>\n",
       "      <td>2.99</td>\n",
       "      <td>0.0</td>\n",
       "      <td>both</td>\n",
       "    </tr>\n",
       "  </tbody>\n",
       "</table>\n",
       "<p>679111 rows × 7 columns</p>\n",
       "</div>"
      ],
      "text/plain": [
       "       id_prod                       date session_id client_id  price  categ  \\\n",
       "0       0_1518 2022-05-20 13:21:29.043970   s_211425     c_103   4.18    0.0   \n",
       "1       0_1518 2021-09-26 12:37:29.780414    s_95811    c_6197   4.18    0.0   \n",
       "2       0_1518 2021-05-06 17:14:43.117440    s_30782     c_682   4.18    0.0   \n",
       "3       0_1518 2022-03-16 18:57:10.420103   s_180057    c_5932   4.18    0.0   \n",
       "4       0_1518 2022-11-12 18:58:10.574853   s_296584    c_7217   4.18    0.0   \n",
       "...        ...                        ...        ...       ...    ...    ...   \n",
       "679327  0_1279 2021-06-23 06:50:48.888907    s_52563    c_1025  20.99    0.0   \n",
       "679328  0_1683 2021-12-24 04:37:46.407713   s_139091    c_5508   2.99    0.0   \n",
       "679329  0_1379 2021-10-16 09:19:09.546713   s_105547    c_5425   2.99    0.0   \n",
       "679330   0_886 2021-03-17 03:34:14.461358     s_7410    c_7219  21.82    0.0   \n",
       "679331   0_833 2021-09-27 23:22:40.394509    s_96558    c_8260   2.99    0.0   \n",
       "\n",
       "       _merge  \n",
       "0        both  \n",
       "1        both  \n",
       "2        both  \n",
       "3        both  \n",
       "4        both  \n",
       "...       ...  \n",
       "679327   both  \n",
       "679328   both  \n",
       "679329   both  \n",
       "679330   both  \n",
       "679331   both  \n",
       "\n",
       "[679111 rows x 7 columns]"
      ]
     },
     "execution_count": 27,
     "metadata": {},
     "output_type": "execute_result"
    }
   ],
   "source": [
    "df_global = df_global[df_global[\"_merge\"]==\"both\"]\n",
    "df_global"
   ]
  },
  {
   "cell_type": "code",
   "execution_count": 28,
   "id": "9982a4ca",
   "metadata": {},
   "outputs": [
    {
     "data": {
      "text/html": [
       "<div>\n",
       "<style scoped>\n",
       "    .dataframe tbody tr th:only-of-type {\n",
       "        vertical-align: middle;\n",
       "    }\n",
       "\n",
       "    .dataframe tbody tr th {\n",
       "        vertical-align: top;\n",
       "    }\n",
       "\n",
       "    .dataframe thead th {\n",
       "        text-align: right;\n",
       "    }\n",
       "</style>\n",
       "<table border=\"1\" class=\"dataframe\">\n",
       "  <thead>\n",
       "    <tr style=\"text-align: right;\">\n",
       "      <th></th>\n",
       "      <th>id_prod</th>\n",
       "      <th>date</th>\n",
       "      <th>session_id</th>\n",
       "      <th>client_id</th>\n",
       "      <th>price</th>\n",
       "      <th>categ</th>\n",
       "    </tr>\n",
       "  </thead>\n",
       "  <tbody>\n",
       "    <tr>\n",
       "      <th>0</th>\n",
       "      <td>0_1518</td>\n",
       "      <td>2022-05-20 13:21:29.043970</td>\n",
       "      <td>s_211425</td>\n",
       "      <td>c_103</td>\n",
       "      <td>4.18</td>\n",
       "      <td>0.0</td>\n",
       "    </tr>\n",
       "    <tr>\n",
       "      <th>1</th>\n",
       "      <td>0_1518</td>\n",
       "      <td>2021-09-26 12:37:29.780414</td>\n",
       "      <td>s_95811</td>\n",
       "      <td>c_6197</td>\n",
       "      <td>4.18</td>\n",
       "      <td>0.0</td>\n",
       "    </tr>\n",
       "    <tr>\n",
       "      <th>2</th>\n",
       "      <td>0_1518</td>\n",
       "      <td>2021-05-06 17:14:43.117440</td>\n",
       "      <td>s_30782</td>\n",
       "      <td>c_682</td>\n",
       "      <td>4.18</td>\n",
       "      <td>0.0</td>\n",
       "    </tr>\n",
       "    <tr>\n",
       "      <th>3</th>\n",
       "      <td>0_1518</td>\n",
       "      <td>2022-03-16 18:57:10.420103</td>\n",
       "      <td>s_180057</td>\n",
       "      <td>c_5932</td>\n",
       "      <td>4.18</td>\n",
       "      <td>0.0</td>\n",
       "    </tr>\n",
       "    <tr>\n",
       "      <th>4</th>\n",
       "      <td>0_1518</td>\n",
       "      <td>2022-11-12 18:58:10.574853</td>\n",
       "      <td>s_296584</td>\n",
       "      <td>c_7217</td>\n",
       "      <td>4.18</td>\n",
       "      <td>0.0</td>\n",
       "    </tr>\n",
       "    <tr>\n",
       "      <th>...</th>\n",
       "      <td>...</td>\n",
       "      <td>...</td>\n",
       "      <td>...</td>\n",
       "      <td>...</td>\n",
       "      <td>...</td>\n",
       "      <td>...</td>\n",
       "    </tr>\n",
       "    <tr>\n",
       "      <th>679327</th>\n",
       "      <td>0_1279</td>\n",
       "      <td>2021-06-23 06:50:48.888907</td>\n",
       "      <td>s_52563</td>\n",
       "      <td>c_1025</td>\n",
       "      <td>20.99</td>\n",
       "      <td>0.0</td>\n",
       "    </tr>\n",
       "    <tr>\n",
       "      <th>679328</th>\n",
       "      <td>0_1683</td>\n",
       "      <td>2021-12-24 04:37:46.407713</td>\n",
       "      <td>s_139091</td>\n",
       "      <td>c_5508</td>\n",
       "      <td>2.99</td>\n",
       "      <td>0.0</td>\n",
       "    </tr>\n",
       "    <tr>\n",
       "      <th>679329</th>\n",
       "      <td>0_1379</td>\n",
       "      <td>2021-10-16 09:19:09.546713</td>\n",
       "      <td>s_105547</td>\n",
       "      <td>c_5425</td>\n",
       "      <td>2.99</td>\n",
       "      <td>0.0</td>\n",
       "    </tr>\n",
       "    <tr>\n",
       "      <th>679330</th>\n",
       "      <td>0_886</td>\n",
       "      <td>2021-03-17 03:34:14.461358</td>\n",
       "      <td>s_7410</td>\n",
       "      <td>c_7219</td>\n",
       "      <td>21.82</td>\n",
       "      <td>0.0</td>\n",
       "    </tr>\n",
       "    <tr>\n",
       "      <th>679331</th>\n",
       "      <td>0_833</td>\n",
       "      <td>2021-09-27 23:22:40.394509</td>\n",
       "      <td>s_96558</td>\n",
       "      <td>c_8260</td>\n",
       "      <td>2.99</td>\n",
       "      <td>0.0</td>\n",
       "    </tr>\n",
       "  </tbody>\n",
       "</table>\n",
       "<p>679111 rows × 6 columns</p>\n",
       "</div>"
      ],
      "text/plain": [
       "       id_prod                       date session_id client_id  price  categ\n",
       "0       0_1518 2022-05-20 13:21:29.043970   s_211425     c_103   4.18    0.0\n",
       "1       0_1518 2021-09-26 12:37:29.780414    s_95811    c_6197   4.18    0.0\n",
       "2       0_1518 2021-05-06 17:14:43.117440    s_30782     c_682   4.18    0.0\n",
       "3       0_1518 2022-03-16 18:57:10.420103   s_180057    c_5932   4.18    0.0\n",
       "4       0_1518 2022-11-12 18:58:10.574853   s_296584    c_7217   4.18    0.0\n",
       "...        ...                        ...        ...       ...    ...    ...\n",
       "679327  0_1279 2021-06-23 06:50:48.888907    s_52563    c_1025  20.99    0.0\n",
       "679328  0_1683 2021-12-24 04:37:46.407713   s_139091    c_5508   2.99    0.0\n",
       "679329  0_1379 2021-10-16 09:19:09.546713   s_105547    c_5425   2.99    0.0\n",
       "679330   0_886 2021-03-17 03:34:14.461358     s_7410    c_7219  21.82    0.0\n",
       "679331   0_833 2021-09-27 23:22:40.394509    s_96558    c_8260   2.99    0.0\n",
       "\n",
       "[679111 rows x 6 columns]"
      ]
     },
     "execution_count": 28,
     "metadata": {},
     "output_type": "execute_result"
    }
   ],
   "source": [
    "df_global.drop([\"_merge\"], axis=1, inplace=True)\n",
    "df_global"
   ]
  },
  {
   "cell_type": "raw",
   "id": "42760ff1",
   "metadata": {},
   "source": [
    "on rajoute maintenant le fichier customers \n"
   ]
  },
  {
   "cell_type": "code",
   "execution_count": 29,
   "id": "4471e6d8",
   "metadata": {},
   "outputs": [
    {
     "data": {
      "text/html": [
       "<div>\n",
       "<style scoped>\n",
       "    .dataframe tbody tr th:only-of-type {\n",
       "        vertical-align: middle;\n",
       "    }\n",
       "\n",
       "    .dataframe tbody tr th {\n",
       "        vertical-align: top;\n",
       "    }\n",
       "\n",
       "    .dataframe thead th {\n",
       "        text-align: right;\n",
       "    }\n",
       "</style>\n",
       "<table border=\"1\" class=\"dataframe\">\n",
       "  <thead>\n",
       "    <tr style=\"text-align: right;\">\n",
       "      <th></th>\n",
       "      <th>id_prod</th>\n",
       "      <th>date</th>\n",
       "      <th>session_id</th>\n",
       "      <th>client_id</th>\n",
       "      <th>price</th>\n",
       "      <th>categ</th>\n",
       "      <th>sex</th>\n",
       "      <th>birth</th>\n",
       "      <th>age</th>\n",
       "      <th>_merge</th>\n",
       "    </tr>\n",
       "  </thead>\n",
       "  <tbody>\n",
       "    <tr>\n",
       "      <th>0</th>\n",
       "      <td>0_1518</td>\n",
       "      <td>2022-05-20 13:21:29.043970</td>\n",
       "      <td>s_211425</td>\n",
       "      <td>c_103</td>\n",
       "      <td>4.18</td>\n",
       "      <td>0.0</td>\n",
       "      <td>f</td>\n",
       "      <td>1986</td>\n",
       "      <td>37</td>\n",
       "      <td>both</td>\n",
       "    </tr>\n",
       "    <tr>\n",
       "      <th>1</th>\n",
       "      <td>0_1518</td>\n",
       "      <td>2021-07-20 13:21:29.043970</td>\n",
       "      <td>s_64849</td>\n",
       "      <td>c_103</td>\n",
       "      <td>4.18</td>\n",
       "      <td>0.0</td>\n",
       "      <td>f</td>\n",
       "      <td>1986</td>\n",
       "      <td>37</td>\n",
       "      <td>both</td>\n",
       "    </tr>\n",
       "    <tr>\n",
       "      <th>2</th>\n",
       "      <td>0_1518</td>\n",
       "      <td>2022-08-20 13:21:29.043970</td>\n",
       "      <td>s_255965</td>\n",
       "      <td>c_103</td>\n",
       "      <td>4.18</td>\n",
       "      <td>0.0</td>\n",
       "      <td>f</td>\n",
       "      <td>1986</td>\n",
       "      <td>37</td>\n",
       "      <td>both</td>\n",
       "    </tr>\n",
       "    <tr>\n",
       "      <th>3</th>\n",
       "      <td>0_1418</td>\n",
       "      <td>2022-06-18 01:49:37.823274</td>\n",
       "      <td>s_225411</td>\n",
       "      <td>c_103</td>\n",
       "      <td>8.57</td>\n",
       "      <td>0.0</td>\n",
       "      <td>f</td>\n",
       "      <td>1986</td>\n",
       "      <td>37</td>\n",
       "      <td>both</td>\n",
       "    </tr>\n",
       "    <tr>\n",
       "      <th>4</th>\n",
       "      <td>0_1418</td>\n",
       "      <td>2021-08-18 01:49:37.823274</td>\n",
       "      <td>s_77214</td>\n",
       "      <td>c_103</td>\n",
       "      <td>8.57</td>\n",
       "      <td>0.0</td>\n",
       "      <td>f</td>\n",
       "      <td>1986</td>\n",
       "      <td>37</td>\n",
       "      <td>both</td>\n",
       "    </tr>\n",
       "    <tr>\n",
       "      <th>...</th>\n",
       "      <td>...</td>\n",
       "      <td>...</td>\n",
       "      <td>...</td>\n",
       "      <td>...</td>\n",
       "      <td>...</td>\n",
       "      <td>...</td>\n",
       "      <td>...</td>\n",
       "      <td>...</td>\n",
       "      <td>...</td>\n",
       "      <td>...</td>\n",
       "    </tr>\n",
       "    <tr>\n",
       "      <th>679129</th>\n",
       "      <td>NaN</td>\n",
       "      <td>NaT</td>\n",
       "      <td>NaN</td>\n",
       "      <td>c_7584</td>\n",
       "      <td>NaN</td>\n",
       "      <td>NaN</td>\n",
       "      <td>f</td>\n",
       "      <td>1960</td>\n",
       "      <td>63</td>\n",
       "      <td>right_only</td>\n",
       "    </tr>\n",
       "    <tr>\n",
       "      <th>679130</th>\n",
       "      <td>NaN</td>\n",
       "      <td>NaT</td>\n",
       "      <td>NaN</td>\n",
       "      <td>c_90</td>\n",
       "      <td>NaN</td>\n",
       "      <td>NaN</td>\n",
       "      <td>m</td>\n",
       "      <td>2001</td>\n",
       "      <td>22</td>\n",
       "      <td>right_only</td>\n",
       "    </tr>\n",
       "    <tr>\n",
       "      <th>679131</th>\n",
       "      <td>NaN</td>\n",
       "      <td>NaT</td>\n",
       "      <td>NaN</td>\n",
       "      <td>c_587</td>\n",
       "      <td>NaN</td>\n",
       "      <td>NaN</td>\n",
       "      <td>m</td>\n",
       "      <td>1993</td>\n",
       "      <td>30</td>\n",
       "      <td>right_only</td>\n",
       "    </tr>\n",
       "    <tr>\n",
       "      <th>679132</th>\n",
       "      <td>NaN</td>\n",
       "      <td>NaT</td>\n",
       "      <td>NaN</td>\n",
       "      <td>ct_1</td>\n",
       "      <td>NaN</td>\n",
       "      <td>NaN</td>\n",
       "      <td>m</td>\n",
       "      <td>2001</td>\n",
       "      <td>22</td>\n",
       "      <td>right_only</td>\n",
       "    </tr>\n",
       "    <tr>\n",
       "      <th>679133</th>\n",
       "      <td>NaN</td>\n",
       "      <td>NaT</td>\n",
       "      <td>NaN</td>\n",
       "      <td>c_3526</td>\n",
       "      <td>NaN</td>\n",
       "      <td>NaN</td>\n",
       "      <td>m</td>\n",
       "      <td>1956</td>\n",
       "      <td>67</td>\n",
       "      <td>right_only</td>\n",
       "    </tr>\n",
       "  </tbody>\n",
       "</table>\n",
       "<p>679134 rows × 10 columns</p>\n",
       "</div>"
      ],
      "text/plain": [
       "       id_prod                       date session_id client_id  price  categ  \\\n",
       "0       0_1518 2022-05-20 13:21:29.043970   s_211425     c_103   4.18    0.0   \n",
       "1       0_1518 2021-07-20 13:21:29.043970    s_64849     c_103   4.18    0.0   \n",
       "2       0_1518 2022-08-20 13:21:29.043970   s_255965     c_103   4.18    0.0   \n",
       "3       0_1418 2022-06-18 01:49:37.823274   s_225411     c_103   8.57    0.0   \n",
       "4       0_1418 2021-08-18 01:49:37.823274    s_77214     c_103   8.57    0.0   \n",
       "...        ...                        ...        ...       ...    ...    ...   \n",
       "679129     NaN                        NaT        NaN    c_7584    NaN    NaN   \n",
       "679130     NaN                        NaT        NaN      c_90    NaN    NaN   \n",
       "679131     NaN                        NaT        NaN     c_587    NaN    NaN   \n",
       "679132     NaN                        NaT        NaN      ct_1    NaN    NaN   \n",
       "679133     NaN                        NaT        NaN    c_3526    NaN    NaN   \n",
       "\n",
       "       sex  birth  age      _merge  \n",
       "0        f   1986   37        both  \n",
       "1        f   1986   37        both  \n",
       "2        f   1986   37        both  \n",
       "3        f   1986   37        both  \n",
       "4        f   1986   37        both  \n",
       "...     ..    ...  ...         ...  \n",
       "679129   f   1960   63  right_only  \n",
       "679130   m   2001   22  right_only  \n",
       "679131   m   1993   30  right_only  \n",
       "679132   m   2001   22  right_only  \n",
       "679133   m   1956   67  right_only  \n",
       "\n",
       "[679134 rows x 10 columns]"
      ]
     },
     "execution_count": 29,
     "metadata": {},
     "output_type": "execute_result"
    }
   ],
   "source": [
    "df_global =  df_global.merge(customers,on='client_id',indicator = True,how = 'outer')\n",
    "df_global"
   ]
  },
  {
   "cell_type": "raw",
   "id": "87685e6f",
   "metadata": {},
   "source": [
    "Session ID est l'ID du panier ! "
   ]
  },
  {
   "cell_type": "raw",
   "id": "2e7c0ec7",
   "metadata": {},
   "source": [
    "analyser les données et ensuite faire une analyse univariée, histogramme, frequence d'apparition etc ....  \n",
    "\n",
    "age moyen etc .... répartition des ages des sexes \n",
    "\n",
    "analyse de \"categorie\" "
   ]
  },
  {
   "cell_type": "code",
   "execution_count": 30,
   "id": "44b06787",
   "metadata": {},
   "outputs": [
    {
     "data": {
      "text/html": [
       "<div>\n",
       "<style scoped>\n",
       "    .dataframe tbody tr th:only-of-type {\n",
       "        vertical-align: middle;\n",
       "    }\n",
       "\n",
       "    .dataframe tbody tr th {\n",
       "        vertical-align: top;\n",
       "    }\n",
       "\n",
       "    .dataframe thead th {\n",
       "        text-align: right;\n",
       "    }\n",
       "</style>\n",
       "<table border=\"1\" class=\"dataframe\">\n",
       "  <thead>\n",
       "    <tr style=\"text-align: right;\">\n",
       "      <th></th>\n",
       "      <th>id_prod</th>\n",
       "      <th>date</th>\n",
       "      <th>session_id</th>\n",
       "      <th>client_id</th>\n",
       "      <th>price</th>\n",
       "      <th>categ</th>\n",
       "      <th>sex</th>\n",
       "      <th>birth</th>\n",
       "      <th>age</th>\n",
       "      <th>_merge</th>\n",
       "    </tr>\n",
       "  </thead>\n",
       "  <tbody>\n",
       "  </tbody>\n",
       "</table>\n",
       "</div>"
      ],
      "text/plain": [
       "Empty DataFrame\n",
       "Columns: [id_prod, date, session_id, client_id, price, categ, sex, birth, age, _merge]\n",
       "Index: []"
      ]
     },
     "execution_count": 30,
     "metadata": {},
     "output_type": "execute_result"
    }
   ],
   "source": [
    "df_global[df_global[\"_merge\"]==\"left_only\"]"
   ]
  },
  {
   "cell_type": "code",
   "execution_count": 31,
   "id": "644a2495",
   "metadata": {},
   "outputs": [
    {
     "data": {
      "text/html": [
       "<div>\n",
       "<style scoped>\n",
       "    .dataframe tbody tr th:only-of-type {\n",
       "        vertical-align: middle;\n",
       "    }\n",
       "\n",
       "    .dataframe tbody tr th {\n",
       "        vertical-align: top;\n",
       "    }\n",
       "\n",
       "    .dataframe thead th {\n",
       "        text-align: right;\n",
       "    }\n",
       "</style>\n",
       "<table border=\"1\" class=\"dataframe\">\n",
       "  <thead>\n",
       "    <tr style=\"text-align: right;\">\n",
       "      <th></th>\n",
       "      <th>id_prod</th>\n",
       "      <th>date</th>\n",
       "      <th>session_id</th>\n",
       "      <th>client_id</th>\n",
       "      <th>price</th>\n",
       "      <th>categ</th>\n",
       "      <th>sex</th>\n",
       "      <th>birth</th>\n",
       "      <th>age</th>\n",
       "      <th>_merge</th>\n",
       "    </tr>\n",
       "  </thead>\n",
       "  <tbody>\n",
       "    <tr>\n",
       "      <th>679111</th>\n",
       "      <td>NaN</td>\n",
       "      <td>NaT</td>\n",
       "      <td>NaN</td>\n",
       "      <td>c_8253</td>\n",
       "      <td>NaN</td>\n",
       "      <td>NaN</td>\n",
       "      <td>f</td>\n",
       "      <td>2001</td>\n",
       "      <td>22</td>\n",
       "      <td>right_only</td>\n",
       "    </tr>\n",
       "    <tr>\n",
       "      <th>679112</th>\n",
       "      <td>NaN</td>\n",
       "      <td>NaT</td>\n",
       "      <td>NaN</td>\n",
       "      <td>c_3789</td>\n",
       "      <td>NaN</td>\n",
       "      <td>NaN</td>\n",
       "      <td>f</td>\n",
       "      <td>1997</td>\n",
       "      <td>26</td>\n",
       "      <td>right_only</td>\n",
       "    </tr>\n",
       "    <tr>\n",
       "      <th>679113</th>\n",
       "      <td>NaN</td>\n",
       "      <td>NaT</td>\n",
       "      <td>NaN</td>\n",
       "      <td>c_4406</td>\n",
       "      <td>NaN</td>\n",
       "      <td>NaN</td>\n",
       "      <td>f</td>\n",
       "      <td>1998</td>\n",
       "      <td>25</td>\n",
       "      <td>right_only</td>\n",
       "    </tr>\n",
       "    <tr>\n",
       "      <th>679114</th>\n",
       "      <td>NaN</td>\n",
       "      <td>NaT</td>\n",
       "      <td>NaN</td>\n",
       "      <td>ct_0</td>\n",
       "      <td>NaN</td>\n",
       "      <td>NaN</td>\n",
       "      <td>f</td>\n",
       "      <td>2001</td>\n",
       "      <td>22</td>\n",
       "      <td>right_only</td>\n",
       "    </tr>\n",
       "    <tr>\n",
       "      <th>679115</th>\n",
       "      <td>NaN</td>\n",
       "      <td>NaT</td>\n",
       "      <td>NaN</td>\n",
       "      <td>c_2706</td>\n",
       "      <td>NaN</td>\n",
       "      <td>NaN</td>\n",
       "      <td>f</td>\n",
       "      <td>1967</td>\n",
       "      <td>56</td>\n",
       "      <td>right_only</td>\n",
       "    </tr>\n",
       "    <tr>\n",
       "      <th>679116</th>\n",
       "      <td>NaN</td>\n",
       "      <td>NaT</td>\n",
       "      <td>NaN</td>\n",
       "      <td>c_3443</td>\n",
       "      <td>NaN</td>\n",
       "      <td>NaN</td>\n",
       "      <td>m</td>\n",
       "      <td>1959</td>\n",
       "      <td>64</td>\n",
       "      <td>right_only</td>\n",
       "    </tr>\n",
       "    <tr>\n",
       "      <th>679117</th>\n",
       "      <td>NaN</td>\n",
       "      <td>NaT</td>\n",
       "      <td>NaN</td>\n",
       "      <td>c_4447</td>\n",
       "      <td>NaN</td>\n",
       "      <td>NaN</td>\n",
       "      <td>m</td>\n",
       "      <td>1956</td>\n",
       "      <td>67</td>\n",
       "      <td>right_only</td>\n",
       "    </tr>\n",
       "    <tr>\n",
       "      <th>679118</th>\n",
       "      <td>NaN</td>\n",
       "      <td>NaT</td>\n",
       "      <td>NaN</td>\n",
       "      <td>c_3017</td>\n",
       "      <td>NaN</td>\n",
       "      <td>NaN</td>\n",
       "      <td>f</td>\n",
       "      <td>1992</td>\n",
       "      <td>31</td>\n",
       "      <td>right_only</td>\n",
       "    </tr>\n",
       "    <tr>\n",
       "      <th>679119</th>\n",
       "      <td>NaN</td>\n",
       "      <td>NaT</td>\n",
       "      <td>NaN</td>\n",
       "      <td>c_4086</td>\n",
       "      <td>NaN</td>\n",
       "      <td>NaN</td>\n",
       "      <td>f</td>\n",
       "      <td>1992</td>\n",
       "      <td>31</td>\n",
       "      <td>right_only</td>\n",
       "    </tr>\n",
       "    <tr>\n",
       "      <th>679120</th>\n",
       "      <td>NaN</td>\n",
       "      <td>NaT</td>\n",
       "      <td>NaN</td>\n",
       "      <td>c_6930</td>\n",
       "      <td>NaN</td>\n",
       "      <td>NaN</td>\n",
       "      <td>m</td>\n",
       "      <td>2004</td>\n",
       "      <td>19</td>\n",
       "      <td>right_only</td>\n",
       "    </tr>\n",
       "    <tr>\n",
       "      <th>679121</th>\n",
       "      <td>NaN</td>\n",
       "      <td>NaT</td>\n",
       "      <td>NaN</td>\n",
       "      <td>c_4358</td>\n",
       "      <td>NaN</td>\n",
       "      <td>NaN</td>\n",
       "      <td>m</td>\n",
       "      <td>1999</td>\n",
       "      <td>24</td>\n",
       "      <td>right_only</td>\n",
       "    </tr>\n",
       "    <tr>\n",
       "      <th>679122</th>\n",
       "      <td>NaN</td>\n",
       "      <td>NaT</td>\n",
       "      <td>NaN</td>\n",
       "      <td>c_8381</td>\n",
       "      <td>NaN</td>\n",
       "      <td>NaN</td>\n",
       "      <td>f</td>\n",
       "      <td>1965</td>\n",
       "      <td>58</td>\n",
       "      <td>right_only</td>\n",
       "    </tr>\n",
       "    <tr>\n",
       "      <th>679123</th>\n",
       "      <td>NaN</td>\n",
       "      <td>NaT</td>\n",
       "      <td>NaN</td>\n",
       "      <td>c_1223</td>\n",
       "      <td>NaN</td>\n",
       "      <td>NaN</td>\n",
       "      <td>m</td>\n",
       "      <td>1963</td>\n",
       "      <td>60</td>\n",
       "      <td>right_only</td>\n",
       "    </tr>\n",
       "    <tr>\n",
       "      <th>679124</th>\n",
       "      <td>NaN</td>\n",
       "      <td>NaT</td>\n",
       "      <td>NaN</td>\n",
       "      <td>c_6862</td>\n",
       "      <td>NaN</td>\n",
       "      <td>NaN</td>\n",
       "      <td>f</td>\n",
       "      <td>2002</td>\n",
       "      <td>21</td>\n",
       "      <td>right_only</td>\n",
       "    </tr>\n",
       "    <tr>\n",
       "      <th>679125</th>\n",
       "      <td>NaN</td>\n",
       "      <td>NaT</td>\n",
       "      <td>NaN</td>\n",
       "      <td>c_5245</td>\n",
       "      <td>NaN</td>\n",
       "      <td>NaN</td>\n",
       "      <td>f</td>\n",
       "      <td>2004</td>\n",
       "      <td>19</td>\n",
       "      <td>right_only</td>\n",
       "    </tr>\n",
       "    <tr>\n",
       "      <th>679126</th>\n",
       "      <td>NaN</td>\n",
       "      <td>NaT</td>\n",
       "      <td>NaN</td>\n",
       "      <td>c_5223</td>\n",
       "      <td>NaN</td>\n",
       "      <td>NaN</td>\n",
       "      <td>m</td>\n",
       "      <td>2003</td>\n",
       "      <td>20</td>\n",
       "      <td>right_only</td>\n",
       "    </tr>\n",
       "    <tr>\n",
       "      <th>679127</th>\n",
       "      <td>NaN</td>\n",
       "      <td>NaT</td>\n",
       "      <td>NaN</td>\n",
       "      <td>c_6735</td>\n",
       "      <td>NaN</td>\n",
       "      <td>NaN</td>\n",
       "      <td>m</td>\n",
       "      <td>2004</td>\n",
       "      <td>19</td>\n",
       "      <td>right_only</td>\n",
       "    </tr>\n",
       "    <tr>\n",
       "      <th>679128</th>\n",
       "      <td>NaN</td>\n",
       "      <td>NaT</td>\n",
       "      <td>NaN</td>\n",
       "      <td>c_862</td>\n",
       "      <td>NaN</td>\n",
       "      <td>NaN</td>\n",
       "      <td>f</td>\n",
       "      <td>1956</td>\n",
       "      <td>67</td>\n",
       "      <td>right_only</td>\n",
       "    </tr>\n",
       "    <tr>\n",
       "      <th>679129</th>\n",
       "      <td>NaN</td>\n",
       "      <td>NaT</td>\n",
       "      <td>NaN</td>\n",
       "      <td>c_7584</td>\n",
       "      <td>NaN</td>\n",
       "      <td>NaN</td>\n",
       "      <td>f</td>\n",
       "      <td>1960</td>\n",
       "      <td>63</td>\n",
       "      <td>right_only</td>\n",
       "    </tr>\n",
       "    <tr>\n",
       "      <th>679130</th>\n",
       "      <td>NaN</td>\n",
       "      <td>NaT</td>\n",
       "      <td>NaN</td>\n",
       "      <td>c_90</td>\n",
       "      <td>NaN</td>\n",
       "      <td>NaN</td>\n",
       "      <td>m</td>\n",
       "      <td>2001</td>\n",
       "      <td>22</td>\n",
       "      <td>right_only</td>\n",
       "    </tr>\n",
       "    <tr>\n",
       "      <th>679131</th>\n",
       "      <td>NaN</td>\n",
       "      <td>NaT</td>\n",
       "      <td>NaN</td>\n",
       "      <td>c_587</td>\n",
       "      <td>NaN</td>\n",
       "      <td>NaN</td>\n",
       "      <td>m</td>\n",
       "      <td>1993</td>\n",
       "      <td>30</td>\n",
       "      <td>right_only</td>\n",
       "    </tr>\n",
       "    <tr>\n",
       "      <th>679132</th>\n",
       "      <td>NaN</td>\n",
       "      <td>NaT</td>\n",
       "      <td>NaN</td>\n",
       "      <td>ct_1</td>\n",
       "      <td>NaN</td>\n",
       "      <td>NaN</td>\n",
       "      <td>m</td>\n",
       "      <td>2001</td>\n",
       "      <td>22</td>\n",
       "      <td>right_only</td>\n",
       "    </tr>\n",
       "    <tr>\n",
       "      <th>679133</th>\n",
       "      <td>NaN</td>\n",
       "      <td>NaT</td>\n",
       "      <td>NaN</td>\n",
       "      <td>c_3526</td>\n",
       "      <td>NaN</td>\n",
       "      <td>NaN</td>\n",
       "      <td>m</td>\n",
       "      <td>1956</td>\n",
       "      <td>67</td>\n",
       "      <td>right_only</td>\n",
       "    </tr>\n",
       "  </tbody>\n",
       "</table>\n",
       "</div>"
      ],
      "text/plain": [
       "       id_prod date session_id client_id  price  categ sex  birth  age  \\\n",
       "679111     NaN  NaT        NaN    c_8253    NaN    NaN   f   2001   22   \n",
       "679112     NaN  NaT        NaN    c_3789    NaN    NaN   f   1997   26   \n",
       "679113     NaN  NaT        NaN    c_4406    NaN    NaN   f   1998   25   \n",
       "679114     NaN  NaT        NaN      ct_0    NaN    NaN   f   2001   22   \n",
       "679115     NaN  NaT        NaN    c_2706    NaN    NaN   f   1967   56   \n",
       "679116     NaN  NaT        NaN    c_3443    NaN    NaN   m   1959   64   \n",
       "679117     NaN  NaT        NaN    c_4447    NaN    NaN   m   1956   67   \n",
       "679118     NaN  NaT        NaN    c_3017    NaN    NaN   f   1992   31   \n",
       "679119     NaN  NaT        NaN    c_4086    NaN    NaN   f   1992   31   \n",
       "679120     NaN  NaT        NaN    c_6930    NaN    NaN   m   2004   19   \n",
       "679121     NaN  NaT        NaN    c_4358    NaN    NaN   m   1999   24   \n",
       "679122     NaN  NaT        NaN    c_8381    NaN    NaN   f   1965   58   \n",
       "679123     NaN  NaT        NaN    c_1223    NaN    NaN   m   1963   60   \n",
       "679124     NaN  NaT        NaN    c_6862    NaN    NaN   f   2002   21   \n",
       "679125     NaN  NaT        NaN    c_5245    NaN    NaN   f   2004   19   \n",
       "679126     NaN  NaT        NaN    c_5223    NaN    NaN   m   2003   20   \n",
       "679127     NaN  NaT        NaN    c_6735    NaN    NaN   m   2004   19   \n",
       "679128     NaN  NaT        NaN     c_862    NaN    NaN   f   1956   67   \n",
       "679129     NaN  NaT        NaN    c_7584    NaN    NaN   f   1960   63   \n",
       "679130     NaN  NaT        NaN      c_90    NaN    NaN   m   2001   22   \n",
       "679131     NaN  NaT        NaN     c_587    NaN    NaN   m   1993   30   \n",
       "679132     NaN  NaT        NaN      ct_1    NaN    NaN   m   2001   22   \n",
       "679133     NaN  NaT        NaN    c_3526    NaN    NaN   m   1956   67   \n",
       "\n",
       "            _merge  \n",
       "679111  right_only  \n",
       "679112  right_only  \n",
       "679113  right_only  \n",
       "679114  right_only  \n",
       "679115  right_only  \n",
       "679116  right_only  \n",
       "679117  right_only  \n",
       "679118  right_only  \n",
       "679119  right_only  \n",
       "679120  right_only  \n",
       "679121  right_only  \n",
       "679122  right_only  \n",
       "679123  right_only  \n",
       "679124  right_only  \n",
       "679125  right_only  \n",
       "679126  right_only  \n",
       "679127  right_only  \n",
       "679128  right_only  \n",
       "679129  right_only  \n",
       "679130  right_only  \n",
       "679131  right_only  \n",
       "679132  right_only  \n",
       "679133  right_only  "
      ]
     },
     "execution_count": 31,
     "metadata": {},
     "output_type": "execute_result"
    }
   ],
   "source": [
    "df_global[df_global[\"_merge\"]==\"right_only\"]"
   ]
  },
  {
   "cell_type": "markdown",
   "id": "5df11326",
   "metadata": {},
   "source": [
    "Cela correspond aux clients qui n'ont rien achetés, on va les retirer de notre BDD"
   ]
  },
  {
   "cell_type": "code",
   "execution_count": 32,
   "id": "12f7e74c",
   "metadata": {},
   "outputs": [],
   "source": [
    "df_global = df_global[df_global[\"_merge\"]==\"both\"]"
   ]
  },
  {
   "cell_type": "code",
   "execution_count": 33,
   "id": "ccf477c7",
   "metadata": {
    "scrolled": false
   },
   "outputs": [
    {
     "data": {
      "text/html": [
       "<div>\n",
       "<style scoped>\n",
       "    .dataframe tbody tr th:only-of-type {\n",
       "        vertical-align: middle;\n",
       "    }\n",
       "\n",
       "    .dataframe tbody tr th {\n",
       "        vertical-align: top;\n",
       "    }\n",
       "\n",
       "    .dataframe thead th {\n",
       "        text-align: right;\n",
       "    }\n",
       "</style>\n",
       "<table border=\"1\" class=\"dataframe\">\n",
       "  <thead>\n",
       "    <tr style=\"text-align: right;\">\n",
       "      <th></th>\n",
       "      <th>id_prod</th>\n",
       "      <th>date</th>\n",
       "      <th>session_id</th>\n",
       "      <th>client_id</th>\n",
       "      <th>price</th>\n",
       "      <th>categ</th>\n",
       "      <th>sex</th>\n",
       "      <th>birth</th>\n",
       "      <th>age</th>\n",
       "    </tr>\n",
       "  </thead>\n",
       "  <tbody>\n",
       "    <tr>\n",
       "      <th>0</th>\n",
       "      <td>0_1518</td>\n",
       "      <td>2022-05-20 13:21:29.043970</td>\n",
       "      <td>s_211425</td>\n",
       "      <td>c_103</td>\n",
       "      <td>4.18</td>\n",
       "      <td>0.0</td>\n",
       "      <td>f</td>\n",
       "      <td>1986</td>\n",
       "      <td>37</td>\n",
       "    </tr>\n",
       "    <tr>\n",
       "      <th>1</th>\n",
       "      <td>0_1518</td>\n",
       "      <td>2021-07-20 13:21:29.043970</td>\n",
       "      <td>s_64849</td>\n",
       "      <td>c_103</td>\n",
       "      <td>4.18</td>\n",
       "      <td>0.0</td>\n",
       "      <td>f</td>\n",
       "      <td>1986</td>\n",
       "      <td>37</td>\n",
       "    </tr>\n",
       "    <tr>\n",
       "      <th>2</th>\n",
       "      <td>0_1518</td>\n",
       "      <td>2022-08-20 13:21:29.043970</td>\n",
       "      <td>s_255965</td>\n",
       "      <td>c_103</td>\n",
       "      <td>4.18</td>\n",
       "      <td>0.0</td>\n",
       "      <td>f</td>\n",
       "      <td>1986</td>\n",
       "      <td>37</td>\n",
       "    </tr>\n",
       "    <tr>\n",
       "      <th>3</th>\n",
       "      <td>0_1418</td>\n",
       "      <td>2022-06-18 01:49:37.823274</td>\n",
       "      <td>s_225411</td>\n",
       "      <td>c_103</td>\n",
       "      <td>8.57</td>\n",
       "      <td>0.0</td>\n",
       "      <td>f</td>\n",
       "      <td>1986</td>\n",
       "      <td>37</td>\n",
       "    </tr>\n",
       "    <tr>\n",
       "      <th>4</th>\n",
       "      <td>0_1418</td>\n",
       "      <td>2021-08-18 01:49:37.823274</td>\n",
       "      <td>s_77214</td>\n",
       "      <td>c_103</td>\n",
       "      <td>8.57</td>\n",
       "      <td>0.0</td>\n",
       "      <td>f</td>\n",
       "      <td>1986</td>\n",
       "      <td>37</td>\n",
       "    </tr>\n",
       "    <tr>\n",
       "      <th>...</th>\n",
       "      <td>...</td>\n",
       "      <td>...</td>\n",
       "      <td>...</td>\n",
       "      <td>...</td>\n",
       "      <td>...</td>\n",
       "      <td>...</td>\n",
       "      <td>...</td>\n",
       "      <td>...</td>\n",
       "      <td>...</td>\n",
       "    </tr>\n",
       "    <tr>\n",
       "      <th>679106</th>\n",
       "      <td>2_147</td>\n",
       "      <td>2021-07-23 07:01:38.963669</td>\n",
       "      <td>s_65994</td>\n",
       "      <td>c_4391</td>\n",
       "      <td>181.99</td>\n",
       "      <td>2.0</td>\n",
       "      <td>f</td>\n",
       "      <td>2001</td>\n",
       "      <td>22</td>\n",
       "    </tr>\n",
       "    <tr>\n",
       "      <th>679107</th>\n",
       "      <td>0_142</td>\n",
       "      <td>2022-03-25 18:07:25.880052</td>\n",
       "      <td>s_184472</td>\n",
       "      <td>c_1232</td>\n",
       "      <td>19.85</td>\n",
       "      <td>0.0</td>\n",
       "      <td>f</td>\n",
       "      <td>1960</td>\n",
       "      <td>63</td>\n",
       "    </tr>\n",
       "    <tr>\n",
       "      <th>679108</th>\n",
       "      <td>0_142</td>\n",
       "      <td>2021-09-25 18:07:25.880052</td>\n",
       "      <td>s_95415</td>\n",
       "      <td>c_1232</td>\n",
       "      <td>19.85</td>\n",
       "      <td>0.0</td>\n",
       "      <td>f</td>\n",
       "      <td>1960</td>\n",
       "      <td>63</td>\n",
       "    </tr>\n",
       "    <tr>\n",
       "      <th>679109</th>\n",
       "      <td>2_205</td>\n",
       "      <td>2021-03-11 00:11:32.016264</td>\n",
       "      <td>s_4605</td>\n",
       "      <td>c_7534</td>\n",
       "      <td>100.99</td>\n",
       "      <td>2.0</td>\n",
       "      <td>m</td>\n",
       "      <td>1992</td>\n",
       "      <td>31</td>\n",
       "    </tr>\n",
       "    <tr>\n",
       "      <th>679110</th>\n",
       "      <td>2_205</td>\n",
       "      <td>2022-07-11 00:11:32.016264</td>\n",
       "      <td>s_236636</td>\n",
       "      <td>c_7534</td>\n",
       "      <td>100.99</td>\n",
       "      <td>2.0</td>\n",
       "      <td>m</td>\n",
       "      <td>1992</td>\n",
       "      <td>31</td>\n",
       "    </tr>\n",
       "  </tbody>\n",
       "</table>\n",
       "<p>679111 rows × 9 columns</p>\n",
       "</div>"
      ],
      "text/plain": [
       "       id_prod                       date session_id client_id   price  categ  \\\n",
       "0       0_1518 2022-05-20 13:21:29.043970   s_211425     c_103    4.18    0.0   \n",
       "1       0_1518 2021-07-20 13:21:29.043970    s_64849     c_103    4.18    0.0   \n",
       "2       0_1518 2022-08-20 13:21:29.043970   s_255965     c_103    4.18    0.0   \n",
       "3       0_1418 2022-06-18 01:49:37.823274   s_225411     c_103    8.57    0.0   \n",
       "4       0_1418 2021-08-18 01:49:37.823274    s_77214     c_103    8.57    0.0   \n",
       "...        ...                        ...        ...       ...     ...    ...   \n",
       "679106   2_147 2021-07-23 07:01:38.963669    s_65994    c_4391  181.99    2.0   \n",
       "679107   0_142 2022-03-25 18:07:25.880052   s_184472    c_1232   19.85    0.0   \n",
       "679108   0_142 2021-09-25 18:07:25.880052    s_95415    c_1232   19.85    0.0   \n",
       "679109   2_205 2021-03-11 00:11:32.016264     s_4605    c_7534  100.99    2.0   \n",
       "679110   2_205 2022-07-11 00:11:32.016264   s_236636    c_7534  100.99    2.0   \n",
       "\n",
       "       sex  birth  age  \n",
       "0        f   1986   37  \n",
       "1        f   1986   37  \n",
       "2        f   1986   37  \n",
       "3        f   1986   37  \n",
       "4        f   1986   37  \n",
       "...     ..    ...  ...  \n",
       "679106   f   2001   22  \n",
       "679107   f   1960   63  \n",
       "679108   f   1960   63  \n",
       "679109   m   1992   31  \n",
       "679110   m   1992   31  \n",
       "\n",
       "[679111 rows x 9 columns]"
      ]
     },
     "execution_count": 33,
     "metadata": {},
     "output_type": "execute_result"
    }
   ],
   "source": [
    "df_global.drop([\"_merge\"], axis=1 , inplace = True)\n",
    "df_global"
   ]
  },
  {
   "cell_type": "markdown",
   "id": "386374d4",
   "metadata": {},
   "source": [
    "## Analyse Des données <a class=\"anchor\" id=\"chapter2\"></a>"
   ]
  },
  {
   "cell_type": "markdown",
   "id": "58addb79",
   "metadata": {},
   "source": [
    "### Etude Des Chiffres d'affaires <a class=\"anchor\" id=\"Section_2_1\"></a>"
   ]
  },
  {
   "cell_type": "code",
   "execution_count": 34,
   "id": "e28d705f",
   "metadata": {
    "scrolled": true
   },
   "outputs": [
    {
     "name": "stdout",
     "output_type": "stream",
     "text": [
      "<class 'pandas.core.frame.DataFrame'>\n",
      "Int64Index: 679111 entries, 0 to 679110\n",
      "Data columns (total 9 columns):\n",
      " #   Column      Non-Null Count   Dtype         \n",
      "---  ------      --------------   -----         \n",
      " 0   id_prod     679111 non-null  object        \n",
      " 1   date        679111 non-null  datetime64[ns]\n",
      " 2   session_id  679111 non-null  object        \n",
      " 3   client_id   679111 non-null  object        \n",
      " 4   price       679111 non-null  float64       \n",
      " 5   categ       679111 non-null  float64       \n",
      " 6   sex         679111 non-null  object        \n",
      " 7   birth       679111 non-null  int64         \n",
      " 8   age         679111 non-null  int64         \n",
      "dtypes: datetime64[ns](1), float64(2), int64(2), object(4)\n",
      "memory usage: 51.8+ MB\n"
     ]
    }
   ],
   "source": [
    "df_global.info()"
   ]
  },
  {
   "cell_type": "code",
   "execution_count": 35,
   "id": "6276f8d8",
   "metadata": {
    "scrolled": true
   },
   "outputs": [
    {
     "data": {
      "text/html": [
       "<div>\n",
       "<style scoped>\n",
       "    .dataframe tbody tr th:only-of-type {\n",
       "        vertical-align: middle;\n",
       "    }\n",
       "\n",
       "    .dataframe tbody tr th {\n",
       "        vertical-align: top;\n",
       "    }\n",
       "\n",
       "    .dataframe thead th {\n",
       "        text-align: right;\n",
       "    }\n",
       "</style>\n",
       "<table border=\"1\" class=\"dataframe\">\n",
       "  <thead>\n",
       "    <tr style=\"text-align: right;\">\n",
       "      <th></th>\n",
       "      <th>price</th>\n",
       "      <th>categ</th>\n",
       "    </tr>\n",
       "    <tr>\n",
       "      <th>date</th>\n",
       "      <th></th>\n",
       "      <th></th>\n",
       "    </tr>\n",
       "  </thead>\n",
       "  <tbody>\n",
       "    <tr>\n",
       "      <th>2022-05-20 13:21:29.043970</th>\n",
       "      <td>4.18</td>\n",
       "      <td>0.0</td>\n",
       "    </tr>\n",
       "    <tr>\n",
       "      <th>2021-07-20 13:21:29.043970</th>\n",
       "      <td>4.18</td>\n",
       "      <td>0.0</td>\n",
       "    </tr>\n",
       "    <tr>\n",
       "      <th>2022-08-20 13:21:29.043970</th>\n",
       "      <td>4.18</td>\n",
       "      <td>0.0</td>\n",
       "    </tr>\n",
       "    <tr>\n",
       "      <th>2022-06-18 01:49:37.823274</th>\n",
       "      <td>8.57</td>\n",
       "      <td>0.0</td>\n",
       "    </tr>\n",
       "    <tr>\n",
       "      <th>2021-08-18 01:49:37.823274</th>\n",
       "      <td>8.57</td>\n",
       "      <td>0.0</td>\n",
       "    </tr>\n",
       "    <tr>\n",
       "      <th>...</th>\n",
       "      <td>...</td>\n",
       "      <td>...</td>\n",
       "    </tr>\n",
       "    <tr>\n",
       "      <th>2021-07-23 07:01:38.963669</th>\n",
       "      <td>181.99</td>\n",
       "      <td>2.0</td>\n",
       "    </tr>\n",
       "    <tr>\n",
       "      <th>2022-03-25 18:07:25.880052</th>\n",
       "      <td>19.85</td>\n",
       "      <td>0.0</td>\n",
       "    </tr>\n",
       "    <tr>\n",
       "      <th>2021-09-25 18:07:25.880052</th>\n",
       "      <td>19.85</td>\n",
       "      <td>0.0</td>\n",
       "    </tr>\n",
       "    <tr>\n",
       "      <th>2021-03-11 00:11:32.016264</th>\n",
       "      <td>100.99</td>\n",
       "      <td>2.0</td>\n",
       "    </tr>\n",
       "    <tr>\n",
       "      <th>2022-07-11 00:11:32.016264</th>\n",
       "      <td>100.99</td>\n",
       "      <td>2.0</td>\n",
       "    </tr>\n",
       "  </tbody>\n",
       "</table>\n",
       "<p>679111 rows × 2 columns</p>\n",
       "</div>"
      ],
      "text/plain": [
       "                             price  categ\n",
       "date                                     \n",
       "2022-05-20 13:21:29.043970    4.18    0.0\n",
       "2021-07-20 13:21:29.043970    4.18    0.0\n",
       "2022-08-20 13:21:29.043970    4.18    0.0\n",
       "2022-06-18 01:49:37.823274    8.57    0.0\n",
       "2021-08-18 01:49:37.823274    8.57    0.0\n",
       "...                            ...    ...\n",
       "2021-07-23 07:01:38.963669  181.99    2.0\n",
       "2022-03-25 18:07:25.880052   19.85    0.0\n",
       "2021-09-25 18:07:25.880052   19.85    0.0\n",
       "2021-03-11 00:11:32.016264  100.99    2.0\n",
       "2022-07-11 00:11:32.016264  100.99    2.0\n",
       "\n",
       "[679111 rows x 2 columns]"
      ]
     },
     "execution_count": 35,
     "metadata": {},
     "output_type": "execute_result"
    }
   ],
   "source": [
    "df_DateIndex = df_global.set_index(\"date\")\n",
    "df_DateIndex = df_DateIndex[[\"price\",\"categ\"]]\n",
    "df_DateIndex"
   ]
  },
  {
   "cell_type": "markdown",
   "id": "cf96b5d9",
   "metadata": {},
   "source": [
    "On a au dessus un tableau avec toutes les ventes "
   ]
  },
  {
   "cell_type": "markdown",
   "id": "27fdcd71",
   "metadata": {},
   "source": [
    "On a ici un tableau avec les CA quotidiens "
   ]
  },
  {
   "cell_type": "code",
   "execution_count": 36,
   "id": "060e3fb9",
   "metadata": {},
   "outputs": [
    {
     "data": {
      "text/plain": [
       "date\n",
       "2021-03-01    16565.22\n",
       "2021-03-02    15486.45\n",
       "2021-03-03    15198.69\n",
       "2021-03-04    15196.07\n",
       "2021-03-05    17471.37\n",
       "                ...   \n",
       "2023-02-24    15207.89\n",
       "2023-02-25    15761.25\n",
       "2023-02-26    16304.72\n",
       "2023-02-27    19170.81\n",
       "2023-02-28    18105.15\n",
       "Freq: D, Name: price, Length: 730, dtype: float64"
      ]
     },
     "execution_count": 36,
     "metadata": {},
     "output_type": "execute_result"
    }
   ],
   "source": [
    "df_DateIndex[[\"price\",\"categ\"]].resample(\"d\")[\"price\"].sum()"
   ]
  },
  {
   "cell_type": "code",
   "execution_count": 37,
   "id": "d6bc9a95",
   "metadata": {
    "scrolled": true
   },
   "outputs": [
    {
     "data": {
      "text/plain": [
       "<AxesSubplot:xlabel='date'>"
      ]
     },
     "execution_count": 37,
     "metadata": {},
     "output_type": "execute_result"
    },
    {
     "data": {
      "image/png": "[encoded data removed]",
      "text/plain": [
       "<Figure size 864x576 with 1 Axes>"
      ]
     },
     "metadata": {
      "needs_background": "light"
     },
     "output_type": "display_data"
    }
   ],
   "source": [
    "df_DateIndex[\"price\"].resample(\"d\").sum().plot(figsize=(12, 8))"
   ]
  },
  {
   "cell_type": "code",
   "execution_count": 38,
   "id": "a611b5cb",
   "metadata": {},
   "outputs": [
    {
     "data": {
      "text/plain": [
       "<AxesSubplot:xlabel='date'>"
      ]
     },
     "execution_count": 38,
     "metadata": {},
     "output_type": "execute_result"
    },
    {
     "data": {
      "image/png": "[encoded data removed]",
      "text/plain": [
       "<Figure size 864x576 with 1 Axes>"
      ]
     },
     "metadata": {
      "needs_background": "light"
     },
     "output_type": "display_data"
    }
   ],
   "source": [
    "df_DateIndex[\"price\"].resample(\"m\").sum().plot(figsize=(12, 8))"
   ]
  },
  {
   "cell_type": "markdown",
   "id": "a51482c3",
   "metadata": {},
   "source": [
    "On a ici la répartition des ventes dans le temps , On remarque un pic bas aux alentours d'octobre"
   ]
  },
  {
   "cell_type": "markdown",
   "id": "74cbdf94",
   "metadata": {},
   "source": [
    "On va maintenant faire une analyse plus poussé par categorie\n"
   ]
  },
  {
   "cell_type": "code",
   "execution_count": 39,
   "id": "0a69e5f1",
   "metadata": {
    "scrolled": true
   },
   "outputs": [
    {
     "data": {
      "text/html": [
       "<div>\n",
       "<style scoped>\n",
       "    .dataframe tbody tr th:only-of-type {\n",
       "        vertical-align: middle;\n",
       "    }\n",
       "\n",
       "    .dataframe tbody tr th {\n",
       "        vertical-align: top;\n",
       "    }\n",
       "\n",
       "    .dataframe thead th {\n",
       "        text-align: right;\n",
       "    }\n",
       "</style>\n",
       "<table border=\"1\" class=\"dataframe\">\n",
       "  <thead>\n",
       "    <tr style=\"text-align: right;\">\n",
       "      <th></th>\n",
       "      <th>price</th>\n",
       "      <th>categ</th>\n",
       "    </tr>\n",
       "    <tr>\n",
       "      <th>date</th>\n",
       "      <th></th>\n",
       "      <th></th>\n",
       "    </tr>\n",
       "  </thead>\n",
       "  <tbody>\n",
       "    <tr>\n",
       "      <th>2022-05-20 13:21:29.043970</th>\n",
       "      <td>4.18</td>\n",
       "      <td>0.0</td>\n",
       "    </tr>\n",
       "    <tr>\n",
       "      <th>2021-07-20 13:21:29.043970</th>\n",
       "      <td>4.18</td>\n",
       "      <td>0.0</td>\n",
       "    </tr>\n",
       "    <tr>\n",
       "      <th>2022-08-20 13:21:29.043970</th>\n",
       "      <td>4.18</td>\n",
       "      <td>0.0</td>\n",
       "    </tr>\n",
       "    <tr>\n",
       "      <th>2022-06-18 01:49:37.823274</th>\n",
       "      <td>8.57</td>\n",
       "      <td>0.0</td>\n",
       "    </tr>\n",
       "    <tr>\n",
       "      <th>2021-08-18 01:49:37.823274</th>\n",
       "      <td>8.57</td>\n",
       "      <td>0.0</td>\n",
       "    </tr>\n",
       "    <tr>\n",
       "      <th>...</th>\n",
       "      <td>...</td>\n",
       "      <td>...</td>\n",
       "    </tr>\n",
       "    <tr>\n",
       "      <th>2022-12-13 23:00:11.780612</th>\n",
       "      <td>9.57</td>\n",
       "      <td>0.0</td>\n",
       "    </tr>\n",
       "    <tr>\n",
       "      <th>2021-11-13 23:00:11.780612</th>\n",
       "      <td>9.57</td>\n",
       "      <td>0.0</td>\n",
       "    </tr>\n",
       "    <tr>\n",
       "      <th>2021-09-15 19:42:08.596375</th>\n",
       "      <td>13.36</td>\n",
       "      <td>0.0</td>\n",
       "    </tr>\n",
       "    <tr>\n",
       "      <th>2022-03-25 18:07:25.880052</th>\n",
       "      <td>19.85</td>\n",
       "      <td>0.0</td>\n",
       "    </tr>\n",
       "    <tr>\n",
       "      <th>2021-09-25 18:07:25.880052</th>\n",
       "      <td>19.85</td>\n",
       "      <td>0.0</td>\n",
       "    </tr>\n",
       "  </tbody>\n",
       "</table>\n",
       "<p>415459 rows × 2 columns</p>\n",
       "</div>"
      ],
      "text/plain": [
       "                            price  categ\n",
       "date                                    \n",
       "2022-05-20 13:21:29.043970   4.18    0.0\n",
       "2021-07-20 13:21:29.043970   4.18    0.0\n",
       "2022-08-20 13:21:29.043970   4.18    0.0\n",
       "2022-06-18 01:49:37.823274   8.57    0.0\n",
       "2021-08-18 01:49:37.823274   8.57    0.0\n",
       "...                           ...    ...\n",
       "2022-12-13 23:00:11.780612   9.57    0.0\n",
       "2021-11-13 23:00:11.780612   9.57    0.0\n",
       "2021-09-15 19:42:08.596375  13.36    0.0\n",
       "2022-03-25 18:07:25.880052  19.85    0.0\n",
       "2021-09-25 18:07:25.880052  19.85    0.0\n",
       "\n",
       "[415459 rows x 2 columns]"
      ]
     },
     "execution_count": 39,
     "metadata": {},
     "output_type": "execute_result"
    }
   ],
   "source": [
    "df_DateIndex[df_DateIndex['categ']== 0.0]"
   ]
  },
  {
   "cell_type": "code",
   "execution_count": 40,
   "id": "5c527d81",
   "metadata": {},
   "outputs": [
    {
     "data": {
      "text/html": [
       "<div>\n",
       "<style scoped>\n",
       "    .dataframe tbody tr th:only-of-type {\n",
       "        vertical-align: middle;\n",
       "    }\n",
       "\n",
       "    .dataframe tbody tr th {\n",
       "        vertical-align: top;\n",
       "    }\n",
       "\n",
       "    .dataframe thead th {\n",
       "        text-align: right;\n",
       "    }\n",
       "</style>\n",
       "<table border=\"1\" class=\"dataframe\">\n",
       "  <thead>\n",
       "    <tr style=\"text-align: right;\">\n",
       "      <th></th>\n",
       "      <th>price</th>\n",
       "      <th>categ</th>\n",
       "    </tr>\n",
       "    <tr>\n",
       "      <th>date</th>\n",
       "      <th></th>\n",
       "      <th></th>\n",
       "    </tr>\n",
       "  </thead>\n",
       "  <tbody>\n",
       "    <tr>\n",
       "      <th>2021-10-28 07:35:26.214204</th>\n",
       "      <td>16.87</td>\n",
       "      <td>0.0</td>\n",
       "    </tr>\n",
       "    <tr>\n",
       "      <th>2021-10-23 12:41:03.390366</th>\n",
       "      <td>16.97</td>\n",
       "      <td>0.0</td>\n",
       "    </tr>\n",
       "    <tr>\n",
       "      <th>2021-10-28 07:16:09.667580</th>\n",
       "      <td>9.71</td>\n",
       "      <td>0.0</td>\n",
       "    </tr>\n",
       "    <tr>\n",
       "      <th>2021-10-06 18:34:39.902464</th>\n",
       "      <td>7.99</td>\n",
       "      <td>0.0</td>\n",
       "    </tr>\n",
       "    <tr>\n",
       "      <th>2021-10-19 22:45:29.086913</th>\n",
       "      <td>15.99</td>\n",
       "      <td>0.0</td>\n",
       "    </tr>\n",
       "    <tr>\n",
       "      <th>...</th>\n",
       "      <td>...</td>\n",
       "      <td>...</td>\n",
       "    </tr>\n",
       "    <tr>\n",
       "      <th>2021-10-31 02:28:39.926181</th>\n",
       "      <td>49.61</td>\n",
       "      <td>2.0</td>\n",
       "    </tr>\n",
       "    <tr>\n",
       "      <th>2021-10-09 09:03:48.268536</th>\n",
       "      <td>8.99</td>\n",
       "      <td>0.0</td>\n",
       "    </tr>\n",
       "    <tr>\n",
       "      <th>2021-10-19 10:30:12.732366</th>\n",
       "      <td>6.59</td>\n",
       "      <td>0.0</td>\n",
       "    </tr>\n",
       "    <tr>\n",
       "      <th>2021-10-19 10:29:44.844616</th>\n",
       "      <td>4.99</td>\n",
       "      <td>0.0</td>\n",
       "    </tr>\n",
       "    <tr>\n",
       "      <th>2021-10-20 16:33:02.958190</th>\n",
       "      <td>52.26</td>\n",
       "      <td>2.0</td>\n",
       "    </tr>\n",
       "  </tbody>\n",
       "</table>\n",
       "<p>21599 rows × 2 columns</p>\n",
       "</div>"
      ],
      "text/plain": [
       "                            price  categ\n",
       "date                                    \n",
       "2021-10-28 07:35:26.214204  16.87    0.0\n",
       "2021-10-23 12:41:03.390366  16.97    0.0\n",
       "2021-10-28 07:16:09.667580   9.71    0.0\n",
       "2021-10-06 18:34:39.902464   7.99    0.0\n",
       "2021-10-19 22:45:29.086913  15.99    0.0\n",
       "...                           ...    ...\n",
       "2021-10-31 02:28:39.926181  49.61    2.0\n",
       "2021-10-09 09:03:48.268536   8.99    0.0\n",
       "2021-10-19 10:30:12.732366   6.59    0.0\n",
       "2021-10-19 10:29:44.844616   4.99    0.0\n",
       "2021-10-20 16:33:02.958190  52.26    2.0\n",
       "\n",
       "[21599 rows x 2 columns]"
      ]
     },
     "execution_count": 40,
     "metadata": {},
     "output_type": "execute_result"
    }
   ],
   "source": [
    "df_octobre = df_DateIndex.loc['2021-10']\n",
    "df_octobre"
   ]
  },
  {
   "cell_type": "markdown",
   "id": "d2bd3d9d",
   "metadata": {},
   "source": [
    "on a ici le mois d'octobre \n"
   ]
  },
  {
   "cell_type": "code",
   "execution_count": 41,
   "id": "2462b68a",
   "metadata": {},
   "outputs": [],
   "source": [
    "df_octobre_C0 = df_octobre[df_octobre[\"categ\"] == 0.0]\n",
    "df_octobre_C1 = df_octobre[df_octobre[\"categ\"] == 1.0]\n",
    "df_octobre_C2 = df_octobre[df_octobre[\"categ\"] == 2.0]"
   ]
  },
  {
   "cell_type": "code",
   "execution_count": 42,
   "id": "024d9b98",
   "metadata": {},
   "outputs": [
    {
     "data": {
      "text/plain": [
       "<AxesSubplot:xlabel='date'>"
      ]
     },
     "execution_count": 42,
     "metadata": {},
     "output_type": "execute_result"
    },
    {
     "data": {
      "image/png": "[encoded data removed]",
      "text/plain": [
       "<Figure size 864x576 with 1 Axes>"
      ]
     },
     "metadata": {
      "needs_background": "light"
     },
     "output_type": "display_data"
    }
   ],
   "source": [
    "df_octobre_C0[\"price\"].resample(\"d\").sum().plot(figsize=(12, 8))"
   ]
  },
  {
   "cell_type": "code",
   "execution_count": 43,
   "id": "8aa0a41e",
   "metadata": {
    "scrolled": true
   },
   "outputs": [
    {
     "data": {
      "text/plain": [
       "<AxesSubplot:xlabel='date'>"
      ]
     },
     "execution_count": 43,
     "metadata": {},
     "output_type": "execute_result"
    },
    {
     "data": {
      "image/png": "[encoded data removed]",
      "text/plain": [
       "<Figure size 864x576 with 1 Axes>"
      ]
     },
     "metadata": {
      "needs_background": "light"
     },
     "output_type": "display_data"
    }
   ],
   "source": [
    "df_octobre_C1[\"price\"].resample(\"d\").sum().plot(figsize=(12, 8))"
   ]
  },
  {
   "cell_type": "code",
   "execution_count": 44,
   "id": "66ea47c1",
   "metadata": {
    "scrolled": true
   },
   "outputs": [
    {
     "data": {
      "text/plain": [
       "<AxesSubplot:xlabel='date'>"
      ]
     },
     "execution_count": 44,
     "metadata": {},
     "output_type": "execute_result"
    },
    {
     "data": {
      "image/png": "[encoded data removed]",
      "text/plain": [
       "<Figure size 864x576 with 1 Axes>"
      ]
     },
     "metadata": {
      "needs_background": "light"
     },
     "output_type": "display_data"
    }
   ],
   "source": [
    "df_octobre_C2[\"price\"].resample(\"d\").sum().plot(figsize=(12, 8))"
   ]
  },
  {
   "cell_type": "markdown",
   "id": "8fa7bc25",
   "metadata": {},
   "source": [
    "On constate qu'il n'y a pas de vente dans la categorie C1, il s'agit soit d'un manque de données, ou alors par exemple il y a eu des travaux sur le rayon pendant le mois .... etc "
   ]
  },
  {
   "cell_type": "markdown",
   "id": "af94dbd9",
   "metadata": {},
   "source": [
    "plt.stackplot(df_octobre.index,df_octobre[df_octobre[\"categ\"] == 0.0],df_octobre[df_octobre[\"categ\"] == 1.0],df_octobre[df_octobre[\"categ\"] == 2.0], labels=['A','B','C'])"
   ]
  },
  {
   "cell_type": "code",
   "execution_count": 45,
   "id": "9a5cc7be",
   "metadata": {},
   "outputs": [
    {
     "data": {
      "text/plain": [
       "date\n",
       "2021-03-01    16565.22\n",
       "2021-03-02    15486.45\n",
       "2021-03-03    15198.69\n",
       "2021-03-04    15196.07\n",
       "2021-03-05    17471.37\n",
       "                ...   \n",
       "2023-02-24    15207.89\n",
       "2023-02-25    15761.25\n",
       "2023-02-26    16304.72\n",
       "2023-02-27    19170.81\n",
       "2023-02-28    18105.15\n",
       "Freq: D, Name: price, Length: 730, dtype: float64"
      ]
     },
     "execution_count": 45,
     "metadata": {},
     "output_type": "execute_result"
    }
   ],
   "source": [
    "df_DateIndex[\"price\"].resample(\"d\").sum()"
   ]
  },
  {
   "cell_type": "markdown",
   "id": "c31f6921",
   "metadata": {},
   "source": [
    "## Analyse Univariée de l'âge  <a class=\"anchor\" id=\"Section_2_2\"></a>\n"
   ]
  },
  {
   "cell_type": "code",
   "execution_count": 46,
   "id": "03cf21bb",
   "metadata": {},
   "outputs": [
    {
     "data": {
      "text/plain": [
       "client_id\n",
       "c_1       68\n",
       "c_10      67\n",
       "c_100     31\n",
       "c_1000    57\n",
       "c_1001    41\n",
       "          ..\n",
       "c_995     68\n",
       "c_996     53\n",
       "c_997     29\n",
       "c_998     22\n",
       "c_999     59\n",
       "Name: age, Length: 8600, dtype: int64"
      ]
     },
     "execution_count": 46,
     "metadata": {},
     "output_type": "execute_result"
    }
   ],
   "source": [
    "df_global_grouped = df_global.groupby(by=\"client_id\").max()\n",
    "df_global_grouped[\"age\"]"
   ]
  },
  {
   "cell_type": "markdown",
   "id": "6ef29215",
   "metadata": {},
   "source": [
    "On va dessiner un histogramme pour visualiser l'age de nos clients"
   ]
  },
  {
   "cell_type": "code",
   "execution_count": 47,
   "id": "87bb1f71",
   "metadata": {},
   "outputs": [
    {
     "data": {
      "text/plain": [
       "<AxesSubplot:>"
      ]
     },
     "execution_count": 47,
     "metadata": {},
     "output_type": "execute_result"
    },
    {
     "data": {
      "image/png": "[encoded data removed]",
      "text/plain": [
       "<Figure size 432x288 with 1 Axes>"
      ]
     },
     "metadata": {
      "needs_background": "light"
     },
     "output_type": "display_data"
    }
   ],
   "source": [
    "df_global_grouped['age'].hist(bins = 40)"
   ]
  },
  {
   "cell_type": "markdown",
   "id": "7904f839",
   "metadata": {},
   "source": [
    "bins sert a controler l'intervalle des batons de l'histogramme "
   ]
  },
  {
   "cell_type": "markdown",
   "id": "6592b7a8",
   "metadata": {},
   "source": [
    "La valeur élevé au niveau des 20 ans peut correspondre aux personnes mineures si le site propose un age  a partir de 18 ans "
   ]
  },
  {
   "cell_type": "code",
   "execution_count": 48,
   "id": "11a5fe7b",
   "metadata": {},
   "outputs": [
    {
     "data": {
      "text/plain": [
       "f    4479\n",
       "m    4121\n",
       "Name: sex, dtype: int64"
      ]
     },
     "execution_count": 48,
     "metadata": {},
     "output_type": "execute_result"
    }
   ],
   "source": [
    "df_global_grouped[\"sex\"].value_counts()"
   ]
  },
  {
   "cell_type": "code",
   "execution_count": 49,
   "id": "7735648d",
   "metadata": {},
   "outputs": [
    {
     "data": {
      "text/plain": [
       "<AxesSubplot:>"
      ]
     },
     "execution_count": 49,
     "metadata": {},
     "output_type": "execute_result"
    },
    {
     "data": {
      "image/png": "[encoded data removed]",
      "text/plain": [
       "<Figure size 432x288 with 1 Axes>"
      ]
     },
     "metadata": {
      "needs_background": "light"
     },
     "output_type": "display_data"
    }
   ],
   "source": [
    "pd.DataFrame(df_global_grouped[\"sex\"].value_counts()).plot.bar()"
   ]
  },
  {
   "cell_type": "markdown",
   "id": "42e710af",
   "metadata": {},
   "source": [
    "## étude des paniers <a class=\"anchor\" id=\"Section_2_3\"></a>\n"
   ]
  },
  {
   "cell_type": "markdown",
   "id": "13a060b0",
   "metadata": {},
   "source": [
    "On va etudier les paniers avec un group by session"
   ]
  },
  {
   "cell_type": "markdown",
   "id": "23bdac18",
   "metadata": {},
   "source": [
    "Avec un sum afin de connaitre le montant du panier "
   ]
  },
  {
   "cell_type": "code",
   "execution_count": 50,
   "id": "ea4cb58f",
   "metadata": {},
   "outputs": [
    {
     "data": {
      "text/html": [
       "<div>\n",
       "<style scoped>\n",
       "    .dataframe tbody tr th:only-of-type {\n",
       "        vertical-align: middle;\n",
       "    }\n",
       "\n",
       "    .dataframe tbody tr th {\n",
       "        vertical-align: top;\n",
       "    }\n",
       "\n",
       "    .dataframe thead th {\n",
       "        text-align: right;\n",
       "    }\n",
       "</style>\n",
       "<table border=\"1\" class=\"dataframe\">\n",
       "  <thead>\n",
       "    <tr style=\"text-align: right;\">\n",
       "      <th></th>\n",
       "      <th>price</th>\n",
       "      <th>categ</th>\n",
       "      <th>birth</th>\n",
       "      <th>age</th>\n",
       "    </tr>\n",
       "    <tr>\n",
       "      <th>session_id</th>\n",
       "      <th></th>\n",
       "      <th></th>\n",
       "      <th></th>\n",
       "      <th></th>\n",
       "    </tr>\n",
       "  </thead>\n",
       "  <tbody>\n",
       "    <tr>\n",
       "      <th>s_1</th>\n",
       "      <td>11.99</td>\n",
       "      <td>0.0</td>\n",
       "      <td>1967</td>\n",
       "      <td>56</td>\n",
       "    </tr>\n",
       "    <tr>\n",
       "      <th>s_10</th>\n",
       "      <td>26.99</td>\n",
       "      <td>1.0</td>\n",
       "      <td>1970</td>\n",
       "      <td>53</td>\n",
       "    </tr>\n",
       "    <tr>\n",
       "      <th>s_100</th>\n",
       "      <td>33.72</td>\n",
       "      <td>0.0</td>\n",
       "      <td>3956</td>\n",
       "      <td>90</td>\n",
       "    </tr>\n",
       "    <tr>\n",
       "      <th>s_1000</th>\n",
       "      <td>39.22</td>\n",
       "      <td>0.0</td>\n",
       "      <td>7956</td>\n",
       "      <td>136</td>\n",
       "    </tr>\n",
       "    <tr>\n",
       "      <th>s_10000</th>\n",
       "      <td>41.49</td>\n",
       "      <td>1.0</td>\n",
       "      <td>5967</td>\n",
       "      <td>102</td>\n",
       "    </tr>\n",
       "    <tr>\n",
       "      <th>...</th>\n",
       "      <td>...</td>\n",
       "      <td>...</td>\n",
       "      <td>...</td>\n",
       "      <td>...</td>\n",
       "    </tr>\n",
       "    <tr>\n",
       "      <th>s_99994</th>\n",
       "      <td>28.92</td>\n",
       "      <td>0.0</td>\n",
       "      <td>5949</td>\n",
       "      <td>120</td>\n",
       "    </tr>\n",
       "    <tr>\n",
       "      <th>s_99995</th>\n",
       "      <td>19.84</td>\n",
       "      <td>0.0</td>\n",
       "      <td>1960</td>\n",
       "      <td>63</td>\n",
       "    </tr>\n",
       "    <tr>\n",
       "      <th>s_99996</th>\n",
       "      <td>56.27</td>\n",
       "      <td>0.0</td>\n",
       "      <td>7896</td>\n",
       "      <td>196</td>\n",
       "    </tr>\n",
       "    <tr>\n",
       "      <th>s_99997</th>\n",
       "      <td>6.99</td>\n",
       "      <td>0.0</td>\n",
       "      <td>1979</td>\n",
       "      <td>44</td>\n",
       "    </tr>\n",
       "    <tr>\n",
       "      <th>s_99998</th>\n",
       "      <td>35.11</td>\n",
       "      <td>0.0</td>\n",
       "      <td>5934</td>\n",
       "      <td>135</td>\n",
       "    </tr>\n",
       "  </tbody>\n",
       "</table>\n",
       "<p>342275 rows × 4 columns</p>\n",
       "</div>"
      ],
      "text/plain": [
       "            price  categ  birth  age\n",
       "session_id                          \n",
       "s_1         11.99    0.0   1967   56\n",
       "s_10        26.99    1.0   1970   53\n",
       "s_100       33.72    0.0   3956   90\n",
       "s_1000      39.22    0.0   7956  136\n",
       "s_10000     41.49    1.0   5967  102\n",
       "...           ...    ...    ...  ...\n",
       "s_99994     28.92    0.0   5949  120\n",
       "s_99995     19.84    0.0   1960   63\n",
       "s_99996     56.27    0.0   7896  196\n",
       "s_99997      6.99    0.0   1979   44\n",
       "s_99998     35.11    0.0   5934  135\n",
       "\n",
       "[342275 rows x 4 columns]"
      ]
     },
     "execution_count": 50,
     "metadata": {},
     "output_type": "execute_result"
    }
   ],
   "source": [
    "panier_global = df_global.groupby(by=\"session_id\").sum()\n",
    "panier_global"
   ]
  },
  {
   "cell_type": "code",
   "execution_count": 51,
   "id": "765dfdf1",
   "metadata": {},
   "outputs": [
    {
     "data": {
      "text/plain": [
       "<AxesSubplot:ylabel='Frequency'>"
      ]
     },
     "execution_count": 51,
     "metadata": {},
     "output_type": "execute_result"
    },
    {
     "data": {
      "image/png": "[encoded data removed]",
      "text/plain": [
       "<Figure size 432x288 with 1 Axes>"
      ]
     },
     "metadata": {
      "needs_background": "light"
     },
     "output_type": "display_data"
    }
   ],
   "source": [
    "panier_global[\"price\"].plot.hist(bins = 100)"
   ]
  },
  {
   "cell_type": "markdown",
   "id": "befd4a0a",
   "metadata": {},
   "source": [
    "On remarque que la majorité des paniers tourne aux alentours de 20euros"
   ]
  },
  {
   "cell_type": "markdown",
   "id": "31ed61aa",
   "metadata": {},
   "source": [
    "## Repartition des ventes par catégorie de livres <a class=\"anchor\" id=\"Section_2_4\"></a>"
   ]
  },
  {
   "cell_type": "code",
   "execution_count": 52,
   "id": "d99e1037",
   "metadata": {},
   "outputs": [
    {
     "data": {
      "text/plain": [
       "0.0    415459\n",
       "1.0    227169\n",
       "2.0     36483\n",
       "Name: categ, dtype: int64"
      ]
     },
     "execution_count": 52,
     "metadata": {},
     "output_type": "execute_result"
    }
   ],
   "source": [
    "df_global[\"categ\"].value_counts()"
   ]
  },
  {
   "cell_type": "markdown",
   "id": "3988fa17",
   "metadata": {},
   "source": [
    "il y a 3 catégories de livres qui se sont vendus "
   ]
  },
  {
   "cell_type": "code",
   "execution_count": 53,
   "id": "0a3eb202",
   "metadata": {},
   "outputs": [
    {
     "data": {
      "text/plain": [
       "<AxesSubplot:>"
      ]
     },
     "execution_count": 53,
     "metadata": {},
     "output_type": "execute_result"
    },
    {
     "data": {
      "image/png": "[encoded data removed]",
      "text/plain": [
       "<Figure size 432x288 with 1 Axes>"
      ]
     },
     "metadata": {
      "needs_background": "light"
     },
     "output_type": "display_data"
    }
   ],
   "source": [
    "pd.DataFrame(df_global[\"categ\"].value_counts()).plot.bar()"
   ]
  },
  {
   "cell_type": "markdown",
   "id": "6c730521",
   "metadata": {},
   "source": [
    "On remarque que les livres de catégorie 0 sont ceux qui se vendent le plus\n"
   ]
  },
  {
   "cell_type": "markdown",
   "id": "43e6e94a",
   "metadata": {},
   "source": [
    "## Analyse des tops et des flops par livre <a class=\"anchor\" id=\"Section_2_5\"></a>"
   ]
  },
  {
   "cell_type": "markdown",
   "id": "5e722038",
   "metadata": {},
   "source": [
    "On va grouper les livres en fct des ventes \n"
   ]
  },
  {
   "cell_type": "code",
   "execution_count": 54,
   "id": "d1f3c195",
   "metadata": {},
   "outputs": [
    {
     "data": {
      "text/html": [
       "<div>\n",
       "<style scoped>\n",
       "    .dataframe tbody tr th:only-of-type {\n",
       "        vertical-align: middle;\n",
       "    }\n",
       "\n",
       "    .dataframe tbody tr th {\n",
       "        vertical-align: top;\n",
       "    }\n",
       "\n",
       "    .dataframe thead th {\n",
       "        text-align: right;\n",
       "    }\n",
       "</style>\n",
       "<table border=\"1\" class=\"dataframe\">\n",
       "  <thead>\n",
       "    <tr style=\"text-align: right;\">\n",
       "      <th></th>\n",
       "      <th>id_prod</th>\n",
       "      <th>date</th>\n",
       "      <th>session_id</th>\n",
       "      <th>client_id</th>\n",
       "      <th>price</th>\n",
       "      <th>categ</th>\n",
       "      <th>sex</th>\n",
       "      <th>birth</th>\n",
       "      <th>age</th>\n",
       "    </tr>\n",
       "  </thead>\n",
       "  <tbody>\n",
       "    <tr>\n",
       "      <th>0</th>\n",
       "      <td>0_1518</td>\n",
       "      <td>2022-05-20 13:21:29.043970</td>\n",
       "      <td>s_211425</td>\n",
       "      <td>c_103</td>\n",
       "      <td>4.18</td>\n",
       "      <td>0.0</td>\n",
       "      <td>f</td>\n",
       "      <td>1986</td>\n",
       "      <td>37</td>\n",
       "    </tr>\n",
       "    <tr>\n",
       "      <th>1</th>\n",
       "      <td>0_1518</td>\n",
       "      <td>2021-07-20 13:21:29.043970</td>\n",
       "      <td>s_64849</td>\n",
       "      <td>c_103</td>\n",
       "      <td>4.18</td>\n",
       "      <td>0.0</td>\n",
       "      <td>f</td>\n",
       "      <td>1986</td>\n",
       "      <td>37</td>\n",
       "    </tr>\n",
       "    <tr>\n",
       "      <th>2</th>\n",
       "      <td>0_1518</td>\n",
       "      <td>2022-08-20 13:21:29.043970</td>\n",
       "      <td>s_255965</td>\n",
       "      <td>c_103</td>\n",
       "      <td>4.18</td>\n",
       "      <td>0.0</td>\n",
       "      <td>f</td>\n",
       "      <td>1986</td>\n",
       "      <td>37</td>\n",
       "    </tr>\n",
       "    <tr>\n",
       "      <th>3</th>\n",
       "      <td>0_1418</td>\n",
       "      <td>2022-06-18 01:49:37.823274</td>\n",
       "      <td>s_225411</td>\n",
       "      <td>c_103</td>\n",
       "      <td>8.57</td>\n",
       "      <td>0.0</td>\n",
       "      <td>f</td>\n",
       "      <td>1986</td>\n",
       "      <td>37</td>\n",
       "    </tr>\n",
       "    <tr>\n",
       "      <th>4</th>\n",
       "      <td>0_1418</td>\n",
       "      <td>2021-08-18 01:49:37.823274</td>\n",
       "      <td>s_77214</td>\n",
       "      <td>c_103</td>\n",
       "      <td>8.57</td>\n",
       "      <td>0.0</td>\n",
       "      <td>f</td>\n",
       "      <td>1986</td>\n",
       "      <td>37</td>\n",
       "    </tr>\n",
       "    <tr>\n",
       "      <th>...</th>\n",
       "      <td>...</td>\n",
       "      <td>...</td>\n",
       "      <td>...</td>\n",
       "      <td>...</td>\n",
       "      <td>...</td>\n",
       "      <td>...</td>\n",
       "      <td>...</td>\n",
       "      <td>...</td>\n",
       "      <td>...</td>\n",
       "    </tr>\n",
       "    <tr>\n",
       "      <th>679106</th>\n",
       "      <td>2_147</td>\n",
       "      <td>2021-07-23 07:01:38.963669</td>\n",
       "      <td>s_65994</td>\n",
       "      <td>c_4391</td>\n",
       "      <td>181.99</td>\n",
       "      <td>2.0</td>\n",
       "      <td>f</td>\n",
       "      <td>2001</td>\n",
       "      <td>22</td>\n",
       "    </tr>\n",
       "    <tr>\n",
       "      <th>679107</th>\n",
       "      <td>0_142</td>\n",
       "      <td>2022-03-25 18:07:25.880052</td>\n",
       "      <td>s_184472</td>\n",
       "      <td>c_1232</td>\n",
       "      <td>19.85</td>\n",
       "      <td>0.0</td>\n",
       "      <td>f</td>\n",
       "      <td>1960</td>\n",
       "      <td>63</td>\n",
       "    </tr>\n",
       "    <tr>\n",
       "      <th>679108</th>\n",
       "      <td>0_142</td>\n",
       "      <td>2021-09-25 18:07:25.880052</td>\n",
       "      <td>s_95415</td>\n",
       "      <td>c_1232</td>\n",
       "      <td>19.85</td>\n",
       "      <td>0.0</td>\n",
       "      <td>f</td>\n",
       "      <td>1960</td>\n",
       "      <td>63</td>\n",
       "    </tr>\n",
       "    <tr>\n",
       "      <th>679109</th>\n",
       "      <td>2_205</td>\n",
       "      <td>2021-03-11 00:11:32.016264</td>\n",
       "      <td>s_4605</td>\n",
       "      <td>c_7534</td>\n",
       "      <td>100.99</td>\n",
       "      <td>2.0</td>\n",
       "      <td>m</td>\n",
       "      <td>1992</td>\n",
       "      <td>31</td>\n",
       "    </tr>\n",
       "    <tr>\n",
       "      <th>679110</th>\n",
       "      <td>2_205</td>\n",
       "      <td>2022-07-11 00:11:32.016264</td>\n",
       "      <td>s_236636</td>\n",
       "      <td>c_7534</td>\n",
       "      <td>100.99</td>\n",
       "      <td>2.0</td>\n",
       "      <td>m</td>\n",
       "      <td>1992</td>\n",
       "      <td>31</td>\n",
       "    </tr>\n",
       "  </tbody>\n",
       "</table>\n",
       "<p>679111 rows × 9 columns</p>\n",
       "</div>"
      ],
      "text/plain": [
       "       id_prod                       date session_id client_id   price  categ  \\\n",
       "0       0_1518 2022-05-20 13:21:29.043970   s_211425     c_103    4.18    0.0   \n",
       "1       0_1518 2021-07-20 13:21:29.043970    s_64849     c_103    4.18    0.0   \n",
       "2       0_1518 2022-08-20 13:21:29.043970   s_255965     c_103    4.18    0.0   \n",
       "3       0_1418 2022-06-18 01:49:37.823274   s_225411     c_103    8.57    0.0   \n",
       "4       0_1418 2021-08-18 01:49:37.823274    s_77214     c_103    8.57    0.0   \n",
       "...        ...                        ...        ...       ...     ...    ...   \n",
       "679106   2_147 2021-07-23 07:01:38.963669    s_65994    c_4391  181.99    2.0   \n",
       "679107   0_142 2022-03-25 18:07:25.880052   s_184472    c_1232   19.85    0.0   \n",
       "679108   0_142 2021-09-25 18:07:25.880052    s_95415    c_1232   19.85    0.0   \n",
       "679109   2_205 2021-03-11 00:11:32.016264     s_4605    c_7534  100.99    2.0   \n",
       "679110   2_205 2022-07-11 00:11:32.016264   s_236636    c_7534  100.99    2.0   \n",
       "\n",
       "       sex  birth  age  \n",
       "0        f   1986   37  \n",
       "1        f   1986   37  \n",
       "2        f   1986   37  \n",
       "3        f   1986   37  \n",
       "4        f   1986   37  \n",
       "...     ..    ...  ...  \n",
       "679106   f   2001   22  \n",
       "679107   f   1960   63  \n",
       "679108   f   1960   63  \n",
       "679109   m   1992   31  \n",
       "679110   m   1992   31  \n",
       "\n",
       "[679111 rows x 9 columns]"
      ]
     },
     "execution_count": 54,
     "metadata": {},
     "output_type": "execute_result"
    }
   ],
   "source": [
    "df_global\n"
   ]
  },
  {
   "cell_type": "code",
   "execution_count": 55,
   "id": "16f33313",
   "metadata": {
    "scrolled": true
   },
   "outputs": [
    {
     "data": {
      "text/html": [
       "<div>\n",
       "<style scoped>\n",
       "    .dataframe tbody tr th:only-of-type {\n",
       "        vertical-align: middle;\n",
       "    }\n",
       "\n",
       "    .dataframe tbody tr th {\n",
       "        vertical-align: top;\n",
       "    }\n",
       "\n",
       "    .dataframe thead th {\n",
       "        text-align: right;\n",
       "    }\n",
       "</style>\n",
       "<table border=\"1\" class=\"dataframe\">\n",
       "  <thead>\n",
       "    <tr style=\"text-align: right;\">\n",
       "      <th></th>\n",
       "      <th>price</th>\n",
       "    </tr>\n",
       "    <tr>\n",
       "      <th>id_prod</th>\n",
       "      <th></th>\n",
       "    </tr>\n",
       "  </thead>\n",
       "  <tbody>\n",
       "    <tr>\n",
       "      <th>0_0</th>\n",
       "      <td>4657.50</td>\n",
       "    </tr>\n",
       "    <tr>\n",
       "      <th>0_1</th>\n",
       "      <td>5352.13</td>\n",
       "    </tr>\n",
       "    <tr>\n",
       "      <th>0_10</th>\n",
       "      <td>394.90</td>\n",
       "    </tr>\n",
       "    <tr>\n",
       "      <th>0_100</th>\n",
       "      <td>61.80</td>\n",
       "    </tr>\n",
       "    <tr>\n",
       "      <th>0_1000</th>\n",
       "      <td>2954.88</td>\n",
       "    </tr>\n",
       "    <tr>\n",
       "      <th>...</th>\n",
       "      <td>...</td>\n",
       "    </tr>\n",
       "    <tr>\n",
       "      <th>2_95</th>\n",
       "      <td>395.96</td>\n",
       "    </tr>\n",
       "    <tr>\n",
       "      <th>2_96</th>\n",
       "      <td>28650.18</td>\n",
       "    </tr>\n",
       "    <tr>\n",
       "      <th>2_97</th>\n",
       "      <td>2092.87</td>\n",
       "    </tr>\n",
       "    <tr>\n",
       "      <th>2_98</th>\n",
       "      <td>149.74</td>\n",
       "    </tr>\n",
       "    <tr>\n",
       "      <th>2_99</th>\n",
       "      <td>594.93</td>\n",
       "    </tr>\n",
       "  </tbody>\n",
       "</table>\n",
       "<p>3265 rows × 1 columns</p>\n",
       "</div>"
      ],
      "text/plain": [
       "            price\n",
       "id_prod          \n",
       "0_0       4657.50\n",
       "0_1       5352.13\n",
       "0_10       394.90\n",
       "0_100       61.80\n",
       "0_1000    2954.88\n",
       "...           ...\n",
       "2_95       395.96\n",
       "2_96     28650.18\n",
       "2_97      2092.87\n",
       "2_98       149.74\n",
       "2_99       594.93\n",
       "\n",
       "[3265 rows x 1 columns]"
      ]
     },
     "execution_count": 55,
     "metadata": {},
     "output_type": "execute_result"
    }
   ],
   "source": [
    "Sum_Per_Prod = pd.DataFrame(df_global.groupby(by=\"id_prod\")[\"price\"].sum())\n",
    "Sum_Per_Prod"
   ]
  },
  {
   "cell_type": "code",
   "execution_count": 56,
   "id": "23deef30",
   "metadata": {},
   "outputs": [
    {
     "data": {
      "text/html": [
       "<div>\n",
       "<style scoped>\n",
       "    .dataframe tbody tr th:only-of-type {\n",
       "        vertical-align: middle;\n",
       "    }\n",
       "\n",
       "    .dataframe tbody tr th {\n",
       "        vertical-align: top;\n",
       "    }\n",
       "\n",
       "    .dataframe thead th {\n",
       "        text-align: right;\n",
       "    }\n",
       "</style>\n",
       "<table border=\"1\" class=\"dataframe\">\n",
       "  <thead>\n",
       "    <tr style=\"text-align: right;\">\n",
       "      <th></th>\n",
       "      <th>price</th>\n",
       "    </tr>\n",
       "    <tr>\n",
       "      <th>id_prod</th>\n",
       "      <th></th>\n",
       "    </tr>\n",
       "  </thead>\n",
       "  <tbody>\n",
       "    <tr>\n",
       "      <th>2_159</th>\n",
       "      <td>94893.50</td>\n",
       "    </tr>\n",
       "    <tr>\n",
       "      <th>2_135</th>\n",
       "      <td>69334.95</td>\n",
       "    </tr>\n",
       "    <tr>\n",
       "      <th>2_112</th>\n",
       "      <td>65407.76</td>\n",
       "    </tr>\n",
       "    <tr>\n",
       "      <th>2_102</th>\n",
       "      <td>60736.78</td>\n",
       "    </tr>\n",
       "    <tr>\n",
       "      <th>2_209</th>\n",
       "      <td>56971.86</td>\n",
       "    </tr>\n",
       "    <tr>\n",
       "      <th>1_395</th>\n",
       "      <td>54356.25</td>\n",
       "    </tr>\n",
       "    <tr>\n",
       "      <th>1_369</th>\n",
       "      <td>54025.48</td>\n",
       "    </tr>\n",
       "    <tr>\n",
       "      <th>2_110</th>\n",
       "      <td>53846.25</td>\n",
       "    </tr>\n",
       "    <tr>\n",
       "      <th>2_39</th>\n",
       "      <td>53060.85</td>\n",
       "    </tr>\n",
       "    <tr>\n",
       "      <th>2_166</th>\n",
       "      <td>52449.12</td>\n",
       "    </tr>\n",
       "  </tbody>\n",
       "</table>\n",
       "</div>"
      ],
      "text/plain": [
       "            price\n",
       "id_prod          \n",
       "2_159    94893.50\n",
       "2_135    69334.95\n",
       "2_112    65407.76\n",
       "2_102    60736.78\n",
       "2_209    56971.86\n",
       "1_395    54356.25\n",
       "1_369    54025.48\n",
       "2_110    53846.25\n",
       "2_39     53060.85\n",
       "2_166    52449.12"
      ]
     },
     "execution_count": 56,
     "metadata": {},
     "output_type": "execute_result"
    }
   ],
   "source": [
    "Sum_Per_Prod.sort_values(\"price\", ascending = False).head(10)"
   ]
  },
  {
   "cell_type": "markdown",
   "id": "19a4b026",
   "metadata": {},
   "source": [
    "On a ici les 10 meilleures ventes"
   ]
  },
  {
   "cell_type": "code",
   "execution_count": 57,
   "id": "5d7380d6",
   "metadata": {
    "scrolled": true
   },
   "outputs": [
    {
     "data": {
      "text/html": [
       "<div>\n",
       "<style scoped>\n",
       "    .dataframe tbody tr th:only-of-type {\n",
       "        vertical-align: middle;\n",
       "    }\n",
       "\n",
       "    .dataframe tbody tr th {\n",
       "        vertical-align: top;\n",
       "    }\n",
       "\n",
       "    .dataframe thead th {\n",
       "        text-align: right;\n",
       "    }\n",
       "</style>\n",
       "<table border=\"1\" class=\"dataframe\">\n",
       "  <thead>\n",
       "    <tr style=\"text-align: right;\">\n",
       "      <th></th>\n",
       "      <th>price</th>\n",
       "    </tr>\n",
       "    <tr>\n",
       "      <th>id_prod</th>\n",
       "      <th></th>\n",
       "    </tr>\n",
       "  </thead>\n",
       "  <tbody>\n",
       "    <tr>\n",
       "      <th>0_1539</th>\n",
       "      <td>0.99</td>\n",
       "    </tr>\n",
       "    <tr>\n",
       "      <th>0_1284</th>\n",
       "      <td>1.38</td>\n",
       "    </tr>\n",
       "    <tr>\n",
       "      <th>0_1653</th>\n",
       "      <td>1.98</td>\n",
       "    </tr>\n",
       "    <tr>\n",
       "      <th>0_1601</th>\n",
       "      <td>1.99</td>\n",
       "    </tr>\n",
       "    <tr>\n",
       "      <th>0_807</th>\n",
       "      <td>1.99</td>\n",
       "    </tr>\n",
       "    <tr>\n",
       "      <th>0_541</th>\n",
       "      <td>1.99</td>\n",
       "    </tr>\n",
       "    <tr>\n",
       "      <th>0_1728</th>\n",
       "      <td>2.27</td>\n",
       "    </tr>\n",
       "    <tr>\n",
       "      <th>0_1498</th>\n",
       "      <td>2.48</td>\n",
       "    </tr>\n",
       "    <tr>\n",
       "      <th>0_898</th>\n",
       "      <td>2.54</td>\n",
       "    </tr>\n",
       "    <tr>\n",
       "      <th>0_1840</th>\n",
       "      <td>2.56</td>\n",
       "    </tr>\n",
       "  </tbody>\n",
       "</table>\n",
       "</div>"
      ],
      "text/plain": [
       "         price\n",
       "id_prod       \n",
       "0_1539    0.99\n",
       "0_1284    1.38\n",
       "0_1653    1.98\n",
       "0_1601    1.99\n",
       "0_807     1.99\n",
       "0_541     1.99\n",
       "0_1728    2.27\n",
       "0_1498    2.48\n",
       "0_898     2.54\n",
       "0_1840    2.56"
      ]
     },
     "execution_count": 57,
     "metadata": {},
     "output_type": "execute_result"
    }
   ],
   "source": [
    "Sum_Per_Prod.sort_values(\"price\", ascending = True).head(10)"
   ]
  },
  {
   "cell_type": "markdown",
   "id": "23db5a4c",
   "metadata": {},
   "source": [
    "Ici les 10 moins vendues"
   ]
  },
  {
   "cell_type": "markdown",
   "id": "b5467615",
   "metadata": {},
   "source": [
    "Commentaire, faire l'analyse en fct des dates de ventes des livres "
   ]
  },
  {
   "cell_type": "markdown",
   "id": "a51fbaac",
   "metadata": {},
   "source": [
    "## Analyse du Chiffres d'affaires par catégories <a class=\"anchor\" id=\"Section_2_6\"></a>"
   ]
  },
  {
   "cell_type": "markdown",
   "id": "1296e1ea",
   "metadata": {},
   "source": [
    "On veut maintenant le CA par Catégorie"
   ]
  },
  {
   "cell_type": "code",
   "execution_count": 58,
   "id": "a3671cb9",
   "metadata": {},
   "outputs": [
    {
     "data": {
      "text/html": [
       "<div>\n",
       "<style scoped>\n",
       "    .dataframe tbody tr th:only-of-type {\n",
       "        vertical-align: middle;\n",
       "    }\n",
       "\n",
       "    .dataframe tbody tr th {\n",
       "        vertical-align: top;\n",
       "    }\n",
       "\n",
       "    .dataframe thead th {\n",
       "        text-align: right;\n",
       "    }\n",
       "</style>\n",
       "<table border=\"1\" class=\"dataframe\">\n",
       "  <thead>\n",
       "    <tr style=\"text-align: right;\">\n",
       "      <th></th>\n",
       "      <th>id_prod</th>\n",
       "      <th>date</th>\n",
       "      <th>session_id</th>\n",
       "      <th>client_id</th>\n",
       "      <th>price</th>\n",
       "      <th>categ</th>\n",
       "      <th>sex</th>\n",
       "      <th>birth</th>\n",
       "      <th>age</th>\n",
       "    </tr>\n",
       "  </thead>\n",
       "  <tbody>\n",
       "    <tr>\n",
       "      <th>0</th>\n",
       "      <td>0_1518</td>\n",
       "      <td>2022-05-20 13:21:29.043970</td>\n",
       "      <td>s_211425</td>\n",
       "      <td>c_103</td>\n",
       "      <td>4.18</td>\n",
       "      <td>0.0</td>\n",
       "      <td>f</td>\n",
       "      <td>1986</td>\n",
       "      <td>37</td>\n",
       "    </tr>\n",
       "    <tr>\n",
       "      <th>1</th>\n",
       "      <td>0_1518</td>\n",
       "      <td>2021-07-20 13:21:29.043970</td>\n",
       "      <td>s_64849</td>\n",
       "      <td>c_103</td>\n",
       "      <td>4.18</td>\n",
       "      <td>0.0</td>\n",
       "      <td>f</td>\n",
       "      <td>1986</td>\n",
       "      <td>37</td>\n",
       "    </tr>\n",
       "    <tr>\n",
       "      <th>2</th>\n",
       "      <td>0_1518</td>\n",
       "      <td>2022-08-20 13:21:29.043970</td>\n",
       "      <td>s_255965</td>\n",
       "      <td>c_103</td>\n",
       "      <td>4.18</td>\n",
       "      <td>0.0</td>\n",
       "      <td>f</td>\n",
       "      <td>1986</td>\n",
       "      <td>37</td>\n",
       "    </tr>\n",
       "    <tr>\n",
       "      <th>3</th>\n",
       "      <td>0_1418</td>\n",
       "      <td>2022-06-18 01:49:37.823274</td>\n",
       "      <td>s_225411</td>\n",
       "      <td>c_103</td>\n",
       "      <td>8.57</td>\n",
       "      <td>0.0</td>\n",
       "      <td>f</td>\n",
       "      <td>1986</td>\n",
       "      <td>37</td>\n",
       "    </tr>\n",
       "    <tr>\n",
       "      <th>4</th>\n",
       "      <td>0_1418</td>\n",
       "      <td>2021-08-18 01:49:37.823274</td>\n",
       "      <td>s_77214</td>\n",
       "      <td>c_103</td>\n",
       "      <td>8.57</td>\n",
       "      <td>0.0</td>\n",
       "      <td>f</td>\n",
       "      <td>1986</td>\n",
       "      <td>37</td>\n",
       "    </tr>\n",
       "    <tr>\n",
       "      <th>...</th>\n",
       "      <td>...</td>\n",
       "      <td>...</td>\n",
       "      <td>...</td>\n",
       "      <td>...</td>\n",
       "      <td>...</td>\n",
       "      <td>...</td>\n",
       "      <td>...</td>\n",
       "      <td>...</td>\n",
       "      <td>...</td>\n",
       "    </tr>\n",
       "    <tr>\n",
       "      <th>679106</th>\n",
       "      <td>2_147</td>\n",
       "      <td>2021-07-23 07:01:38.963669</td>\n",
       "      <td>s_65994</td>\n",
       "      <td>c_4391</td>\n",
       "      <td>181.99</td>\n",
       "      <td>2.0</td>\n",
       "      <td>f</td>\n",
       "      <td>2001</td>\n",
       "      <td>22</td>\n",
       "    </tr>\n",
       "    <tr>\n",
       "      <th>679107</th>\n",
       "      <td>0_142</td>\n",
       "      <td>2022-03-25 18:07:25.880052</td>\n",
       "      <td>s_184472</td>\n",
       "      <td>c_1232</td>\n",
       "      <td>19.85</td>\n",
       "      <td>0.0</td>\n",
       "      <td>f</td>\n",
       "      <td>1960</td>\n",
       "      <td>63</td>\n",
       "    </tr>\n",
       "    <tr>\n",
       "      <th>679108</th>\n",
       "      <td>0_142</td>\n",
       "      <td>2021-09-25 18:07:25.880052</td>\n",
       "      <td>s_95415</td>\n",
       "      <td>c_1232</td>\n",
       "      <td>19.85</td>\n",
       "      <td>0.0</td>\n",
       "      <td>f</td>\n",
       "      <td>1960</td>\n",
       "      <td>63</td>\n",
       "    </tr>\n",
       "    <tr>\n",
       "      <th>679109</th>\n",
       "      <td>2_205</td>\n",
       "      <td>2021-03-11 00:11:32.016264</td>\n",
       "      <td>s_4605</td>\n",
       "      <td>c_7534</td>\n",
       "      <td>100.99</td>\n",
       "      <td>2.0</td>\n",
       "      <td>m</td>\n",
       "      <td>1992</td>\n",
       "      <td>31</td>\n",
       "    </tr>\n",
       "    <tr>\n",
       "      <th>679110</th>\n",
       "      <td>2_205</td>\n",
       "      <td>2022-07-11 00:11:32.016264</td>\n",
       "      <td>s_236636</td>\n",
       "      <td>c_7534</td>\n",
       "      <td>100.99</td>\n",
       "      <td>2.0</td>\n",
       "      <td>m</td>\n",
       "      <td>1992</td>\n",
       "      <td>31</td>\n",
       "    </tr>\n",
       "  </tbody>\n",
       "</table>\n",
       "<p>679111 rows × 9 columns</p>\n",
       "</div>"
      ],
      "text/plain": [
       "       id_prod                       date session_id client_id   price  categ  \\\n",
       "0       0_1518 2022-05-20 13:21:29.043970   s_211425     c_103    4.18    0.0   \n",
       "1       0_1518 2021-07-20 13:21:29.043970    s_64849     c_103    4.18    0.0   \n",
       "2       0_1518 2022-08-20 13:21:29.043970   s_255965     c_103    4.18    0.0   \n",
       "3       0_1418 2022-06-18 01:49:37.823274   s_225411     c_103    8.57    0.0   \n",
       "4       0_1418 2021-08-18 01:49:37.823274    s_77214     c_103    8.57    0.0   \n",
       "...        ...                        ...        ...       ...     ...    ...   \n",
       "679106   2_147 2021-07-23 07:01:38.963669    s_65994    c_4391  181.99    2.0   \n",
       "679107   0_142 2022-03-25 18:07:25.880052   s_184472    c_1232   19.85    0.0   \n",
       "679108   0_142 2021-09-25 18:07:25.880052    s_95415    c_1232   19.85    0.0   \n",
       "679109   2_205 2021-03-11 00:11:32.016264     s_4605    c_7534  100.99    2.0   \n",
       "679110   2_205 2022-07-11 00:11:32.016264   s_236636    c_7534  100.99    2.0   \n",
       "\n",
       "       sex  birth  age  \n",
       "0        f   1986   37  \n",
       "1        f   1986   37  \n",
       "2        f   1986   37  \n",
       "3        f   1986   37  \n",
       "4        f   1986   37  \n",
       "...     ..    ...  ...  \n",
       "679106   f   2001   22  \n",
       "679107   f   1960   63  \n",
       "679108   f   1960   63  \n",
       "679109   m   1992   31  \n",
       "679110   m   1992   31  \n",
       "\n",
       "[679111 rows x 9 columns]"
      ]
     },
     "execution_count": 58,
     "metadata": {},
     "output_type": "execute_result"
    }
   ],
   "source": [
    "df_global"
   ]
  },
  {
   "cell_type": "code",
   "execution_count": 59,
   "id": "2fb7206f",
   "metadata": {},
   "outputs": [
    {
     "data": {
      "text/html": [
       "<div>\n",
       "<style scoped>\n",
       "    .dataframe tbody tr th:only-of-type {\n",
       "        vertical-align: middle;\n",
       "    }\n",
       "\n",
       "    .dataframe tbody tr th {\n",
       "        vertical-align: top;\n",
       "    }\n",
       "\n",
       "    .dataframe thead th {\n",
       "        text-align: right;\n",
       "    }\n",
       "</style>\n",
       "<table border=\"1\" class=\"dataframe\">\n",
       "  <thead>\n",
       "    <tr style=\"text-align: right;\">\n",
       "      <th></th>\n",
       "      <th>price</th>\n",
       "    </tr>\n",
       "    <tr>\n",
       "      <th>categ</th>\n",
       "      <th></th>\n",
       "    </tr>\n",
       "  </thead>\n",
       "  <tbody>\n",
       "    <tr>\n",
       "      <th>1.0</th>\n",
       "      <td>4653722.69</td>\n",
       "    </tr>\n",
       "    <tr>\n",
       "      <th>0.0</th>\n",
       "      <td>4419730.97</td>\n",
       "    </tr>\n",
       "    <tr>\n",
       "      <th>2.0</th>\n",
       "      <td>2780275.02</td>\n",
       "    </tr>\n",
       "  </tbody>\n",
       "</table>\n",
       "</div>"
      ],
      "text/plain": [
       "            price\n",
       "categ            \n",
       "1.0    4653722.69\n",
       "0.0    4419730.97\n",
       "2.0    2780275.02"
      ]
     },
     "execution_count": 59,
     "metadata": {},
     "output_type": "execute_result"
    }
   ],
   "source": [
    " Total_Categ =pd.DataFrame(df_global.groupby(by=\"categ\")[\"price\"].sum()).sort_values(by=\"price\",ascending=False)\n",
    "Total_Categ"
   ]
  },
  {
   "cell_type": "code",
   "execution_count": 60,
   "id": "6fba0aec",
   "metadata": {},
   "outputs": [
    {
     "data": {
      "text/plain": [
       "<AxesSubplot:xlabel='categ'>"
      ]
     },
     "execution_count": 60,
     "metadata": {},
     "output_type": "execute_result"
    },
    {
     "data": {
      "image/png": "[encoded data removed]",
      "text/plain": [
       "<Figure size 432x288 with 1 Axes>"
      ]
     },
     "metadata": {
      "needs_background": "light"
     },
     "output_type": "display_data"
    }
   ],
   "source": [
    " Total_Categ.plot.bar()"
   ]
  },
  {
   "cell_type": "code",
   "execution_count": 61,
   "id": "f7513ee9",
   "metadata": {},
   "outputs": [
    {
     "data": {
      "text/html": [
       "<div>\n",
       "<style scoped>\n",
       "    .dataframe tbody tr th:only-of-type {\n",
       "        vertical-align: middle;\n",
       "    }\n",
       "\n",
       "    .dataframe tbody tr th {\n",
       "        vertical-align: top;\n",
       "    }\n",
       "\n",
       "    .dataframe thead th {\n",
       "        text-align: right;\n",
       "    }\n",
       "</style>\n",
       "<table border=\"1\" class=\"dataframe\">\n",
       "  <thead>\n",
       "    <tr style=\"text-align: right;\">\n",
       "      <th></th>\n",
       "      <th>price</th>\n",
       "    </tr>\n",
       "    <tr>\n",
       "      <th>categ</th>\n",
       "      <th></th>\n",
       "    </tr>\n",
       "  </thead>\n",
       "  <tbody>\n",
       "    <tr>\n",
       "      <th>2.0</th>\n",
       "      <td>76.207412</td>\n",
       "    </tr>\n",
       "    <tr>\n",
       "      <th>1.0</th>\n",
       "      <td>20.485730</td>\n",
       "    </tr>\n",
       "    <tr>\n",
       "      <th>0.0</th>\n",
       "      <td>10.638188</td>\n",
       "    </tr>\n",
       "  </tbody>\n",
       "</table>\n",
       "</div>"
      ],
      "text/plain": [
       "           price\n",
       "categ           \n",
       "2.0    76.207412\n",
       "1.0    20.485730\n",
       "0.0    10.638188"
      ]
     },
     "execution_count": 61,
     "metadata": {},
     "output_type": "execute_result"
    }
   ],
   "source": [
    "Mean_Price_Categ = pd.DataFrame(df_global.groupby(by=\"categ\")[\"price\"].mean()).sort_values(by=\"price\",ascending=False)\n",
    "Mean_Price_Categ"
   ]
  },
  {
   "cell_type": "code",
   "execution_count": 62,
   "id": "c476edf2",
   "metadata": {},
   "outputs": [
    {
     "data": {
      "text/plain": [
       "<AxesSubplot:xlabel='categ'>"
      ]
     },
     "execution_count": 62,
     "metadata": {},
     "output_type": "execute_result"
    },
    {
     "data": {
      "image/png": "[encoded data removed]",
      "text/plain": [
       "<Figure size 432x288 with 1 Axes>"
      ]
     },
     "metadata": {
      "needs_background": "light"
     },
     "output_type": "display_data"
    }
   ],
   "source": [
    "Mean_Price_Categ.plot.bar()"
   ]
  },
  {
   "cell_type": "code",
   "execution_count": 63,
   "id": "a2ce1a85",
   "metadata": {},
   "outputs": [
    {
     "data": {
      "text/html": [
       "<div>\n",
       "<style scoped>\n",
       "    .dataframe tbody tr th:only-of-type {\n",
       "        vertical-align: middle;\n",
       "    }\n",
       "\n",
       "    .dataframe tbody tr th {\n",
       "        vertical-align: top;\n",
       "    }\n",
       "\n",
       "    .dataframe thead th {\n",
       "        text-align: right;\n",
       "    }\n",
       "</style>\n",
       "<table border=\"1\" class=\"dataframe\">\n",
       "  <thead>\n",
       "    <tr style=\"text-align: right;\">\n",
       "      <th></th>\n",
       "      <th>price</th>\n",
       "    </tr>\n",
       "    <tr>\n",
       "      <th>client_id</th>\n",
       "      <th></th>\n",
       "    </tr>\n",
       "  </thead>\n",
       "  <tbody>\n",
       "    <tr>\n",
       "      <th>c_1609</th>\n",
       "      <td>324033.35</td>\n",
       "    </tr>\n",
       "    <tr>\n",
       "      <th>c_4958</th>\n",
       "      <td>289760.34</td>\n",
       "    </tr>\n",
       "    <tr>\n",
       "      <th>c_6714</th>\n",
       "      <td>153598.92</td>\n",
       "    </tr>\n",
       "    <tr>\n",
       "      <th>c_3454</th>\n",
       "      <td>113637.93</td>\n",
       "    </tr>\n",
       "    <tr>\n",
       "      <th>c_3263</th>\n",
       "      <td>5276.87</td>\n",
       "    </tr>\n",
       "    <tr>\n",
       "      <th>c_1570</th>\n",
       "      <td>5271.62</td>\n",
       "    </tr>\n",
       "    <tr>\n",
       "      <th>c_2899</th>\n",
       "      <td>5214.05</td>\n",
       "    </tr>\n",
       "    <tr>\n",
       "      <th>c_2140</th>\n",
       "      <td>5208.82</td>\n",
       "    </tr>\n",
       "    <tr>\n",
       "      <th>c_7319</th>\n",
       "      <td>5155.77</td>\n",
       "    </tr>\n",
       "    <tr>\n",
       "      <th>c_7959</th>\n",
       "      <td>5085.45</td>\n",
       "    </tr>\n",
       "  </tbody>\n",
       "</table>\n",
       "</div>"
      ],
      "text/plain": [
       "               price\n",
       "client_id           \n",
       "c_1609     324033.35\n",
       "c_4958     289760.34\n",
       "c_6714     153598.92\n",
       "c_3454     113637.93\n",
       "c_3263       5276.87\n",
       "c_1570       5271.62\n",
       "c_2899       5214.05\n",
       "c_2140       5208.82\n",
       "c_7319       5155.77\n",
       "c_7959       5085.45"
      ]
     },
     "execution_count": 63,
     "metadata": {},
     "output_type": "execute_result"
    }
   ],
   "source": [
    "CA_per_Client = pd.DataFrame(df_global.groupby(by=\"client_id\")[\"price\"].sum()).sort_values(by='price',ascending = False)\n",
    "CA_per_Client.head(10)"
   ]
  },
  {
   "cell_type": "markdown",
   "id": "1a6b5fef",
   "metadata": {},
   "source": [
    "On remarque 4 gros clients qui doivent etre des entreprises "
   ]
  },
  {
   "cell_type": "markdown",
   "id": "9e6a66a1",
   "metadata": {},
   "source": [
    "X_lorenz = df_global.groupby(by=\"client_id\")[\"price\"].sum().cumsum() / df_global.groupby(by=\"client_id\")[\"price\"].sum().sum()\n",
    "X_lorenz = np.insert(X_lorenz, 0, 0)\n",
    "X_lorenz[0], X_lorenz[-1]"
   ]
  },
  {
   "cell_type": "markdown",
   "id": "f50aa0fa",
   "metadata": {},
   "source": [
    "faire courbe de lorrenz \n"
   ]
  },
  {
   "cell_type": "code",
   "execution_count": 64,
   "id": "dd96eb2f",
   "metadata": {
    "scrolled": true
   },
   "outputs": [
    {
     "name": "stdout",
     "output_type": "stream",
     "text": [
      "<class 'pandas.core.frame.DataFrame'>\n",
      "Int64Index: 679111 entries, 0 to 679110\n",
      "Data columns (total 9 columns):\n",
      " #   Column      Non-Null Count   Dtype         \n",
      "---  ------      --------------   -----         \n",
      " 0   id_prod     679111 non-null  object        \n",
      " 1   date        679111 non-null  datetime64[ns]\n",
      " 2   session_id  679111 non-null  object        \n",
      " 3   client_id   679111 non-null  object        \n",
      " 4   price       679111 non-null  float64       \n",
      " 5   categ       679111 non-null  float64       \n",
      " 6   sex         679111 non-null  object        \n",
      " 7   birth       679111 non-null  int64         \n",
      " 8   age         679111 non-null  int64         \n",
      "dtypes: datetime64[ns](1), float64(2), int64(2), object(4)\n",
      "memory usage: 51.8+ MB\n"
     ]
    }
   ],
   "source": [
    "df_global.info()"
   ]
  },
  {
   "cell_type": "markdown",
   "id": "ee6a4989",
   "metadata": {},
   "source": [
    "## Analyse du CA par Client + Courbes  <a class=\"anchor\" id=\"Section_2_7\"></a>"
   ]
  },
  {
   "cell_type": "code",
   "execution_count": 65,
   "id": "8b2e0e16",
   "metadata": {
    "scrolled": false
   },
   "outputs": [],
   "source": [
    "CA_per_Client = CA_per_Client.sort_values(by='price',ascending = True)"
   ]
  },
  {
   "cell_type": "code",
   "execution_count": 66,
   "id": "bbce55e7",
   "metadata": {
    "scrolled": true
   },
   "outputs": [
    {
     "data": {
      "text/html": [
       "<div>\n",
       "<style scoped>\n",
       "    .dataframe tbody tr th:only-of-type {\n",
       "        vertical-align: middle;\n",
       "    }\n",
       "\n",
       "    .dataframe tbody tr th {\n",
       "        vertical-align: top;\n",
       "    }\n",
       "\n",
       "    .dataframe thead th {\n",
       "        text-align: right;\n",
       "    }\n",
       "</style>\n",
       "<table border=\"1\" class=\"dataframe\">\n",
       "  <thead>\n",
       "    <tr style=\"text-align: right;\">\n",
       "      <th></th>\n",
       "      <th>price</th>\n",
       "    </tr>\n",
       "    <tr>\n",
       "      <th>client_id</th>\n",
       "      <th></th>\n",
       "    </tr>\n",
       "  </thead>\n",
       "  <tbody>\n",
       "    <tr>\n",
       "      <th>c_8351</th>\n",
       "      <td>5.323220e-07</td>\n",
       "    </tr>\n",
       "    <tr>\n",
       "      <th>c_8140</th>\n",
       "      <td>1.232524e-06</td>\n",
       "    </tr>\n",
       "    <tr>\n",
       "      <th>c_8114</th>\n",
       "      <td>2.074453e-06</td>\n",
       "    </tr>\n",
       "    <tr>\n",
       "      <th>c_240</th>\n",
       "      <td>3.007492e-06</td>\n",
       "    </tr>\n",
       "    <tr>\n",
       "      <th>c_4648</th>\n",
       "      <td>3.952343e-06</td>\n",
       "    </tr>\n",
       "    <tr>\n",
       "      <th>...</th>\n",
       "      <td>...</td>\n",
       "    </tr>\n",
       "    <tr>\n",
       "      <th>c_3263</th>\n",
       "      <td>9.256748e-01</td>\n",
       "    </tr>\n",
       "    <tr>\n",
       "      <th>c_3454</th>\n",
       "      <td>9.352615e-01</td>\n",
       "    </tr>\n",
       "    <tr>\n",
       "      <th>c_6714</th>\n",
       "      <td>9.482194e-01</td>\n",
       "    </tr>\n",
       "    <tr>\n",
       "      <th>c_4958</th>\n",
       "      <td>9.726640e-01</td>\n",
       "    </tr>\n",
       "    <tr>\n",
       "      <th>c_1609</th>\n",
       "      <td>1.000000e+00</td>\n",
       "    </tr>\n",
       "  </tbody>\n",
       "</table>\n",
       "<p>8600 rows × 1 columns</p>\n",
       "</div>"
      ],
      "text/plain": [
       "                  price\n",
       "client_id              \n",
       "c_8351     5.323220e-07\n",
       "c_8140     1.232524e-06\n",
       "c_8114     2.074453e-06\n",
       "c_240      3.007492e-06\n",
       "c_4648     3.952343e-06\n",
       "...                 ...\n",
       "c_3263     9.256748e-01\n",
       "c_3454     9.352615e-01\n",
       "c_6714     9.482194e-01\n",
       "c_4958     9.726640e-01\n",
       "c_1609     1.000000e+00\n",
       "\n",
       "[8600 rows x 1 columns]"
      ]
     },
     "execution_count": 66,
     "metadata": {},
     "output_type": "execute_result"
    }
   ],
   "source": [
    "Lorrenz_Ca_Client = CA_per_Client.cumsum() / CA_per_Client.sum()\n",
    "Lorrenz_Ca_Client"
   ]
  },
  {
   "cell_type": "code",
   "execution_count": 67,
   "id": "c4b09cf4",
   "metadata": {
    "scrolled": true
   },
   "outputs": [
    {
     "data": {
      "image/png": "[encoded data removed]",
      "text/plain": [
       "<Figure size 432x288 with 1 Axes>"
      ]
     },
     "metadata": {
      "needs_background": "light"
     },
     "output_type": "display_data"
    }
   ],
   "source": [
    "np.sort(Lorrenz_Ca_Client, axis = None)\n",
    "\n",
    "n = len(Lorrenz_Ca_Client)\n",
    "Lorrenz_Ca_Client = np.append([0],Lorrenz_Ca_Client) # La courbe de Lorenz commence à 0\n",
    "\n",
    "xaxis = np.linspace(0-1/n,1+1/n,n+1) #Il y a un segment de taille n pour chaque individu, plus 1 segment supplémentaire d'ordonnée 0. Le premier segment commence à 0-1/n, et le dernier termine à 1+1/n.\n",
    "plt.plot(xaxis,Lorrenz_Ca_Client,drawstyle='steps-post')\n",
    "plt.show()"
   ]
  },
  {
   "cell_type": "code",
   "execution_count": 68,
   "id": "34d65c7c",
   "metadata": {
    "scrolled": true
   },
   "outputs": [
    {
     "data": {
      "text/plain": [
       "0.44638654137401457"
      ]
     },
     "execution_count": 68,
     "metadata": {},
     "output_type": "execute_result"
    }
   ],
   "source": [
    "AUC = (Lorrenz_Ca_Client.sum() -Lorrenz_Ca_Client[-1]/2 -Lorrenz_Ca_Client[0]/2)/n # Surface sous la courbe de Lorenz. Le premier segment (lorenz[0]) est à moitié en dessous de 0, on le coupe donc en 2, on fait de même pour le dernier segment lorenz[-1] qui est à moitié au dessus de 1.\n",
    "S = 0.5 - AUC # surface entre la première bissectrice et le courbe de Lorenz\n",
    "gini = 2*S\n",
    "gini"
   ]
  },
  {
   "cell_type": "markdown",
   "id": "e19360ab",
   "metadata": {},
   "source": [
    "On a ici l'indice de Gini a env 0.44 "
   ]
  },
  {
   "cell_type": "markdown",
   "id": "5149d3f9",
   "metadata": {},
   "source": [
    "On va donc faire une analyse en excluant les grosses entreprises et en ne conservant que les particuliers"
   ]
  },
  {
   "cell_type": "code",
   "execution_count": 69,
   "id": "7cc48140",
   "metadata": {},
   "outputs": [
    {
     "data": {
      "text/html": [
       "<div>\n",
       "<style scoped>\n",
       "    .dataframe tbody tr th:only-of-type {\n",
       "        vertical-align: middle;\n",
       "    }\n",
       "\n",
       "    .dataframe tbody tr th {\n",
       "        vertical-align: top;\n",
       "    }\n",
       "\n",
       "    .dataframe thead th {\n",
       "        text-align: right;\n",
       "    }\n",
       "</style>\n",
       "<table border=\"1\" class=\"dataframe\">\n",
       "  <thead>\n",
       "    <tr style=\"text-align: right;\">\n",
       "      <th></th>\n",
       "      <th>price</th>\n",
       "    </tr>\n",
       "    <tr>\n",
       "      <th>client_id</th>\n",
       "      <th></th>\n",
       "    </tr>\n",
       "  </thead>\n",
       "  <tbody>\n",
       "    <tr>\n",
       "      <th>c_8351</th>\n",
       "      <td>6.31</td>\n",
       "    </tr>\n",
       "    <tr>\n",
       "      <th>c_8140</th>\n",
       "      <td>8.30</td>\n",
       "    </tr>\n",
       "    <tr>\n",
       "      <th>c_8114</th>\n",
       "      <td>9.98</td>\n",
       "    </tr>\n",
       "    <tr>\n",
       "      <th>c_240</th>\n",
       "      <td>11.06</td>\n",
       "    </tr>\n",
       "    <tr>\n",
       "      <th>c_4648</th>\n",
       "      <td>11.20</td>\n",
       "    </tr>\n",
       "    <tr>\n",
       "      <th>...</th>\n",
       "      <td>...</td>\n",
       "    </tr>\n",
       "    <tr>\n",
       "      <th>c_7319</th>\n",
       "      <td>5155.77</td>\n",
       "    </tr>\n",
       "    <tr>\n",
       "      <th>c_2140</th>\n",
       "      <td>5208.82</td>\n",
       "    </tr>\n",
       "    <tr>\n",
       "      <th>c_2899</th>\n",
       "      <td>5214.05</td>\n",
       "    </tr>\n",
       "    <tr>\n",
       "      <th>c_1570</th>\n",
       "      <td>5271.62</td>\n",
       "    </tr>\n",
       "    <tr>\n",
       "      <th>c_3263</th>\n",
       "      <td>5276.87</td>\n",
       "    </tr>\n",
       "  </tbody>\n",
       "</table>\n",
       "<p>8596 rows × 1 columns</p>\n",
       "</div>"
      ],
      "text/plain": [
       "             price\n",
       "client_id         \n",
       "c_8351        6.31\n",
       "c_8140        8.30\n",
       "c_8114        9.98\n",
       "c_240        11.06\n",
       "c_4648       11.20\n",
       "...            ...\n",
       "c_7319     5155.77\n",
       "c_2140     5208.82\n",
       "c_2899     5214.05\n",
       "c_1570     5271.62\n",
       "c_3263     5276.87\n",
       "\n",
       "[8596 rows x 1 columns]"
      ]
     },
     "execution_count": 69,
     "metadata": {},
     "output_type": "execute_result"
    }
   ],
   "source": [
    "CA_Particuliers = CA_per_Client[CA_per_Client[\"price\"] < 10000]\n",
    "CA_Particuliers"
   ]
  },
  {
   "cell_type": "code",
   "execution_count": 70,
   "id": "6ef8585e",
   "metadata": {},
   "outputs": [
    {
     "data": {
      "text/html": [
       "<div>\n",
       "<style scoped>\n",
       "    .dataframe tbody tr th:only-of-type {\n",
       "        vertical-align: middle;\n",
       "    }\n",
       "\n",
       "    .dataframe tbody tr th {\n",
       "        vertical-align: top;\n",
       "    }\n",
       "\n",
       "    .dataframe thead th {\n",
       "        text-align: right;\n",
       "    }\n",
       "</style>\n",
       "<table border=\"1\" class=\"dataframe\">\n",
       "  <thead>\n",
       "    <tr style=\"text-align: right;\">\n",
       "      <th></th>\n",
       "      <th>price</th>\n",
       "    </tr>\n",
       "    <tr>\n",
       "      <th>client_id</th>\n",
       "      <th></th>\n",
       "    </tr>\n",
       "  </thead>\n",
       "  <tbody>\n",
       "    <tr>\n",
       "      <th>c_8351</th>\n",
       "      <td>5.750637e-07</td>\n",
       "    </tr>\n",
       "    <tr>\n",
       "      <th>c_8140</th>\n",
       "      <td>1.331487e-06</td>\n",
       "    </tr>\n",
       "    <tr>\n",
       "      <th>c_8114</th>\n",
       "      <td>2.241017e-06</td>\n",
       "    </tr>\n",
       "    <tr>\n",
       "      <th>c_240</th>\n",
       "      <td>3.248973e-06</td>\n",
       "    </tr>\n",
       "    <tr>\n",
       "      <th>c_4648</th>\n",
       "      <td>4.269688e-06</td>\n",
       "    </tr>\n",
       "    <tr>\n",
       "      <th>...</th>\n",
       "      <td>...</td>\n",
       "    </tr>\n",
       "    <tr>\n",
       "      <th>c_7319</th>\n",
       "      <td>9.980888e-01</td>\n",
       "    </tr>\n",
       "    <tr>\n",
       "      <th>c_2140</th>\n",
       "      <td>9.985635e-01</td>\n",
       "    </tr>\n",
       "    <tr>\n",
       "      <th>c_2899</th>\n",
       "      <td>9.990387e-01</td>\n",
       "    </tr>\n",
       "    <tr>\n",
       "      <th>c_1570</th>\n",
       "      <td>9.995191e-01</td>\n",
       "    </tr>\n",
       "    <tr>\n",
       "      <th>c_3263</th>\n",
       "      <td>1.000000e+00</td>\n",
       "    </tr>\n",
       "  </tbody>\n",
       "</table>\n",
       "<p>8596 rows × 1 columns</p>\n",
       "</div>"
      ],
      "text/plain": [
       "                  price\n",
       "client_id              \n",
       "c_8351     5.750637e-07\n",
       "c_8140     1.331487e-06\n",
       "c_8114     2.241017e-06\n",
       "c_240      3.248973e-06\n",
       "c_4648     4.269688e-06\n",
       "...                 ...\n",
       "c_7319     9.980888e-01\n",
       "c_2140     9.985635e-01\n",
       "c_2899     9.990387e-01\n",
       "c_1570     9.995191e-01\n",
       "c_3263     1.000000e+00\n",
       "\n",
       "[8596 rows x 1 columns]"
      ]
     },
     "execution_count": 70,
     "metadata": {},
     "output_type": "execute_result"
    }
   ],
   "source": [
    "Lorrenz_Ca_Particuliers = CA_Particuliers.cumsum() / CA_Particuliers.sum()\n",
    "Lorrenz_Ca_Particuliers = Lorrenz_Ca_Particuliers.sort_values(by='price',ascending = True)\n",
    "Lorrenz_Ca_Particuliers"
   ]
  },
  {
   "cell_type": "code",
   "execution_count": 71,
   "id": "65d4d843",
   "metadata": {},
   "outputs": [
    {
     "data": {
      "image/png": "[encoded data removed]",
      "text/plain": [
       "<Figure size 432x288 with 1 Axes>"
      ]
     },
     "metadata": {
      "needs_background": "light"
     },
     "output_type": "display_data"
    }
   ],
   "source": [
    "np.sort(Lorrenz_Ca_Particuliers, axis = None)\n",
    "\n",
    "n = len(Lorrenz_Ca_Particuliers)\n",
    "Lorrenz_Ca_Particuliers = np.append([0],Lorrenz_Ca_Particuliers) # La courbe de Lorenz commence à 0\n",
    "\n",
    "xaxis = np.linspace(0-1/n,1+1/n,n+1) #Il y a un segment de taille n pour chaque individu, plus 1 segment supplémentaire d'ordonnée 0. Le premier segment commence à 0-1/n, et le dernier termine à 1+1/n.\n",
    "plt.plot(xaxis,Lorrenz_Ca_Particuliers,drawstyle='steps-post')\n",
    "plt.show()"
   ]
  },
  {
   "cell_type": "code",
   "execution_count": 72,
   "id": "da7167e5",
   "metadata": {},
   "outputs": [
    {
     "data": {
      "text/plain": [
       "0.40261686549497755"
      ]
     },
     "execution_count": 72,
     "metadata": {},
     "output_type": "execute_result"
    }
   ],
   "source": [
    "AUC = (Lorrenz_Ca_Particuliers.sum() -Lorrenz_Ca_Particuliers[-1]/2 -Lorrenz_Ca_Particuliers[0]/2)/n # Surface sous la courbe de Lorenz. Le premier segment (lorenz[0]) est à moitié en dessous de 0, on le coupe donc en 2, on fait de même pour le dernier segment lorenz[-1] qui est à moitié au dessus de 1.\n",
    "S = 0.5 - AUC # surface entre la première bissectrice et le courbe de Lorenz\n",
    "gini = 2*S\n",
    "gini"
   ]
  },
  {
   "cell_type": "markdown",
   "id": "f7610e90",
   "metadata": {},
   "source": [
    "On remarque ici que l'indice de Gini est inférieur, si on ne prend pas en compte les entreprises, et donc que le facteur d'égalité est meilleur "
   ]
  },
  {
   "cell_type": "markdown",
   "id": "2bf311ca",
   "metadata": {},
   "source": [
    "Il nous reste les moyennes mobiles pour CA \n",
    "Analyse bivariés "
   ]
  },
  {
   "cell_type": "code",
   "execution_count": 73,
   "id": "812a6a71",
   "metadata": {},
   "outputs": [
    {
     "data": {
      "text/html": [
       "<div>\n",
       "<style scoped>\n",
       "    .dataframe tbody tr th:only-of-type {\n",
       "        vertical-align: middle;\n",
       "    }\n",
       "\n",
       "    .dataframe tbody tr th {\n",
       "        vertical-align: top;\n",
       "    }\n",
       "\n",
       "    .dataframe thead th {\n",
       "        text-align: right;\n",
       "    }\n",
       "</style>\n",
       "<table border=\"1\" class=\"dataframe\">\n",
       "  <thead>\n",
       "    <tr style=\"text-align: right;\">\n",
       "      <th></th>\n",
       "      <th>id_prod</th>\n",
       "      <th>date</th>\n",
       "      <th>session_id</th>\n",
       "      <th>client_id</th>\n",
       "      <th>price</th>\n",
       "      <th>categ</th>\n",
       "      <th>sex</th>\n",
       "      <th>birth</th>\n",
       "      <th>age</th>\n",
       "    </tr>\n",
       "  </thead>\n",
       "  <tbody>\n",
       "    <tr>\n",
       "      <th>0</th>\n",
       "      <td>0_1518</td>\n",
       "      <td>2022-05-20 13:21:29.043970</td>\n",
       "      <td>s_211425</td>\n",
       "      <td>c_103</td>\n",
       "      <td>4.18</td>\n",
       "      <td>0.0</td>\n",
       "      <td>f</td>\n",
       "      <td>1986</td>\n",
       "      <td>37</td>\n",
       "    </tr>\n",
       "    <tr>\n",
       "      <th>1</th>\n",
       "      <td>0_1518</td>\n",
       "      <td>2021-07-20 13:21:29.043970</td>\n",
       "      <td>s_64849</td>\n",
       "      <td>c_103</td>\n",
       "      <td>4.18</td>\n",
       "      <td>0.0</td>\n",
       "      <td>f</td>\n",
       "      <td>1986</td>\n",
       "      <td>37</td>\n",
       "    </tr>\n",
       "    <tr>\n",
       "      <th>2</th>\n",
       "      <td>0_1518</td>\n",
       "      <td>2022-08-20 13:21:29.043970</td>\n",
       "      <td>s_255965</td>\n",
       "      <td>c_103</td>\n",
       "      <td>4.18</td>\n",
       "      <td>0.0</td>\n",
       "      <td>f</td>\n",
       "      <td>1986</td>\n",
       "      <td>37</td>\n",
       "    </tr>\n",
       "    <tr>\n",
       "      <th>3</th>\n",
       "      <td>0_1418</td>\n",
       "      <td>2022-06-18 01:49:37.823274</td>\n",
       "      <td>s_225411</td>\n",
       "      <td>c_103</td>\n",
       "      <td>8.57</td>\n",
       "      <td>0.0</td>\n",
       "      <td>f</td>\n",
       "      <td>1986</td>\n",
       "      <td>37</td>\n",
       "    </tr>\n",
       "    <tr>\n",
       "      <th>4</th>\n",
       "      <td>0_1418</td>\n",
       "      <td>2021-08-18 01:49:37.823274</td>\n",
       "      <td>s_77214</td>\n",
       "      <td>c_103</td>\n",
       "      <td>8.57</td>\n",
       "      <td>0.0</td>\n",
       "      <td>f</td>\n",
       "      <td>1986</td>\n",
       "      <td>37</td>\n",
       "    </tr>\n",
       "    <tr>\n",
       "      <th>...</th>\n",
       "      <td>...</td>\n",
       "      <td>...</td>\n",
       "      <td>...</td>\n",
       "      <td>...</td>\n",
       "      <td>...</td>\n",
       "      <td>...</td>\n",
       "      <td>...</td>\n",
       "      <td>...</td>\n",
       "      <td>...</td>\n",
       "    </tr>\n",
       "    <tr>\n",
       "      <th>679106</th>\n",
       "      <td>2_147</td>\n",
       "      <td>2021-07-23 07:01:38.963669</td>\n",
       "      <td>s_65994</td>\n",
       "      <td>c_4391</td>\n",
       "      <td>181.99</td>\n",
       "      <td>2.0</td>\n",
       "      <td>f</td>\n",
       "      <td>2001</td>\n",
       "      <td>22</td>\n",
       "    </tr>\n",
       "    <tr>\n",
       "      <th>679107</th>\n",
       "      <td>0_142</td>\n",
       "      <td>2022-03-25 18:07:25.880052</td>\n",
       "      <td>s_184472</td>\n",
       "      <td>c_1232</td>\n",
       "      <td>19.85</td>\n",
       "      <td>0.0</td>\n",
       "      <td>f</td>\n",
       "      <td>1960</td>\n",
       "      <td>63</td>\n",
       "    </tr>\n",
       "    <tr>\n",
       "      <th>679108</th>\n",
       "      <td>0_142</td>\n",
       "      <td>2021-09-25 18:07:25.880052</td>\n",
       "      <td>s_95415</td>\n",
       "      <td>c_1232</td>\n",
       "      <td>19.85</td>\n",
       "      <td>0.0</td>\n",
       "      <td>f</td>\n",
       "      <td>1960</td>\n",
       "      <td>63</td>\n",
       "    </tr>\n",
       "    <tr>\n",
       "      <th>679109</th>\n",
       "      <td>2_205</td>\n",
       "      <td>2021-03-11 00:11:32.016264</td>\n",
       "      <td>s_4605</td>\n",
       "      <td>c_7534</td>\n",
       "      <td>100.99</td>\n",
       "      <td>2.0</td>\n",
       "      <td>m</td>\n",
       "      <td>1992</td>\n",
       "      <td>31</td>\n",
       "    </tr>\n",
       "    <tr>\n",
       "      <th>679110</th>\n",
       "      <td>2_205</td>\n",
       "      <td>2022-07-11 00:11:32.016264</td>\n",
       "      <td>s_236636</td>\n",
       "      <td>c_7534</td>\n",
       "      <td>100.99</td>\n",
       "      <td>2.0</td>\n",
       "      <td>m</td>\n",
       "      <td>1992</td>\n",
       "      <td>31</td>\n",
       "    </tr>\n",
       "  </tbody>\n",
       "</table>\n",
       "<p>679111 rows × 9 columns</p>\n",
       "</div>"
      ],
      "text/plain": [
       "       id_prod                       date session_id client_id   price  categ  \\\n",
       "0       0_1518 2022-05-20 13:21:29.043970   s_211425     c_103    4.18    0.0   \n",
       "1       0_1518 2021-07-20 13:21:29.043970    s_64849     c_103    4.18    0.0   \n",
       "2       0_1518 2022-08-20 13:21:29.043970   s_255965     c_103    4.18    0.0   \n",
       "3       0_1418 2022-06-18 01:49:37.823274   s_225411     c_103    8.57    0.0   \n",
       "4       0_1418 2021-08-18 01:49:37.823274    s_77214     c_103    8.57    0.0   \n",
       "...        ...                        ...        ...       ...     ...    ...   \n",
       "679106   2_147 2021-07-23 07:01:38.963669    s_65994    c_4391  181.99    2.0   \n",
       "679107   0_142 2022-03-25 18:07:25.880052   s_184472    c_1232   19.85    0.0   \n",
       "679108   0_142 2021-09-25 18:07:25.880052    s_95415    c_1232   19.85    0.0   \n",
       "679109   2_205 2021-03-11 00:11:32.016264     s_4605    c_7534  100.99    2.0   \n",
       "679110   2_205 2022-07-11 00:11:32.016264   s_236636    c_7534  100.99    2.0   \n",
       "\n",
       "       sex  birth  age  \n",
       "0        f   1986   37  \n",
       "1        f   1986   37  \n",
       "2        f   1986   37  \n",
       "3        f   1986   37  \n",
       "4        f   1986   37  \n",
       "...     ..    ...  ...  \n",
       "679106   f   2001   22  \n",
       "679107   f   1960   63  \n",
       "679108   f   1960   63  \n",
       "679109   m   1992   31  \n",
       "679110   m   1992   31  \n",
       "\n",
       "[679111 rows x 9 columns]"
      ]
     },
     "execution_count": 73,
     "metadata": {},
     "output_type": "execute_result"
    }
   ],
   "source": [
    "df_global"
   ]
  },
  {
   "cell_type": "code",
   "execution_count": 74,
   "id": "dc93c89a",
   "metadata": {
    "scrolled": true
   },
   "outputs": [
    {
     "data": {
      "text/html": [
       "<div>\n",
       "<style scoped>\n",
       "    .dataframe tbody tr th:only-of-type {\n",
       "        vertical-align: middle;\n",
       "    }\n",
       "\n",
       "    .dataframe tbody tr th {\n",
       "        vertical-align: top;\n",
       "    }\n",
       "\n",
       "    .dataframe thead th {\n",
       "        text-align: right;\n",
       "    }\n",
       "</style>\n",
       "<table border=\"1\" class=\"dataframe\">\n",
       "  <thead>\n",
       "    <tr style=\"text-align: right;\">\n",
       "      <th></th>\n",
       "      <th>price</th>\n",
       "    </tr>\n",
       "    <tr>\n",
       "      <th>date</th>\n",
       "      <th></th>\n",
       "    </tr>\n",
       "  </thead>\n",
       "  <tbody>\n",
       "    <tr>\n",
       "      <th>2022-05-20 13:21:29.043970</th>\n",
       "      <td>4.18</td>\n",
       "    </tr>\n",
       "    <tr>\n",
       "      <th>2021-07-20 13:21:29.043970</th>\n",
       "      <td>4.18</td>\n",
       "    </tr>\n",
       "    <tr>\n",
       "      <th>2022-08-20 13:21:29.043970</th>\n",
       "      <td>4.18</td>\n",
       "    </tr>\n",
       "    <tr>\n",
       "      <th>2022-06-18 01:49:37.823274</th>\n",
       "      <td>8.57</td>\n",
       "    </tr>\n",
       "    <tr>\n",
       "      <th>2021-08-18 01:49:37.823274</th>\n",
       "      <td>8.57</td>\n",
       "    </tr>\n",
       "    <tr>\n",
       "      <th>...</th>\n",
       "      <td>...</td>\n",
       "    </tr>\n",
       "    <tr>\n",
       "      <th>2021-07-23 07:01:38.963669</th>\n",
       "      <td>181.99</td>\n",
       "    </tr>\n",
       "    <tr>\n",
       "      <th>2022-03-25 18:07:25.880052</th>\n",
       "      <td>19.85</td>\n",
       "    </tr>\n",
       "    <tr>\n",
       "      <th>2021-09-25 18:07:25.880052</th>\n",
       "      <td>19.85</td>\n",
       "    </tr>\n",
       "    <tr>\n",
       "      <th>2021-03-11 00:11:32.016264</th>\n",
       "      <td>100.99</td>\n",
       "    </tr>\n",
       "    <tr>\n",
       "      <th>2022-07-11 00:11:32.016264</th>\n",
       "      <td>100.99</td>\n",
       "    </tr>\n",
       "  </tbody>\n",
       "</table>\n",
       "<p>679111 rows × 1 columns</p>\n",
       "</div>"
      ],
      "text/plain": [
       "                             price\n",
       "date                              \n",
       "2022-05-20 13:21:29.043970    4.18\n",
       "2021-07-20 13:21:29.043970    4.18\n",
       "2022-08-20 13:21:29.043970    4.18\n",
       "2022-06-18 01:49:37.823274    8.57\n",
       "2021-08-18 01:49:37.823274    8.57\n",
       "...                            ...\n",
       "2021-07-23 07:01:38.963669  181.99\n",
       "2022-03-25 18:07:25.880052   19.85\n",
       "2021-09-25 18:07:25.880052   19.85\n",
       "2021-03-11 00:11:32.016264  100.99\n",
       "2022-07-11 00:11:32.016264  100.99\n",
       "\n",
       "[679111 rows x 1 columns]"
      ]
     },
     "execution_count": 74,
     "metadata": {},
     "output_type": "execute_result"
    }
   ],
   "source": [
    "df_ca_analyse = df_global[[\"date\",\"price\"]]\n",
    "df_ca_analyse.set_index(\"date\",inplace=True)\n",
    "df_ca_analyse"
   ]
  },
  {
   "cell_type": "code",
   "execution_count": 75,
   "id": "fc3f0782",
   "metadata": {},
   "outputs": [
    {
     "data": {
      "text/plain": [
       "<AxesSubplot:title={'center':'CA total par année'}, xlabel='date'>"
      ]
     },
     "execution_count": 75,
     "metadata": {},
     "output_type": "execute_result"
    },
    {
     "data": {
      "image/png": "[encoded data removed]",
      "text/plain": [
       "<Figure size 432x288 with 1 Axes>"
      ]
     },
     "metadata": {
      "needs_background": "light"
     },
     "output_type": "display_data"
    }
   ],
   "source": [
    "df_ca_analyse[\"price\"].resample(\"Y\").sum().plot(title=\"CA total par année\")\n"
   ]
  },
  {
   "cell_type": "code",
   "execution_count": 76,
   "id": "86e2d6a3",
   "metadata": {},
   "outputs": [
    {
     "data": {
      "text/plain": [
       "<AxesSubplot:title={'center':'CA total par Mois'}, xlabel='date'>"
      ]
     },
     "execution_count": 76,
     "metadata": {},
     "output_type": "execute_result"
    },
    {
     "data": {
      "image/png": "[encoded data removed]",
      "text/plain": [
       "<Figure size 432x288 with 1 Axes>"
      ]
     },
     "metadata": {
      "needs_background": "light"
     },
     "output_type": "display_data"
    }
   ],
   "source": [
    "df_ca_analyse[\"price\"].resample(\"m\").sum().plot(title=\"CA total par Mois\")"
   ]
  },
  {
   "cell_type": "code",
   "execution_count": 77,
   "id": "2afd53aa",
   "metadata": {},
   "outputs": [
    {
     "data": {
      "text/plain": [
       "<AxesSubplot:xlabel='date'>"
      ]
     },
     "execution_count": 77,
     "metadata": {},
     "output_type": "execute_result"
    },
    {
     "data": {
      "image/png": "[encoded data removed]",
      "text/plain": [
       "<Figure size 432x288 with 1 Axes>"
      ]
     },
     "metadata": {
      "needs_background": "light"
     },
     "output_type": "display_data"
    }
   ],
   "source": [
    "df_transfert = pd.DataFrame(df_ca_analyse[\"price\"].resample(\"m\").sum())\n",
    "df_transfert['ca_m']= pd.DataFrame(df_transfert[\"price\"].rolling(window=3).mean())\n",
    "df_transfert.plot()"
   ]
  },
  {
   "cell_type": "code",
   "execution_count": 78,
   "id": "d17fc77e",
   "metadata": {
    "scrolled": true
   },
   "outputs": [
    {
     "data": {
      "text/plain": [
       "<AxesSubplot:xlabel='date'>"
      ]
     },
     "execution_count": 78,
     "metadata": {},
     "output_type": "execute_result"
    },
    {
     "data": {
      "image/png": "[encoded data removed]",
      "text/plain": [
       "<Figure size 1008x432 with 1 Axes>"
      ]
     },
     "metadata": {
      "needs_background": "light"
     },
     "output_type": "display_data"
    }
   ],
   "source": [
    "df_transfert = pd.DataFrame(df_ca_analyse[\"price\"].resample(\"d\").sum())\n",
    "df_transfert['ca_m']= pd.DataFrame(df_transfert[\"price\"].rolling(window=90).mean())\n",
    "df_transfert.plot(figsize=(14, 6))"
   ]
  },
  {
   "cell_type": "code",
   "execution_count": 79,
   "id": "707a88d6",
   "metadata": {},
   "outputs": [
    {
     "data": {
      "text/plain": [
       "<AxesSubplot:xlabel='date'>"
      ]
     },
     "execution_count": 79,
     "metadata": {},
     "output_type": "execute_result"
    },
    {
     "data": {
      "image/png": "[encoded data removed]",
      "text/plain": [
       "<Figure size 1008x432 with 1 Axes>"
      ]
     },
     "metadata": {
      "needs_background": "light"
     },
     "output_type": "display_data"
    }
   ],
   "source": [
    "df_transfert = pd.DataFrame(df_ca_analyse[\"price\"].resample(\"w\").sum())\n",
    "df_transfert['ca_m']= pd.DataFrame(df_transfert[\"price\"].rolling(window=12).mean())\n",
    "df_transfert.plot(figsize=(14, 6))"
   ]
  },
  {
   "cell_type": "markdown",
   "id": "bd45158c",
   "metadata": {},
   "source": [
    "On remarque une hausse de la moyenne mobile tri-mensuelle aux alentours de janvier jusqu'en juin, il semblerait que ce soit la periode la plus propice à la vente de livres"
   ]
  },
  {
   "cell_type": "code",
   "execution_count": 80,
   "id": "7f2adf72",
   "metadata": {},
   "outputs": [
    {
     "data": {
      "text/html": [
       "<div>\n",
       "<style scoped>\n",
       "    .dataframe tbody tr th:only-of-type {\n",
       "        vertical-align: middle;\n",
       "    }\n",
       "\n",
       "    .dataframe tbody tr th {\n",
       "        vertical-align: top;\n",
       "    }\n",
       "\n",
       "    .dataframe thead th {\n",
       "        text-align: right;\n",
       "    }\n",
       "</style>\n",
       "<table border=\"1\" class=\"dataframe\">\n",
       "  <thead>\n",
       "    <tr style=\"text-align: right;\">\n",
       "      <th></th>\n",
       "      <th>id_prod</th>\n",
       "      <th>date</th>\n",
       "      <th>session_id</th>\n",
       "      <th>client_id</th>\n",
       "      <th>price</th>\n",
       "      <th>categ</th>\n",
       "      <th>sex</th>\n",
       "      <th>birth</th>\n",
       "      <th>age</th>\n",
       "    </tr>\n",
       "  </thead>\n",
       "  <tbody>\n",
       "    <tr>\n",
       "      <th>0</th>\n",
       "      <td>0_1518</td>\n",
       "      <td>2022-05-20 13:21:29.043970</td>\n",
       "      <td>s_211425</td>\n",
       "      <td>c_103</td>\n",
       "      <td>4.18</td>\n",
       "      <td>0.0</td>\n",
       "      <td>f</td>\n",
       "      <td>1986</td>\n",
       "      <td>37</td>\n",
       "    </tr>\n",
       "    <tr>\n",
       "      <th>1</th>\n",
       "      <td>0_1518</td>\n",
       "      <td>2021-07-20 13:21:29.043970</td>\n",
       "      <td>s_64849</td>\n",
       "      <td>c_103</td>\n",
       "      <td>4.18</td>\n",
       "      <td>0.0</td>\n",
       "      <td>f</td>\n",
       "      <td>1986</td>\n",
       "      <td>37</td>\n",
       "    </tr>\n",
       "    <tr>\n",
       "      <th>2</th>\n",
       "      <td>0_1518</td>\n",
       "      <td>2022-08-20 13:21:29.043970</td>\n",
       "      <td>s_255965</td>\n",
       "      <td>c_103</td>\n",
       "      <td>4.18</td>\n",
       "      <td>0.0</td>\n",
       "      <td>f</td>\n",
       "      <td>1986</td>\n",
       "      <td>37</td>\n",
       "    </tr>\n",
       "    <tr>\n",
       "      <th>3</th>\n",
       "      <td>0_1418</td>\n",
       "      <td>2022-06-18 01:49:37.823274</td>\n",
       "      <td>s_225411</td>\n",
       "      <td>c_103</td>\n",
       "      <td>8.57</td>\n",
       "      <td>0.0</td>\n",
       "      <td>f</td>\n",
       "      <td>1986</td>\n",
       "      <td>37</td>\n",
       "    </tr>\n",
       "    <tr>\n",
       "      <th>4</th>\n",
       "      <td>0_1418</td>\n",
       "      <td>2021-08-18 01:49:37.823274</td>\n",
       "      <td>s_77214</td>\n",
       "      <td>c_103</td>\n",
       "      <td>8.57</td>\n",
       "      <td>0.0</td>\n",
       "      <td>f</td>\n",
       "      <td>1986</td>\n",
       "      <td>37</td>\n",
       "    </tr>\n",
       "    <tr>\n",
       "      <th>...</th>\n",
       "      <td>...</td>\n",
       "      <td>...</td>\n",
       "      <td>...</td>\n",
       "      <td>...</td>\n",
       "      <td>...</td>\n",
       "      <td>...</td>\n",
       "      <td>...</td>\n",
       "      <td>...</td>\n",
       "      <td>...</td>\n",
       "    </tr>\n",
       "    <tr>\n",
       "      <th>679106</th>\n",
       "      <td>2_147</td>\n",
       "      <td>2021-07-23 07:01:38.963669</td>\n",
       "      <td>s_65994</td>\n",
       "      <td>c_4391</td>\n",
       "      <td>181.99</td>\n",
       "      <td>2.0</td>\n",
       "      <td>f</td>\n",
       "      <td>2001</td>\n",
       "      <td>22</td>\n",
       "    </tr>\n",
       "    <tr>\n",
       "      <th>679107</th>\n",
       "      <td>0_142</td>\n",
       "      <td>2022-03-25 18:07:25.880052</td>\n",
       "      <td>s_184472</td>\n",
       "      <td>c_1232</td>\n",
       "      <td>19.85</td>\n",
       "      <td>0.0</td>\n",
       "      <td>f</td>\n",
       "      <td>1960</td>\n",
       "      <td>63</td>\n",
       "    </tr>\n",
       "    <tr>\n",
       "      <th>679108</th>\n",
       "      <td>0_142</td>\n",
       "      <td>2021-09-25 18:07:25.880052</td>\n",
       "      <td>s_95415</td>\n",
       "      <td>c_1232</td>\n",
       "      <td>19.85</td>\n",
       "      <td>0.0</td>\n",
       "      <td>f</td>\n",
       "      <td>1960</td>\n",
       "      <td>63</td>\n",
       "    </tr>\n",
       "    <tr>\n",
       "      <th>679109</th>\n",
       "      <td>2_205</td>\n",
       "      <td>2021-03-11 00:11:32.016264</td>\n",
       "      <td>s_4605</td>\n",
       "      <td>c_7534</td>\n",
       "      <td>100.99</td>\n",
       "      <td>2.0</td>\n",
       "      <td>m</td>\n",
       "      <td>1992</td>\n",
       "      <td>31</td>\n",
       "    </tr>\n",
       "    <tr>\n",
       "      <th>679110</th>\n",
       "      <td>2_205</td>\n",
       "      <td>2022-07-11 00:11:32.016264</td>\n",
       "      <td>s_236636</td>\n",
       "      <td>c_7534</td>\n",
       "      <td>100.99</td>\n",
       "      <td>2.0</td>\n",
       "      <td>m</td>\n",
       "      <td>1992</td>\n",
       "      <td>31</td>\n",
       "    </tr>\n",
       "  </tbody>\n",
       "</table>\n",
       "<p>679111 rows × 9 columns</p>\n",
       "</div>"
      ],
      "text/plain": [
       "       id_prod                       date session_id client_id   price  categ  \\\n",
       "0       0_1518 2022-05-20 13:21:29.043970   s_211425     c_103    4.18    0.0   \n",
       "1       0_1518 2021-07-20 13:21:29.043970    s_64849     c_103    4.18    0.0   \n",
       "2       0_1518 2022-08-20 13:21:29.043970   s_255965     c_103    4.18    0.0   \n",
       "3       0_1418 2022-06-18 01:49:37.823274   s_225411     c_103    8.57    0.0   \n",
       "4       0_1418 2021-08-18 01:49:37.823274    s_77214     c_103    8.57    0.0   \n",
       "...        ...                        ...        ...       ...     ...    ...   \n",
       "679106   2_147 2021-07-23 07:01:38.963669    s_65994    c_4391  181.99    2.0   \n",
       "679107   0_142 2022-03-25 18:07:25.880052   s_184472    c_1232   19.85    0.0   \n",
       "679108   0_142 2021-09-25 18:07:25.880052    s_95415    c_1232   19.85    0.0   \n",
       "679109   2_205 2021-03-11 00:11:32.016264     s_4605    c_7534  100.99    2.0   \n",
       "679110   2_205 2022-07-11 00:11:32.016264   s_236636    c_7534  100.99    2.0   \n",
       "\n",
       "       sex  birth  age  \n",
       "0        f   1986   37  \n",
       "1        f   1986   37  \n",
       "2        f   1986   37  \n",
       "3        f   1986   37  \n",
       "4        f   1986   37  \n",
       "...     ..    ...  ...  \n",
       "679106   f   2001   22  \n",
       "679107   f   1960   63  \n",
       "679108   f   1960   63  \n",
       "679109   m   1992   31  \n",
       "679110   m   1992   31  \n",
       "\n",
       "[679111 rows x 9 columns]"
      ]
     },
     "execution_count": 80,
     "metadata": {},
     "output_type": "execute_result"
    }
   ],
   "source": [
    "df_global\n"
   ]
  },
  {
   "cell_type": "markdown",
   "id": "c2faffbb",
   "metadata": {},
   "source": [
    "## Recherche de corrélations Statistiques <a class=\"anchor\" id=\"Section_2_8\"></a>"
   ]
  },
  {
   "cell_type": "markdown",
   "id": "7801cda9",
   "metadata": {},
   "source": [
    " Correlation entre le genre du client et la catégorie de livres achetés"
   ]
  },
  {
   "cell_type": "code",
   "execution_count": 81,
   "id": "5fff4a67",
   "metadata": {},
   "outputs": [
    {
     "name": "stdout",
     "output_type": "stream",
     "text": [
      "contingency_table :-\n",
      " categ     0.0     1.0    2.0\n",
      "sex                         \n",
      "f      206103  114899  17283\n",
      "m      209356  112270  19200\n"
     ]
    }
   ],
   "source": [
    "contingency_table=pd.crosstab(df_global['sex'],df_global['categ'])\n",
    "print('contingency_table :-\\n',contingency_table)"
   ]
  },
  {
   "cell_type": "code",
   "execution_count": 82,
   "id": "1eacfd51",
   "metadata": {
    "scrolled": false
   },
   "outputs": [
    {
     "data": {
      "text/plain": [
       "<AxesSubplot:ylabel='categ'>"
      ]
     },
     "execution_count": 82,
     "metadata": {},
     "output_type": "execute_result"
    },
    {
     "data": {
      "image/png": "[encoded data removed]",
      "text/plain": [
       "<Figure size 432x288 with 1 Axes>"
      ]
     },
     "metadata": {
      "needs_background": "light"
     },
     "output_type": "display_data"
    }
   ],
   "source": [
    "contingency_table.T.plot(kind='barh', ylabel='frequence')\n"
   ]
  },
  {
   "cell_type": "code",
   "execution_count": 83,
   "id": "2bd68e27",
   "metadata": {
    "scrolled": true
   },
   "outputs": [
    {
     "name": "stdout",
     "output_type": "stream",
     "text": [
      "1.1310980597090762e-32\n"
     ]
    }
   ],
   "source": [
    "# Chi-square test of independence. \n",
    "c, p, dof, expected = chi2_contingency(contingency_table) \n",
    "# Print the p-value\n",
    "print(p)"
   ]
  },
  {
   "cell_type": "markdown",
   "id": "f920503d",
   "metadata": {},
   "source": [
    "La p-value possede une valeur très basse donc on rejette H0, La corrélation existe mais n'est pas suffisante pour dire que les catégorie sont spécifique au genre"
   ]
  },
  {
   "cell_type": "markdown",
   "id": "b3e6fc96",
   "metadata": {},
   "source": [
    "## Recherche de corrélation entre l'age et le chiffre d'affaire <a class=\"anchor\" id=\"Section_2_9\"></a>"
   ]
  },
  {
   "cell_type": "code",
   "execution_count": 84,
   "id": "bda211d2",
   "metadata": {},
   "outputs": [
    {
     "data": {
      "text/html": [
       "<div>\n",
       "<style scoped>\n",
       "    .dataframe tbody tr th:only-of-type {\n",
       "        vertical-align: middle;\n",
       "    }\n",
       "\n",
       "    .dataframe tbody tr th {\n",
       "        vertical-align: top;\n",
       "    }\n",
       "\n",
       "    .dataframe thead th {\n",
       "        text-align: right;\n",
       "    }\n",
       "</style>\n",
       "<table border=\"1\" class=\"dataframe\">\n",
       "  <thead>\n",
       "    <tr style=\"text-align: right;\">\n",
       "      <th></th>\n",
       "      <th>price</th>\n",
       "    </tr>\n",
       "    <tr>\n",
       "      <th>age</th>\n",
       "      <th></th>\n",
       "    </tr>\n",
       "  </thead>\n",
       "  <tbody>\n",
       "    <tr>\n",
       "      <th>43</th>\n",
       "      <td>613614.58</td>\n",
       "    </tr>\n",
       "    <tr>\n",
       "      <th>19</th>\n",
       "      <td>609013.69</td>\n",
       "    </tr>\n",
       "    <tr>\n",
       "      <th>24</th>\n",
       "      <td>489497.54</td>\n",
       "    </tr>\n",
       "    <tr>\n",
       "      <th>44</th>\n",
       "      <td>334267.72</td>\n",
       "    </tr>\n",
       "    <tr>\n",
       "      <th>35</th>\n",
       "      <td>330760.73</td>\n",
       "    </tr>\n",
       "    <tr>\n",
       "      <th>...</th>\n",
       "      <td>...</td>\n",
       "    </tr>\n",
       "    <tr>\n",
       "      <th>91</th>\n",
       "      <td>5043.19</td>\n",
       "    </tr>\n",
       "    <tr>\n",
       "      <th>88</th>\n",
       "      <td>4793.55</td>\n",
       "    </tr>\n",
       "    <tr>\n",
       "      <th>93</th>\n",
       "      <td>4013.87</td>\n",
       "    </tr>\n",
       "    <tr>\n",
       "      <th>94</th>\n",
       "      <td>3221.85</td>\n",
       "    </tr>\n",
       "    <tr>\n",
       "      <th>92</th>\n",
       "      <td>2815.45</td>\n",
       "    </tr>\n",
       "  </tbody>\n",
       "</table>\n",
       "<p>76 rows × 1 columns</p>\n",
       "</div>"
      ],
      "text/plain": [
       "         price\n",
       "age           \n",
       "43   613614.58\n",
       "19   609013.69\n",
       "24   489497.54\n",
       "44   334267.72\n",
       "35   330760.73\n",
       "..         ...\n",
       "91     5043.19\n",
       "88     4793.55\n",
       "93     4013.87\n",
       "94     3221.85\n",
       "92     2815.45\n",
       "\n",
       "[76 rows x 1 columns]"
      ]
     },
     "execution_count": 84,
     "metadata": {},
     "output_type": "execute_result"
    }
   ],
   "source": [
    "CA_per_Age = pd.DataFrame(df_global[df_global[\"price\"] < 10000].groupby(by=\"age\")[\"price\"].sum()).sort_values(by='price',ascending = False)\n",
    "CA_per_Age"
   ]
  },
  {
   "cell_type": "code",
   "execution_count": 85,
   "id": "2b1a1c97",
   "metadata": {},
   "outputs": [
    {
     "data": {
      "text/plain": [
       "<AxesSubplot:xlabel='age', ylabel='price'>"
      ]
     },
     "execution_count": 85,
     "metadata": {},
     "output_type": "execute_result"
    },
    {
     "data": {
      "image/png": "[encoded data removed]",
      "text/plain": [
       "<Figure size 432x288 with 1 Axes>"
      ]
     },
     "metadata": {
      "needs_background": "light"
     },
     "output_type": "display_data"
    }
   ],
   "source": [
    "CA_per_Age = CA_per_Age.reset_index()\n",
    "CA_per_Age.plot.scatter(y = 'price', x =\"age\" )"
   ]
  },
  {
   "cell_type": "markdown",
   "id": "9c819961",
   "metadata": {},
   "source": [
    "H0 : Pas de corrélation entre l'age et le Chiffre d'affaire \n",
    "H1 : Il y a une corrélation entre l'age et le chiffre d'affaire"
   ]
  },
  {
   "cell_type": "code",
   "execution_count": 86,
   "id": "679b9e70",
   "metadata": {},
   "outputs": [
    {
     "name": "stdout",
     "output_type": "stream",
     "text": [
      "0.0\n",
      "reject null hypothesis\n"
     ]
    }
   ],
   "source": [
    "r,p=pearsonr(df_global['price'],df_global['age'])\n",
    "print(p)\n",
    "if p<0.05:\n",
    "    print(\"reject null hypothesis\")\n",
    "else:\n",
    "    print(\"accept null hypothesis\")\n",
    "    "
   ]
  },
  {
   "cell_type": "markdown",
   "id": "19ce72fa",
   "metadata": {},
   "source": [
    "Il y a une correlation puisque le p valeur est inférieure a 0.05"
   ]
  },
  {
   "cell_type": "code",
   "execution_count": 87,
   "id": "aa21db6e",
   "metadata": {},
   "outputs": [
    {
     "name": "stdout",
     "output_type": "stream",
     "text": [
      "[[ 1.         -0.20946478]\n",
      " [-0.20946478  1.        ]]\n"
     ]
    }
   ],
   "source": [
    "my_rho = np.corrcoef(df_global['price'],df_global['age'])\n",
    "\n",
    "print(my_rho)"
   ]
  },
  {
   "cell_type": "markdown",
   "id": "11f67ff6",
   "metadata": {},
   "source": [
    "On a ici un coefficient de correlation négatif"
   ]
  },
  {
   "cell_type": "markdown",
   "id": "3e4875e7",
   "metadata": {},
   "source": [
    "Correlation Age frequence d'achat "
   ]
  },
  {
   "cell_type": "code",
   "execution_count": 88,
   "id": "01026064",
   "metadata": {
    "scrolled": false
   },
   "outputs": [
    {
     "data": {
      "text/html": [
       "<div>\n",
       "<style scoped>\n",
       "    .dataframe tbody tr th:only-of-type {\n",
       "        vertical-align: middle;\n",
       "    }\n",
       "\n",
       "    .dataframe tbody tr th {\n",
       "        vertical-align: top;\n",
       "    }\n",
       "\n",
       "    .dataframe thead th {\n",
       "        text-align: right;\n",
       "    }\n",
       "</style>\n",
       "<table border=\"1\" class=\"dataframe\">\n",
       "  <thead>\n",
       "    <tr style=\"text-align: right;\">\n",
       "      <th></th>\n",
       "      <th>id_prod</th>\n",
       "      <th>date</th>\n",
       "      <th>session_id</th>\n",
       "      <th>client_id</th>\n",
       "      <th>price</th>\n",
       "      <th>categ</th>\n",
       "      <th>sex</th>\n",
       "      <th>birth</th>\n",
       "      <th>age</th>\n",
       "    </tr>\n",
       "  </thead>\n",
       "  <tbody>\n",
       "    <tr>\n",
       "      <th>0</th>\n",
       "      <td>0_1518</td>\n",
       "      <td>2022-05-20 13:21:29.043970</td>\n",
       "      <td>s_211425</td>\n",
       "      <td>c_103</td>\n",
       "      <td>4.18</td>\n",
       "      <td>0.0</td>\n",
       "      <td>f</td>\n",
       "      <td>1986</td>\n",
       "      <td>37</td>\n",
       "    </tr>\n",
       "    <tr>\n",
       "      <th>1</th>\n",
       "      <td>0_1518</td>\n",
       "      <td>2021-07-20 13:21:29.043970</td>\n",
       "      <td>s_64849</td>\n",
       "      <td>c_103</td>\n",
       "      <td>4.18</td>\n",
       "      <td>0.0</td>\n",
       "      <td>f</td>\n",
       "      <td>1986</td>\n",
       "      <td>37</td>\n",
       "    </tr>\n",
       "    <tr>\n",
       "      <th>2</th>\n",
       "      <td>0_1518</td>\n",
       "      <td>2022-08-20 13:21:29.043970</td>\n",
       "      <td>s_255965</td>\n",
       "      <td>c_103</td>\n",
       "      <td>4.18</td>\n",
       "      <td>0.0</td>\n",
       "      <td>f</td>\n",
       "      <td>1986</td>\n",
       "      <td>37</td>\n",
       "    </tr>\n",
       "    <tr>\n",
       "      <th>3</th>\n",
       "      <td>0_1418</td>\n",
       "      <td>2022-06-18 01:49:37.823274</td>\n",
       "      <td>s_225411</td>\n",
       "      <td>c_103</td>\n",
       "      <td>8.57</td>\n",
       "      <td>0.0</td>\n",
       "      <td>f</td>\n",
       "      <td>1986</td>\n",
       "      <td>37</td>\n",
       "    </tr>\n",
       "    <tr>\n",
       "      <th>4</th>\n",
       "      <td>0_1418</td>\n",
       "      <td>2021-08-18 01:49:37.823274</td>\n",
       "      <td>s_77214</td>\n",
       "      <td>c_103</td>\n",
       "      <td>8.57</td>\n",
       "      <td>0.0</td>\n",
       "      <td>f</td>\n",
       "      <td>1986</td>\n",
       "      <td>37</td>\n",
       "    </tr>\n",
       "    <tr>\n",
       "      <th>...</th>\n",
       "      <td>...</td>\n",
       "      <td>...</td>\n",
       "      <td>...</td>\n",
       "      <td>...</td>\n",
       "      <td>...</td>\n",
       "      <td>...</td>\n",
       "      <td>...</td>\n",
       "      <td>...</td>\n",
       "      <td>...</td>\n",
       "    </tr>\n",
       "    <tr>\n",
       "      <th>679106</th>\n",
       "      <td>2_147</td>\n",
       "      <td>2021-07-23 07:01:38.963669</td>\n",
       "      <td>s_65994</td>\n",
       "      <td>c_4391</td>\n",
       "      <td>181.99</td>\n",
       "      <td>2.0</td>\n",
       "      <td>f</td>\n",
       "      <td>2001</td>\n",
       "      <td>22</td>\n",
       "    </tr>\n",
       "    <tr>\n",
       "      <th>679107</th>\n",
       "      <td>0_142</td>\n",
       "      <td>2022-03-25 18:07:25.880052</td>\n",
       "      <td>s_184472</td>\n",
       "      <td>c_1232</td>\n",
       "      <td>19.85</td>\n",
       "      <td>0.0</td>\n",
       "      <td>f</td>\n",
       "      <td>1960</td>\n",
       "      <td>63</td>\n",
       "    </tr>\n",
       "    <tr>\n",
       "      <th>679108</th>\n",
       "      <td>0_142</td>\n",
       "      <td>2021-09-25 18:07:25.880052</td>\n",
       "      <td>s_95415</td>\n",
       "      <td>c_1232</td>\n",
       "      <td>19.85</td>\n",
       "      <td>0.0</td>\n",
       "      <td>f</td>\n",
       "      <td>1960</td>\n",
       "      <td>63</td>\n",
       "    </tr>\n",
       "    <tr>\n",
       "      <th>679109</th>\n",
       "      <td>2_205</td>\n",
       "      <td>2021-03-11 00:11:32.016264</td>\n",
       "      <td>s_4605</td>\n",
       "      <td>c_7534</td>\n",
       "      <td>100.99</td>\n",
       "      <td>2.0</td>\n",
       "      <td>m</td>\n",
       "      <td>1992</td>\n",
       "      <td>31</td>\n",
       "    </tr>\n",
       "    <tr>\n",
       "      <th>679110</th>\n",
       "      <td>2_205</td>\n",
       "      <td>2022-07-11 00:11:32.016264</td>\n",
       "      <td>s_236636</td>\n",
       "      <td>c_7534</td>\n",
       "      <td>100.99</td>\n",
       "      <td>2.0</td>\n",
       "      <td>m</td>\n",
       "      <td>1992</td>\n",
       "      <td>31</td>\n",
       "    </tr>\n",
       "  </tbody>\n",
       "</table>\n",
       "<p>679111 rows × 9 columns</p>\n",
       "</div>"
      ],
      "text/plain": [
       "       id_prod                       date session_id client_id   price  categ  \\\n",
       "0       0_1518 2022-05-20 13:21:29.043970   s_211425     c_103    4.18    0.0   \n",
       "1       0_1518 2021-07-20 13:21:29.043970    s_64849     c_103    4.18    0.0   \n",
       "2       0_1518 2022-08-20 13:21:29.043970   s_255965     c_103    4.18    0.0   \n",
       "3       0_1418 2022-06-18 01:49:37.823274   s_225411     c_103    8.57    0.0   \n",
       "4       0_1418 2021-08-18 01:49:37.823274    s_77214     c_103    8.57    0.0   \n",
       "...        ...                        ...        ...       ...     ...    ...   \n",
       "679106   2_147 2021-07-23 07:01:38.963669    s_65994    c_4391  181.99    2.0   \n",
       "679107   0_142 2022-03-25 18:07:25.880052   s_184472    c_1232   19.85    0.0   \n",
       "679108   0_142 2021-09-25 18:07:25.880052    s_95415    c_1232   19.85    0.0   \n",
       "679109   2_205 2021-03-11 00:11:32.016264     s_4605    c_7534  100.99    2.0   \n",
       "679110   2_205 2022-07-11 00:11:32.016264   s_236636    c_7534  100.99    2.0   \n",
       "\n",
       "       sex  birth  age  \n",
       "0        f   1986   37  \n",
       "1        f   1986   37  \n",
       "2        f   1986   37  \n",
       "3        f   1986   37  \n",
       "4        f   1986   37  \n",
       "...     ..    ...  ...  \n",
       "679106   f   2001   22  \n",
       "679107   f   1960   63  \n",
       "679108   f   1960   63  \n",
       "679109   m   1992   31  \n",
       "679110   m   1992   31  \n",
       "\n",
       "[679111 rows x 9 columns]"
      ]
     },
     "execution_count": 88,
     "metadata": {},
     "output_type": "execute_result"
    }
   ],
   "source": [
    "df_global"
   ]
  },
  {
   "cell_type": "markdown",
   "id": "6a4c4e3d",
   "metadata": {},
   "source": [
    "## Fréquence D'achats <a class=\"anchor\" id=\"Section_2_FA\"></a>"
   ]
  },
  {
   "cell_type": "code",
   "execution_count": 89,
   "id": "bbe368ef",
   "metadata": {},
   "outputs": [
    {
     "data": {
      "text/html": [
       "<div>\n",
       "<style scoped>\n",
       "    .dataframe tbody tr th:only-of-type {\n",
       "        vertical-align: middle;\n",
       "    }\n",
       "\n",
       "    .dataframe tbody tr th {\n",
       "        vertical-align: top;\n",
       "    }\n",
       "\n",
       "    .dataframe thead th {\n",
       "        text-align: right;\n",
       "    }\n",
       "</style>\n",
       "<table border=\"1\" class=\"dataframe\">\n",
       "  <thead>\n",
       "    <tr style=\"text-align: right;\">\n",
       "      <th></th>\n",
       "      <th>session_id</th>\n",
       "      <th>age</th>\n",
       "    </tr>\n",
       "  </thead>\n",
       "  <tbody>\n",
       "    <tr>\n",
       "      <th>0</th>\n",
       "      <td>s_1</td>\n",
       "      <td>56.0</td>\n",
       "    </tr>\n",
       "    <tr>\n",
       "      <th>1</th>\n",
       "      <td>s_10</td>\n",
       "      <td>53.0</td>\n",
       "    </tr>\n",
       "    <tr>\n",
       "      <th>2</th>\n",
       "      <td>s_100</td>\n",
       "      <td>45.0</td>\n",
       "    </tr>\n",
       "    <tr>\n",
       "      <th>3</th>\n",
       "      <td>s_1000</td>\n",
       "      <td>34.0</td>\n",
       "    </tr>\n",
       "    <tr>\n",
       "      <th>4</th>\n",
       "      <td>s_10000</td>\n",
       "      <td>34.0</td>\n",
       "    </tr>\n",
       "    <tr>\n",
       "      <th>...</th>\n",
       "      <td>...</td>\n",
       "      <td>...</td>\n",
       "    </tr>\n",
       "    <tr>\n",
       "      <th>342270</th>\n",
       "      <td>s_99994</td>\n",
       "      <td>40.0</td>\n",
       "    </tr>\n",
       "    <tr>\n",
       "      <th>342271</th>\n",
       "      <td>s_99995</td>\n",
       "      <td>63.0</td>\n",
       "    </tr>\n",
       "    <tr>\n",
       "      <th>342272</th>\n",
       "      <td>s_99996</td>\n",
       "      <td>49.0</td>\n",
       "    </tr>\n",
       "    <tr>\n",
       "      <th>342273</th>\n",
       "      <td>s_99997</td>\n",
       "      <td>44.0</td>\n",
       "    </tr>\n",
       "    <tr>\n",
       "      <th>342274</th>\n",
       "      <td>s_99998</td>\n",
       "      <td>45.0</td>\n",
       "    </tr>\n",
       "  </tbody>\n",
       "</table>\n",
       "<p>342275 rows × 2 columns</p>\n",
       "</div>"
      ],
      "text/plain": [
       "       session_id   age\n",
       "0             s_1  56.0\n",
       "1            s_10  53.0\n",
       "2           s_100  45.0\n",
       "3          s_1000  34.0\n",
       "4         s_10000  34.0\n",
       "...           ...   ...\n",
       "342270    s_99994  40.0\n",
       "342271    s_99995  63.0\n",
       "342272    s_99996  49.0\n",
       "342273    s_99997  44.0\n",
       "342274    s_99998  45.0\n",
       "\n",
       "[342275 rows x 2 columns]"
      ]
     },
     "execution_count": 89,
     "metadata": {},
     "output_type": "execute_result"
    }
   ],
   "source": [
    "FA_per_Age = pd.DataFrame(df_global)\n",
    "#FA_per_Age#.reset_index()\n",
    "#FA_per_Age = pd.DataFrame(df_global.groupby(by=\"session_id\")[\"price\"].sum())\n",
    "#FA_per_Age.reset_index(inplace = True)\n",
    "FA_per_Age = pd.DataFrame(df_global.groupby(by=\"session_id\")[\"age\"].mean())\n",
    "FA_per_Age.reset_index(inplace = True)\n",
    "FA_per_Age\n"
   ]
  },
  {
   "cell_type": "code",
   "execution_count": 90,
   "id": "8194e0f2",
   "metadata": {},
   "outputs": [
    {
     "data": {
      "text/html": [
       "<div>\n",
       "<style scoped>\n",
       "    .dataframe tbody tr th:only-of-type {\n",
       "        vertical-align: middle;\n",
       "    }\n",
       "\n",
       "    .dataframe tbody tr th {\n",
       "        vertical-align: top;\n",
       "    }\n",
       "\n",
       "    .dataframe thead th {\n",
       "        text-align: right;\n",
       "    }\n",
       "</style>\n",
       "<table border=\"1\" class=\"dataframe\">\n",
       "  <thead>\n",
       "    <tr style=\"text-align: right;\">\n",
       "      <th></th>\n",
       "      <th>session_id</th>\n",
       "    </tr>\n",
       "    <tr>\n",
       "      <th>age</th>\n",
       "      <th></th>\n",
       "    </tr>\n",
       "  </thead>\n",
       "  <tbody>\n",
       "    <tr>\n",
       "      <th>19.0</th>\n",
       "      <td>8594</td>\n",
       "    </tr>\n",
       "    <tr>\n",
       "      <th>20.0</th>\n",
       "      <td>2567</td>\n",
       "    </tr>\n",
       "    <tr>\n",
       "      <th>21.0</th>\n",
       "      <td>2604</td>\n",
       "    </tr>\n",
       "    <tr>\n",
       "      <th>22.0</th>\n",
       "      <td>2431</td>\n",
       "    </tr>\n",
       "    <tr>\n",
       "      <th>23.0</th>\n",
       "      <td>2421</td>\n",
       "    </tr>\n",
       "    <tr>\n",
       "      <th>...</th>\n",
       "      <td>...</td>\n",
       "    </tr>\n",
       "    <tr>\n",
       "      <th>90.0</th>\n",
       "      <td>233</td>\n",
       "    </tr>\n",
       "    <tr>\n",
       "      <th>91.0</th>\n",
       "      <td>206</td>\n",
       "    </tr>\n",
       "    <tr>\n",
       "      <th>92.0</th>\n",
       "      <td>96</td>\n",
       "    </tr>\n",
       "    <tr>\n",
       "      <th>93.0</th>\n",
       "      <td>146</td>\n",
       "    </tr>\n",
       "    <tr>\n",
       "      <th>94.0</th>\n",
       "      <td>134</td>\n",
       "    </tr>\n",
       "  </tbody>\n",
       "</table>\n",
       "<p>76 rows × 1 columns</p>\n",
       "</div>"
      ],
      "text/plain": [
       "      session_id\n",
       "age             \n",
       "19.0        8594\n",
       "20.0        2567\n",
       "21.0        2604\n",
       "22.0        2431\n",
       "23.0        2421\n",
       "...          ...\n",
       "90.0         233\n",
       "91.0         206\n",
       "92.0          96\n",
       "93.0         146\n",
       "94.0         134\n",
       "\n",
       "[76 rows x 1 columns]"
      ]
     },
     "execution_count": 90,
     "metadata": {},
     "output_type": "execute_result"
    }
   ],
   "source": [
    "FA_per_Age = pd.DataFrame(FA_per_Age.groupby(by=\"age\")[\"session_id\"].count())\n",
    "FA_per_Age"
   ]
  },
  {
   "cell_type": "code",
   "execution_count": 91,
   "id": "510d42b3",
   "metadata": {
    "scrolled": true
   },
   "outputs": [
    {
     "data": {
      "text/plain": [
       "<AxesSubplot:xlabel='age', ylabel='session_id'>"
      ]
     },
     "execution_count": 91,
     "metadata": {},
     "output_type": "execute_result"
    },
    {
     "data": {
      "image/png": "[encoded data removed]",
      "text/plain": [
       "<Figure size 432x288 with 1 Axes>"
      ]
     },
     "metadata": {
      "needs_background": "light"
     },
     "output_type": "display_data"
    }
   ],
   "source": [
    "FA_per_Age = FA_per_Age.reset_index()\n",
    "FA_per_Age.plot.scatter(y = 'session_id', x =\"age\" )"
   ]
  },
  {
   "cell_type": "code",
   "execution_count": 92,
   "id": "00f2d28a",
   "metadata": {
    "scrolled": false
   },
   "outputs": [
    {
     "name": "stdout",
     "output_type": "stream",
     "text": [
      "2.2340386932316515e-07\n",
      "reject null hypothesis\n"
     ]
    }
   ],
   "source": [
    "r,p=pearsonr(FA_per_Age['session_id'],FA_per_Age['age'])\n",
    "print(p)\n",
    "if p<0.05:\n",
    "    print(\"reject null hypothesis\")\n",
    "else:\n",
    "    print(\"accept null hypothesis\")\n",
    "    "
   ]
  },
  {
   "cell_type": "markdown",
   "id": "751ad961",
   "metadata": {},
   "source": []
  },
  {
   "cell_type": "markdown",
   "id": "7245e890",
   "metadata": {},
   "source": [
    "## Correlation entre l'age et la taille du panier moyen <a class=\"anchor\" id=\"Section_2_10\"></a>"
   ]
  },
  {
   "cell_type": "code",
   "execution_count": 93,
   "id": "90d1f0bf",
   "metadata": {},
   "outputs": [
    {
     "data": {
      "text/plain": [
       "age\n",
       "19    70.864986\n",
       "20    69.417912\n",
       "21    70.728629\n",
       "22    73.425627\n",
       "23    68.156952\n",
       "        ...    \n",
       "90    22.550858\n",
       "91    24.481505\n",
       "92    29.327604\n",
       "93    27.492260\n",
       "94    24.043657\n",
       "Name: price, Length: 76, dtype: float64"
      ]
     },
     "execution_count": 93,
     "metadata": {},
     "output_type": "execute_result"
    }
   ],
   "source": [
    "#Panier_per_Age = pd.DataFrame(df_global[df_global[\"price\"] < 10000].groupby(by=\"session_id\")[\"price\"].count()).sort_values(by='price',ascending = False)\n",
    "#Panier_per_Age\n",
    "\n",
    "panier_global = pd.DataFrame(df_global[df_global[\"price\"] < 1000].groupby([\"age\",\"session_id\"])[\"price\"].sum())\n",
    "panier_global.reset_index(inplace = True)\n",
    "Panier_moyen_par_age = panier_global.groupby([\"age\"])[\"price\"].mean()\n",
    "Panier_moyen_par_age"
   ]
  },
  {
   "cell_type": "code",
   "execution_count": 94,
   "id": "4edcde53",
   "metadata": {
    "scrolled": true
   },
   "outputs": [
    {
     "data": {
      "text/html": [
       "<div>\n",
       "<style scoped>\n",
       "    .dataframe tbody tr th:only-of-type {\n",
       "        vertical-align: middle;\n",
       "    }\n",
       "\n",
       "    .dataframe tbody tr th {\n",
       "        vertical-align: top;\n",
       "    }\n",
       "\n",
       "    .dataframe thead th {\n",
       "        text-align: right;\n",
       "    }\n",
       "</style>\n",
       "<table border=\"1\" class=\"dataframe\">\n",
       "  <thead>\n",
       "    <tr style=\"text-align: right;\">\n",
       "      <th></th>\n",
       "      <th>age</th>\n",
       "      <th>price</th>\n",
       "    </tr>\n",
       "  </thead>\n",
       "  <tbody>\n",
       "    <tr>\n",
       "      <th>0</th>\n",
       "      <td>19</td>\n",
       "      <td>70.864986</td>\n",
       "    </tr>\n",
       "    <tr>\n",
       "      <th>1</th>\n",
       "      <td>20</td>\n",
       "      <td>69.417912</td>\n",
       "    </tr>\n",
       "    <tr>\n",
       "      <th>2</th>\n",
       "      <td>21</td>\n",
       "      <td>70.728629</td>\n",
       "    </tr>\n",
       "    <tr>\n",
       "      <th>3</th>\n",
       "      <td>22</td>\n",
       "      <td>73.425627</td>\n",
       "    </tr>\n",
       "    <tr>\n",
       "      <th>4</th>\n",
       "      <td>23</td>\n",
       "      <td>68.156952</td>\n",
       "    </tr>\n",
       "    <tr>\n",
       "      <th>...</th>\n",
       "      <td>...</td>\n",
       "      <td>...</td>\n",
       "    </tr>\n",
       "    <tr>\n",
       "      <th>71</th>\n",
       "      <td>90</td>\n",
       "      <td>22.550858</td>\n",
       "    </tr>\n",
       "    <tr>\n",
       "      <th>72</th>\n",
       "      <td>91</td>\n",
       "      <td>24.481505</td>\n",
       "    </tr>\n",
       "    <tr>\n",
       "      <th>73</th>\n",
       "      <td>92</td>\n",
       "      <td>29.327604</td>\n",
       "    </tr>\n",
       "    <tr>\n",
       "      <th>74</th>\n",
       "      <td>93</td>\n",
       "      <td>27.492260</td>\n",
       "    </tr>\n",
       "    <tr>\n",
       "      <th>75</th>\n",
       "      <td>94</td>\n",
       "      <td>24.043657</td>\n",
       "    </tr>\n",
       "  </tbody>\n",
       "</table>\n",
       "<p>76 rows × 2 columns</p>\n",
       "</div>"
      ],
      "text/plain": [
       "    age      price\n",
       "0    19  70.864986\n",
       "1    20  69.417912\n",
       "2    21  70.728629\n",
       "3    22  73.425627\n",
       "4    23  68.156952\n",
       "..  ...        ...\n",
       "71   90  22.550858\n",
       "72   91  24.481505\n",
       "73   92  29.327604\n",
       "74   93  27.492260\n",
       "75   94  24.043657\n",
       "\n",
       "[76 rows x 2 columns]"
      ]
     },
     "execution_count": 94,
     "metadata": {},
     "output_type": "execute_result"
    }
   ],
   "source": [
    "Panier_moyen_par_age = pd.DataFrame(Panier_moyen_par_age)\n",
    "Panier_moyen_par_age.reset_index(inplace = True)\n",
    "Panier_moyen_par_age"
   ]
  },
  {
   "cell_type": "code",
   "execution_count": 95,
   "id": "da44db43",
   "metadata": {},
   "outputs": [
    {
     "data": {
      "text/plain": [
       "<AxesSubplot:xlabel='age', ylabel='price'>"
      ]
     },
     "execution_count": 95,
     "metadata": {},
     "output_type": "execute_result"
    },
    {
     "data": {
      "image/png": "[encoded data removed]",
      "text/plain": [
       "<Figure size 432x288 with 1 Axes>"
      ]
     },
     "metadata": {
      "needs_background": "light"
     },
     "output_type": "display_data"
    }
   ],
   "source": [
    "Panier_moyen_par_age.plot.scatter(x='age',y='price')"
   ]
  },
  {
   "cell_type": "markdown",
   "id": "4c7c6d70",
   "metadata": {},
   "source": [
    "h0: hypothèse null , pas de corrélation\n",
    "h1: Il y a une corrélation "
   ]
  },
  {
   "cell_type": "code",
   "execution_count": 96,
   "id": "d5d44756",
   "metadata": {
    "scrolled": true
   },
   "outputs": [
    {
     "name": "stdout",
     "output_type": "stream",
     "text": [
      "1.0535124224262495e-14\n"
     ]
    }
   ],
   "source": [
    "r,p=pearsonr(Panier_moyen_par_age['age'],Panier_moyen_par_age['price'])\n",
    "print(p)"
   ]
  },
  {
   "cell_type": "markdown",
   "id": "e001988c",
   "metadata": {},
   "source": [
    "La p Value est inférieure à 0.05 donc on rejette h0, l'hypothèse null"
   ]
  },
  {
   "cell_type": "markdown",
   "id": "933b077d",
   "metadata": {},
   "source": [
    "Il y a donc une corrélation entre l'age et le Panier moyen par age."
   ]
  },
  {
   "cell_type": "markdown",
   "id": "aeac4975",
   "metadata": {},
   "source": [
    "## Categorie de livre achetés par age <a class=\"anchor\" id=\"Section_2_11\"></a>\n"
   ]
  },
  {
   "cell_type": "markdown",
   "id": "cd398b67",
   "metadata": {},
   "source": [
    "On va effectuer un test de normalité afin de vérifier que les données suivent bien une loi de distribution normale"
   ]
  },
  {
   "cell_type": "markdown",
   "id": "7db083e2",
   "metadata": {},
   "source": [
    "### Test de Shapiro\n"
   ]
  },
  {
   "cell_type": "raw",
   "id": "71270042",
   "metadata": {},
   "source": [
    "h0: Les données (age) suivent une distribution normale"
   ]
  },
  {
   "cell_type": "raw",
   "id": "1bd6b1ef",
   "metadata": {},
   "source": [
    "h1: Les données (age) ne suivent pas une distribution normale"
   ]
  },
  {
   "cell_type": "code",
   "execution_count": 97,
   "id": "2ac63d06",
   "metadata": {},
   "outputs": [
    {
     "data": {
      "text/plain": [
       "<AxesSubplot:ylabel='Frequency'>"
      ]
     },
     "execution_count": 97,
     "metadata": {},
     "output_type": "execute_result"
    },
    {
     "data": {
      "image/png": "[encoded data removed]",
      "text/plain": [
       "<Figure size 432x288 with 1 Axes>"
      ]
     },
     "metadata": {
      "needs_background": "light"
     },
     "output_type": "display_data"
    }
   ],
   "source": [
    "df_global['age'].plot.hist(bins = 100)"
   ]
  },
  {
   "cell_type": "markdown",
   "id": "b9ab1eba",
   "metadata": {},
   "source": [
    "On va utiliser le test de Shapiro afin de vérifier la distribution"
   ]
  },
  {
   "cell_type": "code",
   "execution_count": 98,
   "id": "266cb8e5",
   "metadata": {
    "scrolled": true
   },
   "outputs": [
    {
     "data": {
      "text/plain": [
       "ShapiroResult(statistic=0.9742216467857361, pvalue=0.0)"
      ]
     },
     "execution_count": 98,
     "metadata": {},
     "output_type": "execute_result"
    }
   ],
   "source": [
    "shapiro(df_global['age'])"
   ]
  },
  {
   "cell_type": "markdown",
   "id": "04007866",
   "metadata": {},
   "source": [
    "On a une pvalue de 0 donc on rejette h0, la distribution des données ne suit pas une distribution normale"
   ]
  },
  {
   "cell_type": "markdown",
   "id": "a6eba12e",
   "metadata": {},
   "source": [
    "D’après le Théorème Central Limite, même si des données individuelles ne suivent pas une loi normale,\n",
    "une moyenne issue de ces données suivra, elle, une loi normale,\n",
    "à condition que l’échantillon collecté soit suffisamment grand."
   ]
  },
  {
   "cell_type": "markdown",
   "id": "c7f9ebea",
   "metadata": {},
   "source": [
    "On considère que l'echantillon est suffisament grand "
   ]
  },
  {
   "cell_type": "markdown",
   "id": "61a0fde1",
   "metadata": {},
   "source": [
    "### Test Anova"
   ]
  },
  {
   "cell_type": "markdown",
   "id": "3527e47a",
   "metadata": {},
   "source": [
    "h0: Pas de corrélation"
   ]
  },
  {
   "cell_type": "markdown",
   "id": "06bcf552",
   "metadata": {},
   "source": [
    "h1: Il y a corrélation"
   ]
  },
  {
   "cell_type": "code",
   "execution_count": 99,
   "id": "2bda0070",
   "metadata": {},
   "outputs": [
    {
     "name": "stdout",
     "output_type": "stream",
     "text": [
      "[0. 1. 2.]\n",
      "{0.0: 0         37\n",
      "1         37\n",
      "2         37\n",
      "3         37\n",
      "4         37\n",
      "          ..\n",
      "679081    63\n",
      "679082    63\n",
      "679102    53\n",
      "679107    63\n",
      "679108    63\n",
      "Name: age, Length: 415459, dtype: int64, 1.0: 8         37\n",
      "9         37\n",
      "10        37\n",
      "12        37\n",
      "13        37\n",
      "          ..\n",
      "679074    62\n",
      "679075    62\n",
      "679099    66\n",
      "679100    66\n",
      "679101    19\n",
      "Name: age, Length: 227169, dtype: int64, 2.0: 779       61\n",
      "780       61\n",
      "3834      45\n",
      "3835      45\n",
      "4329      52\n",
      "          ..\n",
      "679104    20\n",
      "679105    22\n",
      "679106    22\n",
      "679109    31\n",
      "679110    31\n",
      "Name: age, Length: 36483, dtype: int64}\n"
     ]
    }
   ],
   "source": [
    "#ANOVA (F-TEST) => Analyse de la variance\n",
    "\n",
    "grps = pd.unique(df_global.categ.values)\n",
    "print(grps)\n",
    "d_data = {grp:df_global['age'][df_global.categ == grp] for grp in grps}\n",
    "print(d_data) "
   ]
  },
  {
   "cell_type": "code",
   "execution_count": 100,
   "id": "dac55c53",
   "metadata": {
    "scrolled": true
   },
   "outputs": [
    {
     "name": "stdout",
     "output_type": "stream",
     "text": [
      "p-value for significance is:  0.0\n",
      "reject null hypothesis\n"
     ]
    }
   ],
   "source": [
    "F, p = f_oneway(d_data[0.0], d_data[1.0], d_data[2.0])\n",
    "print(\"p-value for significance is: \", p)\n",
    "if p<0.05:\n",
    "    print(\"reject null hypothesis\")\n",
    "else:\n",
    "    print(\"accept null hypothesis\")"
   ]
  },
  {
   "cell_type": "code",
   "execution_count": 101,
   "id": "54b3be06",
   "metadata": {},
   "outputs": [
    {
     "data": {
      "text/html": [
       "<div>\n",
       "<style scoped>\n",
       "    .dataframe tbody tr th:only-of-type {\n",
       "        vertical-align: middle;\n",
       "    }\n",
       "\n",
       "    .dataframe tbody tr th {\n",
       "        vertical-align: top;\n",
       "    }\n",
       "\n",
       "    .dataframe thead th {\n",
       "        text-align: right;\n",
       "    }\n",
       "</style>\n",
       "<table border=\"1\" class=\"dataframe\">\n",
       "  <thead>\n",
       "    <tr style=\"text-align: right;\">\n",
       "      <th></th>\n",
       "      <th>id_prod</th>\n",
       "      <th>date</th>\n",
       "      <th>session_id</th>\n",
       "      <th>client_id</th>\n",
       "      <th>price</th>\n",
       "      <th>categ</th>\n",
       "      <th>sex</th>\n",
       "      <th>birth</th>\n",
       "      <th>age</th>\n",
       "    </tr>\n",
       "  </thead>\n",
       "  <tbody>\n",
       "    <tr>\n",
       "      <th>0</th>\n",
       "      <td>0_1518</td>\n",
       "      <td>2022-05-20 13:21:29.043970</td>\n",
       "      <td>s_211425</td>\n",
       "      <td>c_103</td>\n",
       "      <td>4.18</td>\n",
       "      <td>0.0</td>\n",
       "      <td>f</td>\n",
       "      <td>1986</td>\n",
       "      <td>37</td>\n",
       "    </tr>\n",
       "    <tr>\n",
       "      <th>1</th>\n",
       "      <td>0_1518</td>\n",
       "      <td>2021-07-20 13:21:29.043970</td>\n",
       "      <td>s_64849</td>\n",
       "      <td>c_103</td>\n",
       "      <td>4.18</td>\n",
       "      <td>0.0</td>\n",
       "      <td>f</td>\n",
       "      <td>1986</td>\n",
       "      <td>37</td>\n",
       "    </tr>\n",
       "    <tr>\n",
       "      <th>2</th>\n",
       "      <td>0_1518</td>\n",
       "      <td>2022-08-20 13:21:29.043970</td>\n",
       "      <td>s_255965</td>\n",
       "      <td>c_103</td>\n",
       "      <td>4.18</td>\n",
       "      <td>0.0</td>\n",
       "      <td>f</td>\n",
       "      <td>1986</td>\n",
       "      <td>37</td>\n",
       "    </tr>\n",
       "    <tr>\n",
       "      <th>3</th>\n",
       "      <td>0_1418</td>\n",
       "      <td>2022-06-18 01:49:37.823274</td>\n",
       "      <td>s_225411</td>\n",
       "      <td>c_103</td>\n",
       "      <td>8.57</td>\n",
       "      <td>0.0</td>\n",
       "      <td>f</td>\n",
       "      <td>1986</td>\n",
       "      <td>37</td>\n",
       "    </tr>\n",
       "    <tr>\n",
       "      <th>4</th>\n",
       "      <td>0_1418</td>\n",
       "      <td>2021-08-18 01:49:37.823274</td>\n",
       "      <td>s_77214</td>\n",
       "      <td>c_103</td>\n",
       "      <td>8.57</td>\n",
       "      <td>0.0</td>\n",
       "      <td>f</td>\n",
       "      <td>1986</td>\n",
       "      <td>37</td>\n",
       "    </tr>\n",
       "    <tr>\n",
       "      <th>...</th>\n",
       "      <td>...</td>\n",
       "      <td>...</td>\n",
       "      <td>...</td>\n",
       "      <td>...</td>\n",
       "      <td>...</td>\n",
       "      <td>...</td>\n",
       "      <td>...</td>\n",
       "      <td>...</td>\n",
       "      <td>...</td>\n",
       "    </tr>\n",
       "    <tr>\n",
       "      <th>679106</th>\n",
       "      <td>2_147</td>\n",
       "      <td>2021-07-23 07:01:38.963669</td>\n",
       "      <td>s_65994</td>\n",
       "      <td>c_4391</td>\n",
       "      <td>181.99</td>\n",
       "      <td>2.0</td>\n",
       "      <td>f</td>\n",
       "      <td>2001</td>\n",
       "      <td>22</td>\n",
       "    </tr>\n",
       "    <tr>\n",
       "      <th>679107</th>\n",
       "      <td>0_142</td>\n",
       "      <td>2022-03-25 18:07:25.880052</td>\n",
       "      <td>s_184472</td>\n",
       "      <td>c_1232</td>\n",
       "      <td>19.85</td>\n",
       "      <td>0.0</td>\n",
       "      <td>f</td>\n",
       "      <td>1960</td>\n",
       "      <td>63</td>\n",
       "    </tr>\n",
       "    <tr>\n",
       "      <th>679108</th>\n",
       "      <td>0_142</td>\n",
       "      <td>2021-09-25 18:07:25.880052</td>\n",
       "      <td>s_95415</td>\n",
       "      <td>c_1232</td>\n",
       "      <td>19.85</td>\n",
       "      <td>0.0</td>\n",
       "      <td>f</td>\n",
       "      <td>1960</td>\n",
       "      <td>63</td>\n",
       "    </tr>\n",
       "    <tr>\n",
       "      <th>679109</th>\n",
       "      <td>2_205</td>\n",
       "      <td>2021-03-11 00:11:32.016264</td>\n",
       "      <td>s_4605</td>\n",
       "      <td>c_7534</td>\n",
       "      <td>100.99</td>\n",
       "      <td>2.0</td>\n",
       "      <td>m</td>\n",
       "      <td>1992</td>\n",
       "      <td>31</td>\n",
       "    </tr>\n",
       "    <tr>\n",
       "      <th>679110</th>\n",
       "      <td>2_205</td>\n",
       "      <td>2022-07-11 00:11:32.016264</td>\n",
       "      <td>s_236636</td>\n",
       "      <td>c_7534</td>\n",
       "      <td>100.99</td>\n",
       "      <td>2.0</td>\n",
       "      <td>m</td>\n",
       "      <td>1992</td>\n",
       "      <td>31</td>\n",
       "    </tr>\n",
       "  </tbody>\n",
       "</table>\n",
       "<p>679111 rows × 9 columns</p>\n",
       "</div>"
      ],
      "text/plain": [
       "       id_prod                       date session_id client_id   price  categ  \\\n",
       "0       0_1518 2022-05-20 13:21:29.043970   s_211425     c_103    4.18    0.0   \n",
       "1       0_1518 2021-07-20 13:21:29.043970    s_64849     c_103    4.18    0.0   \n",
       "2       0_1518 2022-08-20 13:21:29.043970   s_255965     c_103    4.18    0.0   \n",
       "3       0_1418 2022-06-18 01:49:37.823274   s_225411     c_103    8.57    0.0   \n",
       "4       0_1418 2021-08-18 01:49:37.823274    s_77214     c_103    8.57    0.0   \n",
       "...        ...                        ...        ...       ...     ...    ...   \n",
       "679106   2_147 2021-07-23 07:01:38.963669    s_65994    c_4391  181.99    2.0   \n",
       "679107   0_142 2022-03-25 18:07:25.880052   s_184472    c_1232   19.85    0.0   \n",
       "679108   0_142 2021-09-25 18:07:25.880052    s_95415    c_1232   19.85    0.0   \n",
       "679109   2_205 2021-03-11 00:11:32.016264     s_4605    c_7534  100.99    2.0   \n",
       "679110   2_205 2022-07-11 00:11:32.016264   s_236636    c_7534  100.99    2.0   \n",
       "\n",
       "       sex  birth  age  \n",
       "0        f   1986   37  \n",
       "1        f   1986   37  \n",
       "2        f   1986   37  \n",
       "3        f   1986   37  \n",
       "4        f   1986   37  \n",
       "...     ..    ...  ...  \n",
       "679106   f   2001   22  \n",
       "679107   f   1960   63  \n",
       "679108   f   1960   63  \n",
       "679109   m   1992   31  \n",
       "679110   m   1992   31  \n",
       "\n",
       "[679111 rows x 9 columns]"
      ]
     },
     "execution_count": 101,
     "metadata": {},
     "output_type": "execute_result"
    }
   ],
   "source": [
    "df_global"
   ]
  },
  {
   "cell_type": "code",
   "execution_count": 102,
   "id": "7606a9de",
   "metadata": {},
   "outputs": [
    {
     "data": {
      "image/png": "[encoded data removed]",
      "text/plain": [
       "<Figure size 432x288 with 1 Axes>"
      ]
     },
     "metadata": {
      "needs_background": "light"
     },
     "output_type": "display_data"
    }
   ],
   "source": [
    "modalites = df_global[\"categ\"].unique()\n",
    "groupes = []\n",
    "for m in modalites:\n",
    "    groupes.append(df_global[df_global[\"categ\"]==m][\"age\"])\n",
    "\n",
    "# Propriétés graphiques (pas très importantes)    \n",
    "medianprops = {'color':\"black\"}\n",
    "meanprops = {'marker':'o', 'markeredgecolor':'black',\n",
    "            'markerfacecolor':'firebrick'}\n",
    "    \n",
    "plt.boxplot(groupes, labels=modalites, showfliers=False, medianprops=medianprops, \n",
    "            vert=False, patch_artist=True, showmeans=True, meanprops=meanprops)\n",
    "plt.show()"
   ]
  },
  {
   "cell_type": "markdown",
   "id": "18839a88",
   "metadata": {},
   "source": [
    "On peut voir de par le test statistique et de manière visuelle qu' il y a corrélation entre L'age et la catégorie de livre achétés "
   ]
  }
 ],
 "metadata": {
  "kernelspec": {
   "display_name": "Python 3 (ipykernel)",
   "language": "python",
   "name": "python3"
  },
  "language_info": {
   "codemirror_mode": {
    "name": "ipython",
    "version": 3
   },
   "file_extension": ".py",
   "mimetype": "text/x-python",
   "name": "python",
   "nbconvert_exporter": "python",
   "pygments_lexer": "ipython3",
   "version": "3.9.7"
  }
 },
 "nbformat": 4,
 "nbformat_minor": 5
}
